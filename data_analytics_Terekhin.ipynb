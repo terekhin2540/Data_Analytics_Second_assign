{
 "cells": [
  {
   "cell_type": "code",
   "execution_count": 1,
   "id": "2ce8bd54-ff9a-4126-99a2-d8adc8fed1fb",
   "metadata": {},
   "outputs": [],
   "source": [
    "import pandas as pd\n",
    "import numpy as np\n",
    "import matplotlib.pyplot as plt\n",
    "from sklearn.linear_model import LinearRegression\n",
    "from sklearn.model_selection import train_test_split\n",
    "from sklearn.metrics import mean_squared_error, mean_absolute_error, mean_absolute_percentage_error\n",
    "import datetime\n",
    "from datetime import datetime\n",
    "import calendar\n",
    "import os\n",
    "from sklearn.preprocessing import StandardScaler\n",
    "\n",
    "import spacy"
   ]
  },
  {
   "cell_type": "code",
   "execution_count": null,
   "id": "1822b109-2858-4c2b-85fb-74063f812200",
   "metadata": {},
   "outputs": [],
   "source": [
    "!pip install spacy"
   ]
  },
  {
   "cell_type": "code",
   "execution_count": 276,
   "id": "b6a142a9-4285-4e4f-82b4-c38a4739f4dc",
   "metadata": {},
   "outputs": [],
   "source": [
    "df = pd.read_csv('../05-RentACar/all_anonymized_2015_11_2017_03.csv', dtype={'body_type': str},  low_memory=False)"
   ]
  },
  {
   "cell_type": "code",
   "execution_count": 277,
   "id": "0a25ef0b-04bf-464e-ada2-ab046ea0b82a",
   "metadata": {},
   "outputs": [
    {
     "data": {
      "text/plain": [
       "Index(['maker', 'model', 'mileage', 'manufacture_year', 'engine_displacement',\n",
       "       'engine_power', 'body_type', 'color_slug', 'stk_year', 'transmission',\n",
       "       'door_count', 'seat_count', 'fuel_type', 'date_created',\n",
       "       'date_last_seen', 'price_eur'],\n",
       "      dtype='object')"
      ]
     },
     "execution_count": 277,
     "metadata": {},
     "output_type": "execute_result"
    }
   ],
   "source": [
    "df.columns"
   ]
  },
  {
   "cell_type": "code",
   "execution_count": 278,
   "id": "90468a19-e246-4632-a3ad-7c0782920d13",
   "metadata": {},
   "outputs": [
    {
     "data": {
      "text/plain": [
       "(3552912, 16)"
      ]
     },
     "execution_count": 278,
     "metadata": {},
     "output_type": "execute_result"
    }
   ],
   "source": [
    "df.shape"
   ]
  },
  {
   "cell_type": "code",
   "execution_count": 279,
   "id": "f317c823-cf67-4db7-b6ae-9b73d20a99f1",
   "metadata": {},
   "outputs": [
    {
     "data": {
      "text/html": [
       "<div>\n",
       "<style scoped>\n",
       "    .dataframe tbody tr th:only-of-type {\n",
       "        vertical-align: middle;\n",
       "    }\n",
       "\n",
       "    .dataframe tbody tr th {\n",
       "        vertical-align: top;\n",
       "    }\n",
       "\n",
       "    .dataframe thead th {\n",
       "        text-align: right;\n",
       "    }\n",
       "</style>\n",
       "<table border=\"1\" class=\"dataframe\">\n",
       "  <thead>\n",
       "    <tr style=\"text-align: right;\">\n",
       "      <th></th>\n",
       "      <th>maker</th>\n",
       "      <th>model</th>\n",
       "      <th>mileage</th>\n",
       "      <th>manufacture_year</th>\n",
       "      <th>engine_displacement</th>\n",
       "      <th>engine_power</th>\n",
       "      <th>body_type</th>\n",
       "      <th>color_slug</th>\n",
       "      <th>stk_year</th>\n",
       "      <th>transmission</th>\n",
       "      <th>door_count</th>\n",
       "      <th>seat_count</th>\n",
       "      <th>fuel_type</th>\n",
       "      <th>date_created</th>\n",
       "      <th>date_last_seen</th>\n",
       "      <th>price_eur</th>\n",
       "    </tr>\n",
       "  </thead>\n",
       "  <tbody>\n",
       "    <tr>\n",
       "      <th>0</th>\n",
       "      <td>ford</td>\n",
       "      <td>galaxy</td>\n",
       "      <td>151000.0</td>\n",
       "      <td>2011.0</td>\n",
       "      <td>2000.0</td>\n",
       "      <td>103.0</td>\n",
       "      <td>NaN</td>\n",
       "      <td>NaN</td>\n",
       "      <td>None</td>\n",
       "      <td>man</td>\n",
       "      <td>5</td>\n",
       "      <td>7</td>\n",
       "      <td>diesel</td>\n",
       "      <td>2015-11-14 18:10:06.838319+00</td>\n",
       "      <td>2016-01-27 20:40:15.46361+00</td>\n",
       "      <td>10584.75</td>\n",
       "    </tr>\n",
       "    <tr>\n",
       "      <th>1</th>\n",
       "      <td>skoda</td>\n",
       "      <td>octavia</td>\n",
       "      <td>143476.0</td>\n",
       "      <td>2012.0</td>\n",
       "      <td>2000.0</td>\n",
       "      <td>81.0</td>\n",
       "      <td>NaN</td>\n",
       "      <td>NaN</td>\n",
       "      <td>None</td>\n",
       "      <td>man</td>\n",
       "      <td>5</td>\n",
       "      <td>5</td>\n",
       "      <td>diesel</td>\n",
       "      <td>2015-11-14 18:10:06.853411+00</td>\n",
       "      <td>2016-01-27 20:40:15.46361+00</td>\n",
       "      <td>8882.31</td>\n",
       "    </tr>\n",
       "    <tr>\n",
       "      <th>2</th>\n",
       "      <td>bmw</td>\n",
       "      <td>NaN</td>\n",
       "      <td>97676.0</td>\n",
       "      <td>2010.0</td>\n",
       "      <td>1995.0</td>\n",
       "      <td>85.0</td>\n",
       "      <td>NaN</td>\n",
       "      <td>NaN</td>\n",
       "      <td>None</td>\n",
       "      <td>man</td>\n",
       "      <td>5</td>\n",
       "      <td>5</td>\n",
       "      <td>diesel</td>\n",
       "      <td>2015-11-14 18:10:06.861792+00</td>\n",
       "      <td>2016-01-27 20:40:15.46361+00</td>\n",
       "      <td>12065.06</td>\n",
       "    </tr>\n",
       "    <tr>\n",
       "      <th>3</th>\n",
       "      <td>skoda</td>\n",
       "      <td>fabia</td>\n",
       "      <td>111970.0</td>\n",
       "      <td>2004.0</td>\n",
       "      <td>1200.0</td>\n",
       "      <td>47.0</td>\n",
       "      <td>NaN</td>\n",
       "      <td>NaN</td>\n",
       "      <td>None</td>\n",
       "      <td>man</td>\n",
       "      <td>5</td>\n",
       "      <td>5</td>\n",
       "      <td>gasoline</td>\n",
       "      <td>2015-11-14 18:10:06.872313+00</td>\n",
       "      <td>2016-01-27 20:40:15.46361+00</td>\n",
       "      <td>2960.77</td>\n",
       "    </tr>\n",
       "    <tr>\n",
       "      <th>4</th>\n",
       "      <td>skoda</td>\n",
       "      <td>fabia</td>\n",
       "      <td>128886.0</td>\n",
       "      <td>2004.0</td>\n",
       "      <td>1200.0</td>\n",
       "      <td>47.0</td>\n",
       "      <td>NaN</td>\n",
       "      <td>NaN</td>\n",
       "      <td>None</td>\n",
       "      <td>man</td>\n",
       "      <td>5</td>\n",
       "      <td>5</td>\n",
       "      <td>gasoline</td>\n",
       "      <td>2015-11-14 18:10:06.880335+00</td>\n",
       "      <td>2016-01-27 20:40:15.46361+00</td>\n",
       "      <td>2738.71</td>\n",
       "    </tr>\n",
       "  </tbody>\n",
       "</table>\n",
       "</div>"
      ],
      "text/plain": [
       "   maker    model   mileage  manufacture_year  engine_displacement  \\\n",
       "0   ford   galaxy  151000.0            2011.0               2000.0   \n",
       "1  skoda  octavia  143476.0            2012.0               2000.0   \n",
       "2    bmw      NaN   97676.0            2010.0               1995.0   \n",
       "3  skoda    fabia  111970.0            2004.0               1200.0   \n",
       "4  skoda    fabia  128886.0            2004.0               1200.0   \n",
       "\n",
       "   engine_power body_type color_slug stk_year transmission door_count  \\\n",
       "0         103.0       NaN        NaN     None          man          5   \n",
       "1          81.0       NaN        NaN     None          man          5   \n",
       "2          85.0       NaN        NaN     None          man          5   \n",
       "3          47.0       NaN        NaN     None          man          5   \n",
       "4          47.0       NaN        NaN     None          man          5   \n",
       "\n",
       "  seat_count fuel_type                   date_created  \\\n",
       "0          7    diesel  2015-11-14 18:10:06.838319+00   \n",
       "1          5    diesel  2015-11-14 18:10:06.853411+00   \n",
       "2          5    diesel  2015-11-14 18:10:06.861792+00   \n",
       "3          5  gasoline  2015-11-14 18:10:06.872313+00   \n",
       "4          5  gasoline  2015-11-14 18:10:06.880335+00   \n",
       "\n",
       "                 date_last_seen  price_eur  \n",
       "0  2016-01-27 20:40:15.46361+00   10584.75  \n",
       "1  2016-01-27 20:40:15.46361+00    8882.31  \n",
       "2  2016-01-27 20:40:15.46361+00   12065.06  \n",
       "3  2016-01-27 20:40:15.46361+00    2960.77  \n",
       "4  2016-01-27 20:40:15.46361+00    2738.71  "
      ]
     },
     "execution_count": 279,
     "metadata": {},
     "output_type": "execute_result"
    }
   ],
   "source": [
    "df.head(5)"
   ]
  },
  {
   "cell_type": "code",
   "execution_count": null,
   "id": "a5bd00db-37a7-4812-802f-c4a00b830bf4",
   "metadata": {},
   "outputs": [],
   "source": []
  },
  {
   "cell_type": "code",
   "execution_count": 70,
   "id": "4018d6a3-734b-4fbf-843a-246d1789c75a",
   "metadata": {},
   "outputs": [
    {
     "name": "stdout",
     "output_type": "stream",
     "text": [
      "maker\n",
      "Number of unique values:  (47,)\n",
      "Number of null values and percentage of the total:  0 ,  0.0\n",
      "Number of empty values and percentage of the total:  518915 ,  14.605343447853478\n",
      "\n",
      "model\n",
      "Number of unique values:  (1013,)\n",
      "Number of null values and percentage of the total:  0 ,  0.0\n",
      "Number of empty values and percentage of the total:  1133361 ,  31.899495399829775\n",
      "\n",
      "mileage\n",
      "Number of unique values:  (248143,)\n",
      "Number of null values and percentage of the total:  162393 ,  4.570701441521771\n",
      "Number of empty values and percentage of the total:  362584 ,  10.205262612752582\n",
      "\n",
      "manufacture_year\n",
      "Number of unique values:  (1641,)\n",
      "Number of null values and percentage of the total:  119 ,  0.0033493652530656544\n",
      "Number of empty values and percentage of the total:  370578 ,  10.430261149164403\n",
      "\n",
      "engine_displacement\n",
      "Number of unique values:  (7273,)\n",
      "Number of null values and percentage of the total:  1 ,  2.8145926496350037e-05\n",
      "Number of empty values and percentage of the total:  743414 ,  20.924075800357567\n",
      "\n",
      "engine_power\n",
      "Number of unique values:  (642,)\n",
      "Number of null values and percentage of the total:  0 ,  0.0\n",
      "Number of empty values and percentage of the total:  554877 ,  15.617527256515217\n",
      "\n",
      "body_type\n",
      "Number of unique values:  (10,)\n",
      "Number of null values and percentage of the total:  0 ,  0.0\n",
      "Number of empty values and percentage of the total:  1122914 ,  31.605454905722404\n",
      "\n",
      "color_slug\n",
      "Number of unique values:  (15,)\n",
      "Number of null values and percentage of the total:  0 ,  0.0\n",
      "Number of empty values and percentage of the total:  3343411 ,  94.10340025308818\n",
      "\n",
      "stk_year\n",
      "Number of unique values:  (233,)\n",
      "Number of null values and percentage of the total:  0 ,  0.0\n",
      "Number of empty values and percentage of the total:  1708156 ,  48.07763322029929\n",
      "\n",
      "transmission\n",
      "Number of unique values:  (3,)\n",
      "Number of null values and percentage of the total:  0 ,  0.0\n",
      "Number of empty values and percentage of the total:  741630 ,  20.87386346748808\n",
      "\n",
      "door_count\n",
      "Number of unique values:  (20,)\n",
      "Number of null values and percentage of the total:  0 ,  0.0\n",
      "Number of empty values and percentage of the total:  614373 ,  17.29209729934206\n",
      "\n",
      "seat_count\n",
      "Number of unique values:  (59,)\n",
      "Number of null values and percentage of the total:  0 ,  0.0\n",
      "Number of empty values and percentage of the total:  749489 ,  21.095062303822893\n",
      "\n",
      "fuel_type\n",
      "Number of unique values:  (6,)\n",
      "Number of null values and percentage of the total:  0 ,  0.0\n",
      "Number of empty values and percentage of the total:  1847606 ,  52.002582670215304\n",
      "\n",
      "date_created\n",
      "Number of unique values:  (3552912,)\n",
      "Number of null values and percentage of the total:  0 ,  0.0\n",
      "Number of empty values and percentage of the total:  0 ,  0.0\n",
      "\n",
      "date_last_seen\n",
      "Number of unique values:  (3355057,)\n",
      "Number of null values and percentage of the total:  0 ,  0.0\n",
      "Number of empty values and percentage of the total:  0 ,  0.0\n",
      "\n",
      "price_eur\n",
      "Number of unique values:  (227305,)\n",
      "Number of null values and percentage of the total:  0 ,  0.0\n",
      "Number of empty values and percentage of the total:  0 ,  0.0\n",
      "\n"
     ]
    }
   ],
   "source": [
    "n = df.shape[0]\n",
    "\n",
    "def unique_values(pd_series):\n",
    "    uniques = pd_series.unique().shape\n",
    "    nulls = df[pd_series == 0].shape[0]\n",
    "    nulls_perc = nulls / n * 100\n",
    "    nans = pd_series.isna().sum()\n",
    "    nans_perc = nans / n * 100\n",
    "    return uniques, nulls, nulls_perc, nans, nans_perc\n",
    "\n",
    "\n",
    "for column in df.columns:\n",
    "    pd_series = df[column]\n",
    "    uniques, nulls, nulls_perc, nans, nans_perc = unique_values(pd_series)\n",
    "    print(column)\n",
    "    print(\"Number of unique values: \", uniques)\n",
    "    print(\"Number of null values and percentage of the total: \", nulls, \", \", nulls_perc)\n",
    "    print(\"Number of empty values and percentage of the total: \", nans, \", \", nans_perc)\n",
    "    print()\n"
   ]
  },
  {
   "cell_type": "code",
   "execution_count": null,
   "id": "ad59fbea-0e05-44b5-bd00-03dbc42f429b",
   "metadata": {},
   "outputs": [],
   "source": []
  },
  {
   "cell_type": "code",
   "execution_count": 7,
   "id": "cbf3badb-24bf-46bb-80e4-5ec342b2aa80",
   "metadata": {},
   "outputs": [
    {
     "name": "stdout",
     "output_type": "stream",
     "text": [
      "maker\n",
      "Unique values:\n",
      "ford skoda bmw nan suzuki nissan opel citroen seat kia\n",
      "\n",
      "model\n",
      "Unique values:\n",
      "galaxy octavia nan fabia favorit swift x-trail astra superb focus\n",
      "\n",
      "mileage\n",
      "Unique values:\n",
      "151000.0 143476.0 97676.0 111970.0 128886.0 140932.0 167220.0 148500.0 105389.0 301381.0\n",
      "\n",
      "manufacture_year\n",
      "Unique values:\n",
      "2011.0 2012.0 2010.0 2004.0 2003.0 2001.0 2009.0 2002.0 1998.0 2000.0\n",
      "\n",
      "engine_displacement\n",
      "Unique values:\n",
      "2000.0 1995.0 1200.0 1400.0 1900.0 1360.0 1300.0 1000.0 2500.0 1700.0\n",
      "\n",
      "engine_power\n",
      "Unique values:\n",
      "103.0 81.0 85.0 47.0 40.0 74.0 130.0 88.0 55.0 44.0\n",
      "\n",
      "body_type\n",
      "Unique values:\n",
      "nan van compact transporter coupe convertible other sedan stationwagon offroad\n",
      "\n",
      "color_slug\n",
      "Unique values:\n",
      "nan beige grey blue violet silver black white red brown\n",
      "\n",
      "stk_year\n",
      "Unique values:\n",
      "None 2017 2016 2015 2018 2107 3000 6800 7900 9500\n",
      "\n",
      "transmission\n",
      "Unique values:\n",
      "man auto nan\n",
      "\n",
      "door_count\n",
      "Unique values:\n",
      "5 3 4 None 2 6 1 7 nan 9\n",
      "\n",
      "seat_count\n",
      "Unique values:\n",
      "7 5 4 None 6 9 8 2 3 1\n",
      "\n",
      "fuel_type\n",
      "Unique values:\n",
      "diesel gasoline nan lpg cng electric\n",
      "\n",
      "price_eur\n",
      "Unique values:\n",
      "10584.75 8882.31 12065.06 2960.77 2738.71 1628.42 2072.54 10547.74 4293.12 1332.35\n",
      "\n"
     ]
    }
   ],
   "source": [
    "for column in df.columns:\n",
    "    if column in ['date_created', 'date_last_seen']:\n",
    "        pass\n",
    "    else:\n",
    "        pd_series = df[column]\n",
    "        print(column)\n",
    "        print(\"Unique values:\")\n",
    "        uniques = pd_series.unique()\n",
    "        if uniques.shape[0] > 10:\n",
    "            uniques = uniques[:10]\n",
    "        print(*uniques)\n",
    "        print()"
   ]
  },
  {
   "cell_type": "code",
   "execution_count": null,
   "id": "882bd314-e840-4203-86ac-298989778815",
   "metadata": {},
   "outputs": [],
   "source": []
  },
  {
   "cell_type": "code",
   "execution_count": 8,
   "id": "24838403-e5a1-475d-80e8-11539c997648",
   "metadata": {},
   "outputs": [
    {
     "name": "stdout",
     "output_type": "stream",
     "text": [
      "More than 0% miss: \n",
      "['maker', 'model', 'mileage', 'manufacture_year', 'engine_displacement', 'engine_power', 'body_type', 'transmission', 'door_count', 'seat_count']\n",
      "\n",
      "More than 45% miss: \n",
      "['color_slug', 'stk_year', 'fuel_type']\n"
     ]
    }
   ],
   "source": [
    "columns_with_more_than_45_miss = []\n",
    "columns_with_more_than_0_miss = []\n",
    "\n",
    "for column in df.columns:\n",
    "    pd_series = df[column]\n",
    "    nans = pd_series.isna().sum()\n",
    "    nans_perc = nans / n * 100\n",
    "    if 45 > nans_perc > 0:\n",
    "        columns_with_more_than_0_miss.append(column)\n",
    "    elif nans_perc  >= 45:\n",
    "        columns_with_more_than_45_miss.append(column)\n",
    "\n",
    "        \n",
    "print(f'More than 0% miss: \\n{columns_with_more_than_0_miss}')\n",
    "print()\n",
    "print(f'More than 45% miss: \\n{columns_with_more_than_45_miss}')"
   ]
  },
  {
   "cell_type": "code",
   "execution_count": 9,
   "id": "6db10337-948e-4935-aaaf-a78738656d0e",
   "metadata": {},
   "outputs": [
    {
     "data": {
      "text/html": [
       "<div>\n",
       "<style scoped>\n",
       "    .dataframe tbody tr th:only-of-type {\n",
       "        vertical-align: middle;\n",
       "    }\n",
       "\n",
       "    .dataframe tbody tr th {\n",
       "        vertical-align: top;\n",
       "    }\n",
       "\n",
       "    .dataframe thead th {\n",
       "        text-align: right;\n",
       "    }\n",
       "</style>\n",
       "<table border=\"1\" class=\"dataframe\">\n",
       "  <thead>\n",
       "    <tr style=\"text-align: right;\">\n",
       "      <th></th>\n",
       "      <th>color_slug</th>\n",
       "      <th>stk_year</th>\n",
       "      <th>fuel_type</th>\n",
       "    </tr>\n",
       "  </thead>\n",
       "  <tbody>\n",
       "    <tr>\n",
       "      <th>0</th>\n",
       "      <td>NaN</td>\n",
       "      <td>None</td>\n",
       "      <td>diesel</td>\n",
       "    </tr>\n",
       "    <tr>\n",
       "      <th>1</th>\n",
       "      <td>NaN</td>\n",
       "      <td>None</td>\n",
       "      <td>diesel</td>\n",
       "    </tr>\n",
       "    <tr>\n",
       "      <th>2</th>\n",
       "      <td>NaN</td>\n",
       "      <td>None</td>\n",
       "      <td>diesel</td>\n",
       "    </tr>\n",
       "    <tr>\n",
       "      <th>3</th>\n",
       "      <td>NaN</td>\n",
       "      <td>None</td>\n",
       "      <td>gasoline</td>\n",
       "    </tr>\n",
       "    <tr>\n",
       "      <th>4</th>\n",
       "      <td>NaN</td>\n",
       "      <td>None</td>\n",
       "      <td>gasoline</td>\n",
       "    </tr>\n",
       "    <tr>\n",
       "      <th>...</th>\n",
       "      <td>...</td>\n",
       "      <td>...</td>\n",
       "      <td>...</td>\n",
       "    </tr>\n",
       "    <tr>\n",
       "      <th>3552907</th>\n",
       "      <td>NaN</td>\n",
       "      <td>NaN</td>\n",
       "      <td>NaN</td>\n",
       "    </tr>\n",
       "    <tr>\n",
       "      <th>3552908</th>\n",
       "      <td>NaN</td>\n",
       "      <td>NaN</td>\n",
       "      <td>electric</td>\n",
       "    </tr>\n",
       "    <tr>\n",
       "      <th>3552909</th>\n",
       "      <td>NaN</td>\n",
       "      <td>NaN</td>\n",
       "      <td>NaN</td>\n",
       "    </tr>\n",
       "    <tr>\n",
       "      <th>3552910</th>\n",
       "      <td>NaN</td>\n",
       "      <td>NaN</td>\n",
       "      <td>NaN</td>\n",
       "    </tr>\n",
       "    <tr>\n",
       "      <th>3552911</th>\n",
       "      <td>NaN</td>\n",
       "      <td>NaN</td>\n",
       "      <td>NaN</td>\n",
       "    </tr>\n",
       "  </tbody>\n",
       "</table>\n",
       "<p>3552912 rows × 3 columns</p>\n",
       "</div>"
      ],
      "text/plain": [
       "        color_slug stk_year fuel_type\n",
       "0              NaN     None    diesel\n",
       "1              NaN     None    diesel\n",
       "2              NaN     None    diesel\n",
       "3              NaN     None  gasoline\n",
       "4              NaN     None  gasoline\n",
       "...            ...      ...       ...\n",
       "3552907        NaN      NaN       NaN\n",
       "3552908        NaN      NaN  electric\n",
       "3552909        NaN      NaN       NaN\n",
       "3552910        NaN      NaN       NaN\n",
       "3552911        NaN      NaN       NaN\n",
       "\n",
       "[3552912 rows x 3 columns]"
      ]
     },
     "execution_count": 9,
     "metadata": {},
     "output_type": "execute_result"
    }
   ],
   "source": [
    "df[columns_with_more_than_45_miss]"
   ]
  },
  {
   "cell_type": "code",
   "execution_count": null,
   "id": "7d8014de-2345-465b-a49c-0e6851671853",
   "metadata": {},
   "outputs": [],
   "source": []
  },
  {
   "cell_type": "code",
   "execution_count": 38,
   "id": "8b6a11ab-decf-47d0-9cd1-a90dec0f9f95",
   "metadata": {},
   "outputs": [],
   "source": [
    "df_45_nan = df[columns_with_more_than_45_miss]"
   ]
  },
  {
   "cell_type": "code",
   "execution_count": 39,
   "id": "75133af0-52bf-48dd-a124-63bda2673e1a",
   "metadata": {},
   "outputs": [
    {
     "name": "stdout",
     "output_type": "stream",
     "text": [
      "color_slug\n",
      "Number of unique values:  (15,)\n",
      "Number of null values and percentage of the total:  0 ,  0.0\n",
      "Number of empty values and percentage of the total:  3343411 ,  94.10340025308818\n",
      "\n",
      "stk_year\n",
      "Number of unique values:  (233,)\n",
      "Number of null values and percentage of the total:  0 ,  0.0\n",
      "Number of empty values and percentage of the total:  1708156 ,  48.07763322029929\n",
      "\n",
      "fuel_type\n",
      "Number of unique values:  (6,)\n",
      "Number of null values and percentage of the total:  0 ,  0.0\n",
      "Number of empty values and percentage of the total:  1847606 ,  52.002582670215304\n",
      "\n"
     ]
    }
   ],
   "source": [
    "for column in df_45_nan.columns:\n",
    "    pd_series = df_45_nan[column]\n",
    "    uniques, nulls, nulls_perc, nans, nans_perc = unique_values(pd_series)\n",
    "    print(column)\n",
    "    print(\"Number of unique values: \", uniques)\n",
    "    print(\"Number of null values and percentage of the total: \", nulls, \", \", nulls_perc)\n",
    "    print(\"Number of empty values and percentage of the total: \", nans, \", \", nans_perc)\n",
    "    print()\n"
   ]
  },
  {
   "cell_type": "code",
   "execution_count": null,
   "id": "4ecaffef-2a2a-4966-b8f2-bb3bab5e83a3",
   "metadata": {},
   "outputs": [],
   "source": []
  },
  {
   "cell_type": "markdown",
   "id": "2bb0eed3-c69b-4427-9fdc-57b540d2bb60",
   "metadata": {},
   "source": [
    "## Column 'color_slug' has 94% Nan values, whereas column 'fuel_type' has 52% and column 'stk_year' has 48%"
   ]
  },
  {
   "cell_type": "code",
   "execution_count": null,
   "id": "aebe5a55-f817-4cf3-adcb-e0520a5417cd",
   "metadata": {},
   "outputs": [],
   "source": []
  },
  {
   "cell_type": "code",
   "execution_count": 40,
   "id": "a83162cc-0e81-4ef9-9985-04bd536cdbc2",
   "metadata": {},
   "outputs": [
    {
     "data": {
      "text/plain": [
       "None    1308651\n",
       "2018     183761\n",
       "2017     180675\n",
       "2016     124781\n",
       "2019      44209\n",
       "         ...   \n",
       "2350          1\n",
       "6049          1\n",
       "5100          1\n",
       "7217          1\n",
       "7738          1\n",
       "Name: stk_year, Length: 232, dtype: int64"
      ]
     },
     "execution_count": 40,
     "metadata": {},
     "output_type": "execute_result"
    }
   ],
   "source": [
    "df.stk_year.value_counts()"
   ]
  },
  {
   "cell_type": "code",
   "execution_count": 122,
   "id": "af858604-bffd-4715-9822-b28f841fee5e",
   "metadata": {},
   "outputs": [
    {
     "data": {
      "text/plain": [
       "0.36833194855374973"
      ]
     },
     "execution_count": 122,
     "metadata": {},
     "output_type": "execute_result"
    }
   ],
   "source": [
    "df[df['stk_year'] == 'None']['stk_year'].count() / df.shape[0]"
   ]
  },
  {
   "cell_type": "code",
   "execution_count": 123,
   "id": "7646aab0-65b4-4750-a6f8-4343916dbf80",
   "metadata": {},
   "outputs": [
    {
     "data": {
      "text/plain": [
       "0.48077633220299293"
      ]
     },
     "execution_count": 123,
     "metadata": {},
     "output_type": "execute_result"
    }
   ],
   "source": [
    "df['stk_year'].isna().sum() / df.shape[0]"
   ]
  },
  {
   "cell_type": "code",
   "execution_count": 124,
   "id": "f5d9487d-18f0-47f4-aedb-cc7f6bf0028a",
   "metadata": {},
   "outputs": [
    {
     "data": {
      "text/plain": [
       "1708156"
      ]
     },
     "execution_count": 124,
     "metadata": {},
     "output_type": "execute_result"
    }
   ],
   "source": [
    "df['stk_year'].isna().sum()"
   ]
  },
  {
   "cell_type": "markdown",
   "id": "d37925a9-e0e0-4449-ae6d-6d3760e72e69",
   "metadata": {},
   "source": [
    "## We can see that in column 'stk_year' there are 36% of None values and 48% of Nan values"
   ]
  },
  {
   "cell_type": "markdown",
   "id": "44578a37-3ad7-4ddc-ae55-a2859adaa2fb",
   "metadata": {},
   "source": [
    "## Lets check amount of outliers"
   ]
  },
  {
   "cell_type": "code",
   "execution_count": 280,
   "id": "14655f94-7f39-4f3b-888a-738005e6cd70",
   "metadata": {},
   "outputs": [],
   "source": [
    "df['stk_year'] = df['stk_year'].replace({'None': 0})\n",
    "df['stk_year'] = df['stk_year'].fillna(0)\n",
    "df['stk_year'] = df['stk_year'].astype('int')"
   ]
  },
  {
   "cell_type": "code",
   "execution_count": 281,
   "id": "977d4c86-2580-4090-ab8b-90a6272d1baa",
   "metadata": {},
   "outputs": [
    {
     "data": {
      "text/plain": [
       "0       3016807\n",
       "2018     183761\n",
       "2017     180675\n",
       "2016     124781\n",
       "2019      44209\n",
       "2015        869\n",
       "2020        859\n",
       "2021         79\n",
       "3000         75\n",
       "2500         59\n",
       "3500         34\n",
       "2600         24\n",
       "2200         24\n",
       "7990         23\n",
       "2300         20\n",
       "2800         19\n",
       "8200         14\n",
       "7732         14\n",
       "7399         14\n",
       "7900         12\n",
       "Name: stk_year, dtype: int64"
      ]
     },
     "execution_count": 281,
     "metadata": {},
     "output_type": "execute_result"
    }
   ],
   "source": [
    "df['stk_year'].value_counts()[:20]"
   ]
  },
  {
   "cell_type": "code",
   "execution_count": 282,
   "id": "1be93e3b-a3f5-4301-95b2-5040c8090cb9",
   "metadata": {},
   "outputs": [
    {
     "data": {
      "text/plain": [
       "871"
      ]
     },
     "execution_count": 282,
     "metadata": {},
     "output_type": "execute_result"
    }
   ],
   "source": [
    "df[df['stk_year'] > 2023]['stk_year'].count()"
   ]
  },
  {
   "cell_type": "code",
   "execution_count": 283,
   "id": "7f6f0517-4629-4d0b-913e-f781c1162bfd",
   "metadata": {},
   "outputs": [
    {
     "data": {
      "text/plain": [
       "0"
      ]
     },
     "execution_count": 283,
     "metadata": {},
     "output_type": "execute_result"
    }
   ],
   "source": [
    "df[(df['stk_year'] < 1950) & (df['stk_year'] > 0)]['stk_year'].count()"
   ]
  },
  {
   "cell_type": "code",
   "execution_count": 284,
   "id": "84a15a57-5420-4f66-89a7-791fb1c7ae1c",
   "metadata": {},
   "outputs": [
    {
     "data": {
      "text/plain": [
       "0.02451510197832088"
      ]
     },
     "execution_count": 284,
     "metadata": {},
     "output_type": "execute_result"
    }
   ],
   "source": [
    "(df[df['stk_year'] > 2023]['stk_year'].count() / df.shape[0]) * 100"
   ]
  },
  {
   "cell_type": "markdown",
   "id": "13dc7e65-c356-4273-99b7-d7c3594b3c1a",
   "metadata": {},
   "source": [
    "## In column 'stk_year' we have only 871 outliers, its a very small percentage (about 0.02%)"
   ]
  },
  {
   "cell_type": "code",
   "execution_count": 285,
   "id": "1acaa34b-621f-4c61-9ab6-79b001c81cfc",
   "metadata": {},
   "outputs": [],
   "source": [
    "df = df[df['stk_year'] < 2024]"
   ]
  },
  {
   "cell_type": "code",
   "execution_count": null,
   "id": "596546a1-5a7a-474c-ba01-b52bbf4a0aba",
   "metadata": {},
   "outputs": [],
   "source": []
  },
  {
   "cell_type": "code",
   "execution_count": null,
   "id": "a18f1c5c-eb63-420e-a72b-c663456f9df3",
   "metadata": {},
   "outputs": [],
   "source": []
  },
  {
   "cell_type": "code",
   "execution_count": null,
   "id": "56bc5f2e-04ce-494c-91f0-f1446b38f3d9",
   "metadata": {},
   "outputs": [],
   "source": []
  },
  {
   "cell_type": "markdown",
   "id": "f25dfabe-63ee-4dc5-9731-35d0f00b465e",
   "metadata": {},
   "source": [
    "We think that we dont need to use column 'color_slug' while clustering"
   ]
  },
  {
   "cell_type": "code",
   "execution_count": 286,
   "id": "15cab671-510a-454a-9046-182d3b9f0c89",
   "metadata": {},
   "outputs": [],
   "source": [
    "good_columns = [col for col in df.columns if not col in['color_slug','stk_year']]\n"
   ]
  },
  {
   "cell_type": "code",
   "execution_count": 287,
   "id": "cef1f270-cf18-49df-8715-5cbadf506c6d",
   "metadata": {},
   "outputs": [],
   "source": [
    "df = df[good_columns]"
   ]
  },
  {
   "cell_type": "code",
   "execution_count": 288,
   "id": "dae2b00d-3cb2-4020-8452-4b1ea43a591d",
   "metadata": {
    "tags": []
   },
   "outputs": [
    {
     "data": {
      "text/html": [
       "<div>\n",
       "<style scoped>\n",
       "    .dataframe tbody tr th:only-of-type {\n",
       "        vertical-align: middle;\n",
       "    }\n",
       "\n",
       "    .dataframe tbody tr th {\n",
       "        vertical-align: top;\n",
       "    }\n",
       "\n",
       "    .dataframe thead th {\n",
       "        text-align: right;\n",
       "    }\n",
       "</style>\n",
       "<table border=\"1\" class=\"dataframe\">\n",
       "  <thead>\n",
       "    <tr style=\"text-align: right;\">\n",
       "      <th></th>\n",
       "      <th>maker</th>\n",
       "      <th>model</th>\n",
       "      <th>mileage</th>\n",
       "      <th>manufacture_year</th>\n",
       "      <th>engine_displacement</th>\n",
       "      <th>engine_power</th>\n",
       "      <th>body_type</th>\n",
       "      <th>transmission</th>\n",
       "      <th>door_count</th>\n",
       "      <th>seat_count</th>\n",
       "      <th>fuel_type</th>\n",
       "      <th>date_created</th>\n",
       "      <th>date_last_seen</th>\n",
       "      <th>price_eur</th>\n",
       "    </tr>\n",
       "  </thead>\n",
       "  <tbody>\n",
       "    <tr>\n",
       "      <th>0</th>\n",
       "      <td>ford</td>\n",
       "      <td>galaxy</td>\n",
       "      <td>151000.0</td>\n",
       "      <td>2011.0</td>\n",
       "      <td>2000.0</td>\n",
       "      <td>103.0</td>\n",
       "      <td>NaN</td>\n",
       "      <td>man</td>\n",
       "      <td>5</td>\n",
       "      <td>7</td>\n",
       "      <td>diesel</td>\n",
       "      <td>2015-11-14 18:10:06.838319+00</td>\n",
       "      <td>2016-01-27 20:40:15.46361+00</td>\n",
       "      <td>10584.75</td>\n",
       "    </tr>\n",
       "    <tr>\n",
       "      <th>1</th>\n",
       "      <td>skoda</td>\n",
       "      <td>octavia</td>\n",
       "      <td>143476.0</td>\n",
       "      <td>2012.0</td>\n",
       "      <td>2000.0</td>\n",
       "      <td>81.0</td>\n",
       "      <td>NaN</td>\n",
       "      <td>man</td>\n",
       "      <td>5</td>\n",
       "      <td>5</td>\n",
       "      <td>diesel</td>\n",
       "      <td>2015-11-14 18:10:06.853411+00</td>\n",
       "      <td>2016-01-27 20:40:15.46361+00</td>\n",
       "      <td>8882.31</td>\n",
       "    </tr>\n",
       "    <tr>\n",
       "      <th>2</th>\n",
       "      <td>bmw</td>\n",
       "      <td>NaN</td>\n",
       "      <td>97676.0</td>\n",
       "      <td>2010.0</td>\n",
       "      <td>1995.0</td>\n",
       "      <td>85.0</td>\n",
       "      <td>NaN</td>\n",
       "      <td>man</td>\n",
       "      <td>5</td>\n",
       "      <td>5</td>\n",
       "      <td>diesel</td>\n",
       "      <td>2015-11-14 18:10:06.861792+00</td>\n",
       "      <td>2016-01-27 20:40:15.46361+00</td>\n",
       "      <td>12065.06</td>\n",
       "    </tr>\n",
       "    <tr>\n",
       "      <th>3</th>\n",
       "      <td>skoda</td>\n",
       "      <td>fabia</td>\n",
       "      <td>111970.0</td>\n",
       "      <td>2004.0</td>\n",
       "      <td>1200.0</td>\n",
       "      <td>47.0</td>\n",
       "      <td>NaN</td>\n",
       "      <td>man</td>\n",
       "      <td>5</td>\n",
       "      <td>5</td>\n",
       "      <td>gasoline</td>\n",
       "      <td>2015-11-14 18:10:06.872313+00</td>\n",
       "      <td>2016-01-27 20:40:15.46361+00</td>\n",
       "      <td>2960.77</td>\n",
       "    </tr>\n",
       "    <tr>\n",
       "      <th>4</th>\n",
       "      <td>skoda</td>\n",
       "      <td>fabia</td>\n",
       "      <td>128886.0</td>\n",
       "      <td>2004.0</td>\n",
       "      <td>1200.0</td>\n",
       "      <td>47.0</td>\n",
       "      <td>NaN</td>\n",
       "      <td>man</td>\n",
       "      <td>5</td>\n",
       "      <td>5</td>\n",
       "      <td>gasoline</td>\n",
       "      <td>2015-11-14 18:10:06.880335+00</td>\n",
       "      <td>2016-01-27 20:40:15.46361+00</td>\n",
       "      <td>2738.71</td>\n",
       "    </tr>\n",
       "  </tbody>\n",
       "</table>\n",
       "</div>"
      ],
      "text/plain": [
       "   maker    model   mileage  manufacture_year  engine_displacement  \\\n",
       "0   ford   galaxy  151000.0            2011.0               2000.0   \n",
       "1  skoda  octavia  143476.0            2012.0               2000.0   \n",
       "2    bmw      NaN   97676.0            2010.0               1995.0   \n",
       "3  skoda    fabia  111970.0            2004.0               1200.0   \n",
       "4  skoda    fabia  128886.0            2004.0               1200.0   \n",
       "\n",
       "   engine_power body_type transmission door_count seat_count fuel_type  \\\n",
       "0         103.0       NaN          man          5          7    diesel   \n",
       "1          81.0       NaN          man          5          5    diesel   \n",
       "2          85.0       NaN          man          5          5    diesel   \n",
       "3          47.0       NaN          man          5          5  gasoline   \n",
       "4          47.0       NaN          man          5          5  gasoline   \n",
       "\n",
       "                    date_created                date_last_seen  price_eur  \n",
       "0  2015-11-14 18:10:06.838319+00  2016-01-27 20:40:15.46361+00   10584.75  \n",
       "1  2015-11-14 18:10:06.853411+00  2016-01-27 20:40:15.46361+00    8882.31  \n",
       "2  2015-11-14 18:10:06.861792+00  2016-01-27 20:40:15.46361+00   12065.06  \n",
       "3  2015-11-14 18:10:06.872313+00  2016-01-27 20:40:15.46361+00    2960.77  \n",
       "4  2015-11-14 18:10:06.880335+00  2016-01-27 20:40:15.46361+00    2738.71  "
      ]
     },
     "execution_count": 288,
     "metadata": {},
     "output_type": "execute_result"
    }
   ],
   "source": [
    "df.head()"
   ]
  },
  {
   "cell_type": "markdown",
   "id": "6ce9259a-4b13-4bde-8570-2f7c7db088b6",
   "metadata": {},
   "source": [
    "## Data preprocessing"
   ]
  },
  {
   "cell_type": "code",
   "execution_count": 289,
   "id": "e1e595cc-907e-49e6-81d0-d29887c9d14a",
   "metadata": {},
   "outputs": [
    {
     "data": {
      "text/plain": [
       "maker                   object\n",
       "model                   object\n",
       "mileage                float64\n",
       "manufacture_year       float64\n",
       "engine_displacement    float64\n",
       "engine_power           float64\n",
       "body_type               object\n",
       "transmission            object\n",
       "door_count              object\n",
       "seat_count              object\n",
       "fuel_type               object\n",
       "date_created            object\n",
       "date_last_seen          object\n",
       "price_eur              float64\n",
       "dtype: object"
      ]
     },
     "execution_count": 289,
     "metadata": {},
     "output_type": "execute_result"
    }
   ],
   "source": [
    "df.dtypes"
   ]
  },
  {
   "cell_type": "code",
   "execution_count": 290,
   "id": "b292081a-dbe4-49bc-9106-78268d0ac4c1",
   "metadata": {},
   "outputs": [
    {
     "data": {
      "text/plain": [
       "maker                   518751\n",
       "model                  1133101\n",
       "mileage                 362123\n",
       "manufacture_year        370358\n",
       "engine_displacement     742961\n",
       "engine_power            554367\n",
       "body_type              1122914\n",
       "transmission            740918\n",
       "door_count              613856\n",
       "seat_count              748972\n",
       "fuel_type              1847153\n",
       "date_created                 0\n",
       "date_last_seen               0\n",
       "price_eur                    0\n",
       "dtype: int64"
      ]
     },
     "execution_count": 290,
     "metadata": {},
     "output_type": "execute_result"
    }
   ],
   "source": [
    "df.isna().sum()"
   ]
  },
  {
   "cell_type": "code",
   "execution_count": 291,
   "id": "ca2367bc-b803-4686-a79e-7da7f045e1a8",
   "metadata": {},
   "outputs": [
    {
     "data": {
      "text/plain": [
       "array(['ford', 'skoda', 'bmw', nan, 'suzuki', 'nissan', 'opel', 'citroen',\n",
       "       'seat', 'kia', 'audi', 'rover', 'toyota', 'hyundai', 'fiat',\n",
       "       'volvo', 'chevrolet', 'mazda', 'jeep', 'mercedes-benz', 'subaru',\n",
       "       'chrysler', 'lancia', 'smart', 'honda', 'porsche', 'dodge',\n",
       "       'mitsubishi', 'mini', 'jaguar', 'lexus', 'hummer', 'bentley',\n",
       "       'tesla', 'maserati', 'isuzu', 'lamborghini', 'lotus', 'volkswagen',\n",
       "       'peugeot', 'renault', 'alfa-romeo', 'infinity', 'rolls-royce',\n",
       "       'aston-martin', 'land-rover', 'dacia'], dtype=object)"
      ]
     },
     "execution_count": 291,
     "metadata": {},
     "output_type": "execute_result"
    }
   ],
   "source": [
    "df.maker.unique()"
   ]
  },
  {
   "cell_type": "markdown",
   "id": "2e29de72-97b4-43fd-812e-6d4a37c920f5",
   "metadata": {},
   "source": [
    "## We would like to drop NaN values in maket column, because we think there is important and we dont need to replace these values with 'other'"
   ]
  },
  {
   "cell_type": "code",
   "execution_count": 292,
   "id": "97556268-a000-48d1-8d24-694ba2d04e28",
   "metadata": {},
   "outputs": [
    {
     "data": {
      "text/plain": [
       "maker                   518751\n",
       "model                  1133101\n",
       "mileage                 362123\n",
       "manufacture_year        370358\n",
       "engine_displacement     742961\n",
       "engine_power            554367\n",
       "body_type              1122914\n",
       "transmission            740918\n",
       "door_count              613856\n",
       "seat_count              748972\n",
       "fuel_type              1847153\n",
       "date_created                 0\n",
       "date_last_seen               0\n",
       "price_eur                    0\n",
       "dtype: int64"
      ]
     },
     "execution_count": 292,
     "metadata": {},
     "output_type": "execute_result"
    }
   ],
   "source": [
    "df.isna().sum()"
   ]
  },
  {
   "cell_type": "code",
   "execution_count": 294,
   "id": "ad31eebb-e51f-482c-aee5-603cfab74c01",
   "metadata": {
    "tags": []
   },
   "outputs": [],
   "source": [
    "df = df.dropna(subset=['maker'])\n",
    "\n",
    "df.model = df.model.fillna(value='other')\n",
    "\n",
    "df['date_created'] = pd.to_datetime(df['date_created'])\n",
    "df['date_last_seen'] = pd.to_datetime(df['date_last_seen'])\n",
    "\n",
    "df['time_diff_days'] = (df['date_last_seen'] - df['date_created']).dt.days\n",
    "\n",
    "df['time_diff_hours'] = ((df['date_last_seen'] - df['date_created']).dt.total_seconds() / 3600).astype('int')\n",
    "\n",
    "value_median = df.manufacture_year.median()\n",
    "df.manufacture_year = df.manufacture_year.fillna(value=value_median).astype('int')\n",
    "\n",
    "value_mean = df.mileage.mean()\n",
    "df.mileage = df.mileage.fillna(value=value_mean).astype('int')\n",
    "\n",
    "value_mean = df.engine_displacement.mean()\n",
    "df.engine_displacement = df.engine_displacement.fillna(value=value_mean).astype('int')\n",
    "\n",
    "value_mean = df.engine_power.mean()\n",
    "df.engine_power = df.engine_power.fillna(value=value_mean).astype('int')\n",
    "\n",
    "df.body_type = df.body_type.fillna(value='other')\n",
    "\n",
    "df.transmission = df.transmission.fillna('other')\n",
    "\n",
    "df['door_count'] = df['door_count'].replace({'None': -1})\n",
    "df['door_count'] = df['door_count'].fillna(-1)\n",
    "df['door_count'] = df['door_count'].astype('int')\n",
    "\n",
    "df['seat_count'] = df['seat_count'].replace({'None': -1})\n",
    "df['seat_count'] = df['seat_count'].fillna(-1)\n",
    "df['seat_count'] = df['seat_count'].astype('int')\n",
    "\n",
    "df.fuel_type = df.fuel_type.fillna(value='other')\n",
    "\n",
    "# df.color_slug = df.color_slug.fillna(value='no value')  ## may be delete this column due to 94% nan values"
   ]
  },
  {
   "cell_type": "code",
   "execution_count": 295,
   "id": "dcdeca0b-3145-4a79-a69b-832d426d2f46",
   "metadata": {},
   "outputs": [
    {
     "name": "stdout",
     "output_type": "stream",
     "text": [
      "All values in the dataset are non-Nan\n"
     ]
    }
   ],
   "source": [
    "#Finding the null values in the data set\n",
    "if np.any(df.isna().sum()) > 0:\n",
    "    print('There are Nans in datasets')\n",
    "else:\n",
    "    print('All values in the dataset are non-Nan')"
   ]
  },
  {
   "cell_type": "code",
   "execution_count": null,
   "id": "ada00c89-75c3-45ce-9b02-f5fad581c07c",
   "metadata": {},
   "outputs": [],
   "source": []
  },
  {
   "cell_type": "code",
   "execution_count": 296,
   "id": "ce8e4f24-4b7e-4198-82e3-668f2bb35764",
   "metadata": {},
   "outputs": [
    {
     "data": {
      "text/html": [
       "<div>\n",
       "<style scoped>\n",
       "    .dataframe tbody tr th:only-of-type {\n",
       "        vertical-align: middle;\n",
       "    }\n",
       "\n",
       "    .dataframe tbody tr th {\n",
       "        vertical-align: top;\n",
       "    }\n",
       "\n",
       "    .dataframe thead th {\n",
       "        text-align: right;\n",
       "    }\n",
       "</style>\n",
       "<table border=\"1\" class=\"dataframe\">\n",
       "  <thead>\n",
       "    <tr style=\"text-align: right;\">\n",
       "      <th></th>\n",
       "      <th>date_created</th>\n",
       "      <th>date_last_seen</th>\n",
       "      <th>time_diff_days</th>\n",
       "      <th>time_diff_hours</th>\n",
       "    </tr>\n",
       "  </thead>\n",
       "  <tbody>\n",
       "    <tr>\n",
       "      <th>0</th>\n",
       "      <td>2015-11-14 18:10:06.838319+00:00</td>\n",
       "      <td>2016-01-27 20:40:15.463610+00:00</td>\n",
       "      <td>74</td>\n",
       "      <td>1778</td>\n",
       "    </tr>\n",
       "    <tr>\n",
       "      <th>1</th>\n",
       "      <td>2015-11-14 18:10:06.853411+00:00</td>\n",
       "      <td>2016-01-27 20:40:15.463610+00:00</td>\n",
       "      <td>74</td>\n",
       "      <td>1778</td>\n",
       "    </tr>\n",
       "    <tr>\n",
       "      <th>2</th>\n",
       "      <td>2015-11-14 18:10:06.861792+00:00</td>\n",
       "      <td>2016-01-27 20:40:15.463610+00:00</td>\n",
       "      <td>74</td>\n",
       "      <td>1778</td>\n",
       "    </tr>\n",
       "    <tr>\n",
       "      <th>3</th>\n",
       "      <td>2015-11-14 18:10:06.872313+00:00</td>\n",
       "      <td>2016-01-27 20:40:15.463610+00:00</td>\n",
       "      <td>74</td>\n",
       "      <td>1778</td>\n",
       "    </tr>\n",
       "    <tr>\n",
       "      <th>4</th>\n",
       "      <td>2015-11-14 18:10:06.880335+00:00</td>\n",
       "      <td>2016-01-27 20:40:15.463610+00:00</td>\n",
       "      <td>74</td>\n",
       "      <td>1778</td>\n",
       "    </tr>\n",
       "    <tr>\n",
       "      <th>5</th>\n",
       "      <td>2015-11-14 18:10:06.894643+00:00</td>\n",
       "      <td>2016-01-27 20:40:15.463610+00:00</td>\n",
       "      <td>74</td>\n",
       "      <td>1778</td>\n",
       "    </tr>\n",
       "    <tr>\n",
       "      <th>6</th>\n",
       "      <td>2015-11-14 18:10:06.915376+00:00</td>\n",
       "      <td>2016-01-27 20:40:15.463610+00:00</td>\n",
       "      <td>74</td>\n",
       "      <td>1778</td>\n",
       "    </tr>\n",
       "    <tr>\n",
       "      <th>7</th>\n",
       "      <td>2015-11-14 18:10:06.924123+00:00</td>\n",
       "      <td>2016-01-27 20:40:15.463610+00:00</td>\n",
       "      <td>74</td>\n",
       "      <td>1778</td>\n",
       "    </tr>\n",
       "    <tr>\n",
       "      <th>8</th>\n",
       "      <td>2015-11-14 18:10:06.936239+00:00</td>\n",
       "      <td>2016-01-27 20:40:15.463610+00:00</td>\n",
       "      <td>74</td>\n",
       "      <td>1778</td>\n",
       "    </tr>\n",
       "    <tr>\n",
       "      <th>13</th>\n",
       "      <td>2015-11-14 18:10:07.051147+00:00</td>\n",
       "      <td>2016-01-27 20:40:15.463610+00:00</td>\n",
       "      <td>74</td>\n",
       "      <td>1778</td>\n",
       "    </tr>\n",
       "  </tbody>\n",
       "</table>\n",
       "</div>"
      ],
      "text/plain": [
       "                       date_created                   date_last_seen  \\\n",
       "0  2015-11-14 18:10:06.838319+00:00 2016-01-27 20:40:15.463610+00:00   \n",
       "1  2015-11-14 18:10:06.853411+00:00 2016-01-27 20:40:15.463610+00:00   \n",
       "2  2015-11-14 18:10:06.861792+00:00 2016-01-27 20:40:15.463610+00:00   \n",
       "3  2015-11-14 18:10:06.872313+00:00 2016-01-27 20:40:15.463610+00:00   \n",
       "4  2015-11-14 18:10:06.880335+00:00 2016-01-27 20:40:15.463610+00:00   \n",
       "5  2015-11-14 18:10:06.894643+00:00 2016-01-27 20:40:15.463610+00:00   \n",
       "6  2015-11-14 18:10:06.915376+00:00 2016-01-27 20:40:15.463610+00:00   \n",
       "7  2015-11-14 18:10:06.924123+00:00 2016-01-27 20:40:15.463610+00:00   \n",
       "8  2015-11-14 18:10:06.936239+00:00 2016-01-27 20:40:15.463610+00:00   \n",
       "13 2015-11-14 18:10:07.051147+00:00 2016-01-27 20:40:15.463610+00:00   \n",
       "\n",
       "    time_diff_days  time_diff_hours  \n",
       "0               74             1778  \n",
       "1               74             1778  \n",
       "2               74             1778  \n",
       "3               74             1778  \n",
       "4               74             1778  \n",
       "5               74             1778  \n",
       "6               74             1778  \n",
       "7               74             1778  \n",
       "8               74             1778  \n",
       "13              74             1778  "
      ]
     },
     "execution_count": 296,
     "metadata": {},
     "output_type": "execute_result"
    }
   ],
   "source": [
    "df[['date_created', 'date_last_seen', 'time_diff_days', 'time_diff_hours']].head(10)"
   ]
  },
  {
   "cell_type": "code",
   "execution_count": 148,
   "id": "f73bb5b7-a951-4f92-bdaa-86328e575aa5",
   "metadata": {},
   "outputs": [
    {
     "data": {
      "text/plain": [
       "0       96867\n",
       "1440    68947\n",
       "25      20299\n",
       "1776    16772\n",
       "3454    16272\n",
       "1775    14574\n",
       "1448    12057\n",
       "2805    11518\n",
       "3423    11395\n",
       "2760    10898\n",
       "2831    10888\n",
       "1460    10881\n",
       "2914    10647\n",
       "2765    10577\n",
       "3332    10351\n",
       "Name: time_diff_hours, dtype: int64"
      ]
     },
     "execution_count": 148,
     "metadata": {},
     "output_type": "execute_result"
    }
   ],
   "source": [
    "df['time_diff_hours'].value_counts()[:15]"
   ]
  },
  {
   "cell_type": "code",
   "execution_count": null,
   "id": "e620c2d7-cd79-4e3e-82c1-2ed57c6decc9",
   "metadata": {},
   "outputs": [],
   "source": []
  },
  {
   "cell_type": "code",
   "execution_count": 149,
   "id": "4fd07252-eb2d-4968-a0da-13df3b75fa1b",
   "metadata": {},
   "outputs": [
    {
     "data": {
      "text/plain": [
       "2976"
      ]
     },
     "execution_count": 149,
     "metadata": {},
     "output_type": "execute_result"
    }
   ],
   "source": [
    "len(df['time_diff_hours'].unique())"
   ]
  },
  {
   "cell_type": "code",
   "execution_count": 150,
   "id": "02be8019-270e-444b-9642-dbc5c9aa5d41",
   "metadata": {},
   "outputs": [
    {
     "data": {
      "text/plain": [
       "147"
      ]
     },
     "execution_count": 150,
     "metadata": {},
     "output_type": "execute_result"
    }
   ],
   "source": [
    "len(df['time_diff_days'].unique())"
   ]
  },
  {
   "cell_type": "code",
   "execution_count": null,
   "id": "bc4b1d26-19cc-4d17-bfda-e08e236ff837",
   "metadata": {},
   "outputs": [],
   "source": []
  },
  {
   "cell_type": "markdown",
   "id": "91e32d8b-1768-42e8-82b7-9310b358815e",
   "metadata": {},
   "source": [
    "## Now we are going to encode text values and make ranges of such numerical columns, where there are a lot of unique values "
   ]
  },
  {
   "cell_type": "code",
   "execution_count": null,
   "id": "327dd02d-d6ca-4612-b54f-12354cdd92c8",
   "metadata": {},
   "outputs": [],
   "source": []
  },
  {
   "cell_type": "markdown",
   "id": "1418af58-06d0-4c7e-914e-8318ab753b3a",
   "metadata": {},
   "source": [
    "## We need to encode text columns"
   ]
  },
  {
   "cell_type": "code",
   "execution_count": 297,
   "id": "5e79669b-996f-44d9-94a3-8cb6ca1023fa",
   "metadata": {},
   "outputs": [
    {
     "data": {
      "text/plain": [
       "maker                               object\n",
       "model                               object\n",
       "mileage                              int64\n",
       "manufacture_year                     int64\n",
       "engine_displacement                  int64\n",
       "engine_power                         int64\n",
       "body_type                           object\n",
       "transmission                        object\n",
       "door_count                           int64\n",
       "seat_count                           int64\n",
       "fuel_type                           object\n",
       "date_created           datetime64[ns, UTC]\n",
       "date_last_seen         datetime64[ns, UTC]\n",
       "price_eur                          float64\n",
       "time_diff_days                       int64\n",
       "time_diff_hours                      int64\n",
       "dtype: object"
      ]
     },
     "execution_count": 297,
     "metadata": {},
     "output_type": "execute_result"
    }
   ],
   "source": [
    "df.dtypes"
   ]
  },
  {
   "cell_type": "code",
   "execution_count": 298,
   "id": "c4f015ea-b0c0-4b80-80ad-d517f222fa3a",
   "metadata": {},
   "outputs": [],
   "source": [
    "df_obj = df.select_dtypes(include='object')"
   ]
  },
  {
   "cell_type": "code",
   "execution_count": 299,
   "id": "33692a87-ede7-48b5-abc4-32adcab99f82",
   "metadata": {},
   "outputs": [
    {
     "data": {
      "text/html": [
       "<div>\n",
       "<style scoped>\n",
       "    .dataframe tbody tr th:only-of-type {\n",
       "        vertical-align: middle;\n",
       "    }\n",
       "\n",
       "    .dataframe tbody tr th {\n",
       "        vertical-align: top;\n",
       "    }\n",
       "\n",
       "    .dataframe thead th {\n",
       "        text-align: right;\n",
       "    }\n",
       "</style>\n",
       "<table border=\"1\" class=\"dataframe\">\n",
       "  <thead>\n",
       "    <tr style=\"text-align: right;\">\n",
       "      <th></th>\n",
       "      <th>maker</th>\n",
       "      <th>model</th>\n",
       "      <th>body_type</th>\n",
       "      <th>transmission</th>\n",
       "      <th>fuel_type</th>\n",
       "    </tr>\n",
       "  </thead>\n",
       "  <tbody>\n",
       "    <tr>\n",
       "      <th>0</th>\n",
       "      <td>ford</td>\n",
       "      <td>galaxy</td>\n",
       "      <td>other</td>\n",
       "      <td>man</td>\n",
       "      <td>diesel</td>\n",
       "    </tr>\n",
       "    <tr>\n",
       "      <th>1</th>\n",
       "      <td>skoda</td>\n",
       "      <td>octavia</td>\n",
       "      <td>other</td>\n",
       "      <td>man</td>\n",
       "      <td>diesel</td>\n",
       "    </tr>\n",
       "    <tr>\n",
       "      <th>2</th>\n",
       "      <td>bmw</td>\n",
       "      <td>other</td>\n",
       "      <td>other</td>\n",
       "      <td>man</td>\n",
       "      <td>diesel</td>\n",
       "    </tr>\n",
       "    <tr>\n",
       "      <th>3</th>\n",
       "      <td>skoda</td>\n",
       "      <td>fabia</td>\n",
       "      <td>other</td>\n",
       "      <td>man</td>\n",
       "      <td>gasoline</td>\n",
       "    </tr>\n",
       "    <tr>\n",
       "      <th>4</th>\n",
       "      <td>skoda</td>\n",
       "      <td>fabia</td>\n",
       "      <td>other</td>\n",
       "      <td>man</td>\n",
       "      <td>gasoline</td>\n",
       "    </tr>\n",
       "    <tr>\n",
       "      <th>...</th>\n",
       "      <td>...</td>\n",
       "      <td>...</td>\n",
       "      <td>...</td>\n",
       "      <td>...</td>\n",
       "      <td>...</td>\n",
       "    </tr>\n",
       "    <tr>\n",
       "      <th>3552907</th>\n",
       "      <td>skoda</td>\n",
       "      <td>roomster</td>\n",
       "      <td>other</td>\n",
       "      <td>other</td>\n",
       "      <td>other</td>\n",
       "    </tr>\n",
       "    <tr>\n",
       "      <th>3552908</th>\n",
       "      <td>skoda</td>\n",
       "      <td>felicia</td>\n",
       "      <td>other</td>\n",
       "      <td>other</td>\n",
       "      <td>electric</td>\n",
       "    </tr>\n",
       "    <tr>\n",
       "      <th>3552909</th>\n",
       "      <td>skoda</td>\n",
       "      <td>octavia</td>\n",
       "      <td>other</td>\n",
       "      <td>other</td>\n",
       "      <td>other</td>\n",
       "    </tr>\n",
       "    <tr>\n",
       "      <th>3552910</th>\n",
       "      <td>skoda</td>\n",
       "      <td>fabia</td>\n",
       "      <td>other</td>\n",
       "      <td>other</td>\n",
       "      <td>other</td>\n",
       "    </tr>\n",
       "    <tr>\n",
       "      <th>3552911</th>\n",
       "      <td>mercedes-benz</td>\n",
       "      <td>other</td>\n",
       "      <td>other</td>\n",
       "      <td>other</td>\n",
       "      <td>other</td>\n",
       "    </tr>\n",
       "  </tbody>\n",
       "</table>\n",
       "<p>3033290 rows × 5 columns</p>\n",
       "</div>"
      ],
      "text/plain": [
       "                 maker     model body_type transmission fuel_type\n",
       "0                 ford    galaxy     other          man    diesel\n",
       "1                skoda   octavia     other          man    diesel\n",
       "2                  bmw     other     other          man    diesel\n",
       "3                skoda     fabia     other          man  gasoline\n",
       "4                skoda     fabia     other          man  gasoline\n",
       "...                ...       ...       ...          ...       ...\n",
       "3552907          skoda  roomster     other        other     other\n",
       "3552908          skoda   felicia     other        other  electric\n",
       "3552909          skoda   octavia     other        other     other\n",
       "3552910          skoda     fabia     other        other     other\n",
       "3552911  mercedes-benz     other     other        other     other\n",
       "\n",
       "[3033290 rows x 5 columns]"
      ]
     },
     "execution_count": 299,
     "metadata": {},
     "output_type": "execute_result"
    }
   ],
   "source": [
    "df_obj"
   ]
  },
  {
   "cell_type": "code",
   "execution_count": null,
   "id": "835b3411-f391-40ce-a558-3bfa0ffbec37",
   "metadata": {},
   "outputs": [],
   "source": []
  },
  {
   "cell_type": "code",
   "execution_count": 304,
   "id": "53f76566-1a9b-4122-8bca-907474cbd102",
   "metadata": {},
   "outputs": [
    {
     "name": "stdout",
     "output_type": "stream",
     "text": [
      "maker\n",
      "Number of unique values:  (46,)\n",
      "\n",
      "model\n",
      "Number of unique values:  (1013,)\n",
      "\n",
      "body_type\n",
      "Number of unique values:  (9,)\n",
      "\n",
      "transmission\n",
      "Number of unique values:  (3,)\n",
      "\n",
      "fuel_type\n",
      "Number of unique values:  (6,)\n",
      "\n"
     ]
    }
   ],
   "source": [
    "for column in df_obj.columns:\n",
    "    pd_series = df_obj[column]\n",
    "    uniques, nulls, nulls_perc, nans, nans_perc = unique_values(pd_series)\n",
    "    print(column)\n",
    "    print(\"Number of unique values: \", uniques)\n",
    "    print()\n"
   ]
  },
  {
   "cell_type": "code",
   "execution_count": 268,
   "id": "976769ce-ac8f-4bb4-80ea-39ed4f330603",
   "metadata": {},
   "outputs": [
    {
     "data": {
      "text/plain": [
       "other       1751092\n",
       "gasoline     661495\n",
       "diesel       586911\n",
       "electric      25638\n",
       "lpg            7041\n",
       "cng            1113\n",
       "Name: fuel_type, dtype: int64"
      ]
     },
     "execution_count": 268,
     "metadata": {},
     "output_type": "execute_result"
    }
   ],
   "source": [
    "df.fuel_type.value_counts()"
   ]
  },
  {
   "cell_type": "code",
   "execution_count": 301,
   "id": "33254e58-8be9-4a8f-953a-e0abd00ef062",
   "metadata": {},
   "outputs": [],
   "source": [
    "from sklearn.preprocessing import LabelEncoder, OneHotEncoder"
   ]
  },
  {
   "cell_type": "code",
   "execution_count": 308,
   "id": "0c7b548a-841d-469b-8144-24fa469a74eb",
   "metadata": {},
   "outputs": [],
   "source": [
    "cols = [col for col in df_obj.columns if col != 'model']"
   ]
  },
  {
   "cell_type": "code",
   "execution_count": 309,
   "id": "a8224b2b-f768-41d6-b48d-c3d6e99bccae",
   "metadata": {},
   "outputs": [
    {
     "data": {
      "text/plain": [
       "['maker', 'body_type', 'transmission', 'fuel_type']"
      ]
     },
     "execution_count": 309,
     "metadata": {},
     "output_type": "execute_result"
    }
   ],
   "source": [
    "cols"
   ]
  },
  {
   "cell_type": "code",
   "execution_count": 310,
   "id": "7f33e938-d0bf-46ec-9ec2-868239bb00cd",
   "metadata": {},
   "outputs": [],
   "source": [
    "df_obj = df_obj[cols]"
   ]
  },
  {
   "cell_type": "markdown",
   "id": "15a62eaf-0f5c-474e-8983-6d8584b0a028",
   "metadata": {},
   "source": [
    "## For encoding columns we are going to use OneHotEncoder, because our value dont have any order (like fuel_type diesel is better than electric). SO not to confuse the model we would prefer OneHotEncoder"
   ]
  },
  {
   "cell_type": "code",
   "execution_count": 311,
   "id": "39197e5e-bcd1-4b7b-9748-3e31096e265b",
   "metadata": {},
   "outputs": [
    {
     "name": "stderr",
     "output_type": "stream",
     "text": [
      "/Users/terekhind/opt/anaconda3/lib/python3.9/site-packages/sklearn/utils/deprecation.py:87: FutureWarning: Function get_feature_names is deprecated; get_feature_names is deprecated in 1.0 and will be removed in 1.2. Please use get_feature_names_out instead.\n",
      "  warnings.warn(msg, category=FutureWarning)\n"
     ]
    }
   ],
   "source": [
    "ohe = OneHotEncoder()\n",
    "obj_cols_encoded = ohe.fit_transform(df_obj)\n",
    "obj_cols_encoded_df = pd.DataFrame(obj_cols_encoded.toarray(), columns=ohe.get_feature_names(df_obj.columns))"
   ]
  },
  {
   "cell_type": "code",
   "execution_count": 312,
   "id": "69df05f0-454d-4d9b-953c-fc09bf43f3ae",
   "metadata": {},
   "outputs": [
    {
     "data": {
      "text/html": [
       "<div>\n",
       "<style scoped>\n",
       "    .dataframe tbody tr th:only-of-type {\n",
       "        vertical-align: middle;\n",
       "    }\n",
       "\n",
       "    .dataframe tbody tr th {\n",
       "        vertical-align: top;\n",
       "    }\n",
       "\n",
       "    .dataframe thead th {\n",
       "        text-align: right;\n",
       "    }\n",
       "</style>\n",
       "<table border=\"1\" class=\"dataframe\">\n",
       "  <thead>\n",
       "    <tr style=\"text-align: right;\">\n",
       "      <th></th>\n",
       "      <th>maker_alfa-romeo</th>\n",
       "      <th>maker_aston-martin</th>\n",
       "      <th>maker_audi</th>\n",
       "      <th>maker_bentley</th>\n",
       "      <th>maker_bmw</th>\n",
       "      <th>maker_chevrolet</th>\n",
       "      <th>maker_chrysler</th>\n",
       "      <th>maker_citroen</th>\n",
       "      <th>maker_dacia</th>\n",
       "      <th>maker_dodge</th>\n",
       "      <th>...</th>\n",
       "      <th>body_type_van</th>\n",
       "      <th>transmission_auto</th>\n",
       "      <th>transmission_man</th>\n",
       "      <th>transmission_other</th>\n",
       "      <th>fuel_type_cng</th>\n",
       "      <th>fuel_type_diesel</th>\n",
       "      <th>fuel_type_electric</th>\n",
       "      <th>fuel_type_gasoline</th>\n",
       "      <th>fuel_type_lpg</th>\n",
       "      <th>fuel_type_other</th>\n",
       "    </tr>\n",
       "  </thead>\n",
       "  <tbody>\n",
       "    <tr>\n",
       "      <th>0</th>\n",
       "      <td>0.0</td>\n",
       "      <td>0.0</td>\n",
       "      <td>0.0</td>\n",
       "      <td>0.0</td>\n",
       "      <td>0.0</td>\n",
       "      <td>0.0</td>\n",
       "      <td>0.0</td>\n",
       "      <td>0.0</td>\n",
       "      <td>0.0</td>\n",
       "      <td>0.0</td>\n",
       "      <td>...</td>\n",
       "      <td>0.0</td>\n",
       "      <td>0.0</td>\n",
       "      <td>1.0</td>\n",
       "      <td>0.0</td>\n",
       "      <td>0.0</td>\n",
       "      <td>1.0</td>\n",
       "      <td>0.0</td>\n",
       "      <td>0.0</td>\n",
       "      <td>0.0</td>\n",
       "      <td>0.0</td>\n",
       "    </tr>\n",
       "    <tr>\n",
       "      <th>1</th>\n",
       "      <td>0.0</td>\n",
       "      <td>0.0</td>\n",
       "      <td>0.0</td>\n",
       "      <td>0.0</td>\n",
       "      <td>0.0</td>\n",
       "      <td>0.0</td>\n",
       "      <td>0.0</td>\n",
       "      <td>0.0</td>\n",
       "      <td>0.0</td>\n",
       "      <td>0.0</td>\n",
       "      <td>...</td>\n",
       "      <td>0.0</td>\n",
       "      <td>0.0</td>\n",
       "      <td>1.0</td>\n",
       "      <td>0.0</td>\n",
       "      <td>0.0</td>\n",
       "      <td>1.0</td>\n",
       "      <td>0.0</td>\n",
       "      <td>0.0</td>\n",
       "      <td>0.0</td>\n",
       "      <td>0.0</td>\n",
       "    </tr>\n",
       "    <tr>\n",
       "      <th>2</th>\n",
       "      <td>0.0</td>\n",
       "      <td>0.0</td>\n",
       "      <td>0.0</td>\n",
       "      <td>0.0</td>\n",
       "      <td>1.0</td>\n",
       "      <td>0.0</td>\n",
       "      <td>0.0</td>\n",
       "      <td>0.0</td>\n",
       "      <td>0.0</td>\n",
       "      <td>0.0</td>\n",
       "      <td>...</td>\n",
       "      <td>0.0</td>\n",
       "      <td>0.0</td>\n",
       "      <td>1.0</td>\n",
       "      <td>0.0</td>\n",
       "      <td>0.0</td>\n",
       "      <td>1.0</td>\n",
       "      <td>0.0</td>\n",
       "      <td>0.0</td>\n",
       "      <td>0.0</td>\n",
       "      <td>0.0</td>\n",
       "    </tr>\n",
       "    <tr>\n",
       "      <th>3</th>\n",
       "      <td>0.0</td>\n",
       "      <td>0.0</td>\n",
       "      <td>0.0</td>\n",
       "      <td>0.0</td>\n",
       "      <td>0.0</td>\n",
       "      <td>0.0</td>\n",
       "      <td>0.0</td>\n",
       "      <td>0.0</td>\n",
       "      <td>0.0</td>\n",
       "      <td>0.0</td>\n",
       "      <td>...</td>\n",
       "      <td>0.0</td>\n",
       "      <td>0.0</td>\n",
       "      <td>1.0</td>\n",
       "      <td>0.0</td>\n",
       "      <td>0.0</td>\n",
       "      <td>0.0</td>\n",
       "      <td>0.0</td>\n",
       "      <td>1.0</td>\n",
       "      <td>0.0</td>\n",
       "      <td>0.0</td>\n",
       "    </tr>\n",
       "    <tr>\n",
       "      <th>4</th>\n",
       "      <td>0.0</td>\n",
       "      <td>0.0</td>\n",
       "      <td>0.0</td>\n",
       "      <td>0.0</td>\n",
       "      <td>0.0</td>\n",
       "      <td>0.0</td>\n",
       "      <td>0.0</td>\n",
       "      <td>0.0</td>\n",
       "      <td>0.0</td>\n",
       "      <td>0.0</td>\n",
       "      <td>...</td>\n",
       "      <td>0.0</td>\n",
       "      <td>0.0</td>\n",
       "      <td>1.0</td>\n",
       "      <td>0.0</td>\n",
       "      <td>0.0</td>\n",
       "      <td>0.0</td>\n",
       "      <td>0.0</td>\n",
       "      <td>1.0</td>\n",
       "      <td>0.0</td>\n",
       "      <td>0.0</td>\n",
       "    </tr>\n",
       "  </tbody>\n",
       "</table>\n",
       "<p>5 rows × 64 columns</p>\n",
       "</div>"
      ],
      "text/plain": [
       "   maker_alfa-romeo  maker_aston-martin  maker_audi  maker_bentley  maker_bmw  \\\n",
       "0               0.0                 0.0         0.0            0.0        0.0   \n",
       "1               0.0                 0.0         0.0            0.0        0.0   \n",
       "2               0.0                 0.0         0.0            0.0        1.0   \n",
       "3               0.0                 0.0         0.0            0.0        0.0   \n",
       "4               0.0                 0.0         0.0            0.0        0.0   \n",
       "\n",
       "   maker_chevrolet  maker_chrysler  maker_citroen  maker_dacia  maker_dodge  \\\n",
       "0              0.0             0.0            0.0          0.0          0.0   \n",
       "1              0.0             0.0            0.0          0.0          0.0   \n",
       "2              0.0             0.0            0.0          0.0          0.0   \n",
       "3              0.0             0.0            0.0          0.0          0.0   \n",
       "4              0.0             0.0            0.0          0.0          0.0   \n",
       "\n",
       "   ...  body_type_van  transmission_auto  transmission_man  \\\n",
       "0  ...            0.0                0.0               1.0   \n",
       "1  ...            0.0                0.0               1.0   \n",
       "2  ...            0.0                0.0               1.0   \n",
       "3  ...            0.0                0.0               1.0   \n",
       "4  ...            0.0                0.0               1.0   \n",
       "\n",
       "   transmission_other  fuel_type_cng  fuel_type_diesel  fuel_type_electric  \\\n",
       "0                 0.0            0.0               1.0                 0.0   \n",
       "1                 0.0            0.0               1.0                 0.0   \n",
       "2                 0.0            0.0               1.0                 0.0   \n",
       "3                 0.0            0.0               0.0                 0.0   \n",
       "4                 0.0            0.0               0.0                 0.0   \n",
       "\n",
       "   fuel_type_gasoline  fuel_type_lpg  fuel_type_other  \n",
       "0                 0.0            0.0              0.0  \n",
       "1                 0.0            0.0              0.0  \n",
       "2                 0.0            0.0              0.0  \n",
       "3                 1.0            0.0              0.0  \n",
       "4                 1.0            0.0              0.0  \n",
       "\n",
       "[5 rows x 64 columns]"
      ]
     },
     "execution_count": 312,
     "metadata": {},
     "output_type": "execute_result"
    }
   ],
   "source": [
    "obj_cols_encoded_df.head(5)"
   ]
  },
  {
   "cell_type": "code",
   "execution_count": null,
   "id": "b75b9aed-04ea-4ed2-8080-1b8858e3dd88",
   "metadata": {},
   "outputs": [],
   "source": []
  },
  {
   "cell_type": "code",
   "execution_count": null,
   "id": "09962ed4-fa99-4b69-8c66-25b1fd3b7cd0",
   "metadata": {},
   "outputs": [],
   "source": []
  },
  {
   "cell_type": "code",
   "execution_count": null,
   "id": "f6ee84bf-84f9-46f1-b925-6e45779a4504",
   "metadata": {},
   "outputs": [],
   "source": []
  },
  {
   "cell_type": "markdown",
   "id": "2b387425-3aba-47dd-9f5d-adbb617cb3a7",
   "metadata": {},
   "source": [
    "## For 'model' column we have more than 1000 unique values. For encoding it and not having 1500 columns we can use pre-trained GloVe word embedding model from 'spacy library'"
   ]
  },
  {
   "cell_type": "code",
   "execution_count": 313,
   "id": "002bfe97-b9f0-4879-9fcf-e57870ebf52e",
   "metadata": {},
   "outputs": [
    {
     "data": {
      "text/plain": [
       "other      614350\n",
       "octavia    129500\n",
       "fabia       91363\n",
       "golf        91215\n",
       "focus       61118\n",
       "astra       58370\n",
       "a3          50821\n",
       "passat      50562\n",
       "corsa       46466\n",
       "fiesta      34897\n",
       "Name: model, dtype: int64"
      ]
     },
     "execution_count": 313,
     "metadata": {},
     "output_type": "execute_result"
    }
   ],
   "source": [
    "df.model.value_counts()[:10]"
   ]
  },
  {
   "cell_type": "code",
   "execution_count": 165,
   "id": "eed664b0-7b83-4ff3-8281-b44e00c674c1",
   "metadata": {
    "collapsed": true,
    "jupyter": {
     "outputs_hidden": true
    },
    "tags": []
   },
   "outputs": [
    {
     "name": "stdout",
     "output_type": "stream",
     "text": [
      "Collecting en-core-web-md==3.5.0\n",
      "  Downloading https://github.com/explosion/spacy-models/releases/download/en_core_web_md-3.5.0/en_core_web_md-3.5.0-py3-none-any.whl (42.8 MB)\n",
      "\u001b[2K     \u001b[90m━━━━━━━━━━━━━━━━━━━━━━━━━━━━━━━━━━━━━━━━\u001b[0m \u001b[32m42.8/42.8 MB\u001b[0m \u001b[31m11.4 MB/s\u001b[0m eta \u001b[36m0:00:00\u001b[0m00:01\u001b[0m00:01\u001b[0m\n",
      "\u001b[?25hRequirement already satisfied: spacy<3.6.0,>=3.5.0 in /Users/terekhind/opt/anaconda3/lib/python3.9/site-packages (from en-core-web-md==3.5.0) (3.5.2)\n",
      "Requirement already satisfied: pydantic!=1.8,!=1.8.1,<1.11.0,>=1.7.4 in /Users/terekhind/opt/anaconda3/lib/python3.9/site-packages (from spacy<3.6.0,>=3.5.0->en-core-web-md==3.5.0) (1.10.7)\n",
      "Requirement already satisfied: srsly<3.0.0,>=2.4.3 in /Users/terekhind/opt/anaconda3/lib/python3.9/site-packages (from spacy<3.6.0,>=3.5.0->en-core-web-md==3.5.0) (2.4.6)\n",
      "Requirement already satisfied: pathy>=0.10.0 in /Users/terekhind/opt/anaconda3/lib/python3.9/site-packages (from spacy<3.6.0,>=3.5.0->en-core-web-md==3.5.0) (0.10.1)\n",
      "Requirement already satisfied: cymem<2.1.0,>=2.0.2 in /Users/terekhind/opt/anaconda3/lib/python3.9/site-packages (from spacy<3.6.0,>=3.5.0->en-core-web-md==3.5.0) (2.0.7)\n",
      "Requirement already satisfied: typer<0.8.0,>=0.3.0 in /Users/terekhind/opt/anaconda3/lib/python3.9/site-packages (from spacy<3.6.0,>=3.5.0->en-core-web-md==3.5.0) (0.7.0)\n",
      "Requirement already satisfied: numpy>=1.15.0 in /Users/terekhind/opt/anaconda3/lib/python3.9/site-packages (from spacy<3.6.0,>=3.5.0->en-core-web-md==3.5.0) (1.21.5)\n",
      "Requirement already satisfied: requests<3.0.0,>=2.13.0 in /Users/terekhind/opt/anaconda3/lib/python3.9/site-packages (from spacy<3.6.0,>=3.5.0->en-core-web-md==3.5.0) (2.28.1)\n",
      "Requirement already satisfied: jinja2 in /Users/terekhind/opt/anaconda3/lib/python3.9/site-packages (from spacy<3.6.0,>=3.5.0->en-core-web-md==3.5.0) (2.11.3)\n",
      "Requirement already satisfied: spacy-loggers<2.0.0,>=1.0.0 in /Users/terekhind/opt/anaconda3/lib/python3.9/site-packages (from spacy<3.6.0,>=3.5.0->en-core-web-md==3.5.0) (1.0.4)\n",
      "Requirement already satisfied: langcodes<4.0.0,>=3.2.0 in /Users/terekhind/opt/anaconda3/lib/python3.9/site-packages (from spacy<3.6.0,>=3.5.0->en-core-web-md==3.5.0) (3.3.0)\n",
      "Requirement already satisfied: murmurhash<1.1.0,>=0.28.0 in /Users/terekhind/opt/anaconda3/lib/python3.9/site-packages (from spacy<3.6.0,>=3.5.0->en-core-web-md==3.5.0) (1.0.9)\n",
      "Requirement already satisfied: tqdm<5.0.0,>=4.38.0 in /Users/terekhind/opt/anaconda3/lib/python3.9/site-packages (from spacy<3.6.0,>=3.5.0->en-core-web-md==3.5.0) (4.64.1)\n",
      "Requirement already satisfied: spacy-legacy<3.1.0,>=3.0.11 in /Users/terekhind/opt/anaconda3/lib/python3.9/site-packages (from spacy<3.6.0,>=3.5.0->en-core-web-md==3.5.0) (3.0.12)\n",
      "Requirement already satisfied: wasabi<1.2.0,>=0.9.1 in /Users/terekhind/opt/anaconda3/lib/python3.9/site-packages (from spacy<3.6.0,>=3.5.0->en-core-web-md==3.5.0) (1.1.1)\n",
      "Requirement already satisfied: preshed<3.1.0,>=3.0.2 in /Users/terekhind/opt/anaconda3/lib/python3.9/site-packages (from spacy<3.6.0,>=3.5.0->en-core-web-md==3.5.0) (3.0.8)\n",
      "Requirement already satisfied: catalogue<2.1.0,>=2.0.6 in /Users/terekhind/opt/anaconda3/lib/python3.9/site-packages (from spacy<3.6.0,>=3.5.0->en-core-web-md==3.5.0) (2.0.8)\n",
      "Requirement already satisfied: thinc<8.2.0,>=8.1.8 in /Users/terekhind/opt/anaconda3/lib/python3.9/site-packages (from spacy<3.6.0,>=3.5.0->en-core-web-md==3.5.0) (8.1.10)\n",
      "Requirement already satisfied: smart-open<7.0.0,>=5.2.1 in /Users/terekhind/opt/anaconda3/lib/python3.9/site-packages (from spacy<3.6.0,>=3.5.0->en-core-web-md==3.5.0) (5.2.1)\n",
      "Requirement already satisfied: packaging>=20.0 in /Users/terekhind/opt/anaconda3/lib/python3.9/site-packages (from spacy<3.6.0,>=3.5.0->en-core-web-md==3.5.0) (21.3)\n",
      "Requirement already satisfied: setuptools in /Users/terekhind/opt/anaconda3/lib/python3.9/site-packages (from spacy<3.6.0,>=3.5.0->en-core-web-md==3.5.0) (63.4.1)\n",
      "Requirement already satisfied: pyparsing!=3.0.5,>=2.0.2 in /Users/terekhind/opt/anaconda3/lib/python3.9/site-packages (from packaging>=20.0->spacy<3.6.0,>=3.5.0->en-core-web-md==3.5.0) (3.0.9)\n",
      "Requirement already satisfied: typing-extensions>=4.2.0 in /Users/terekhind/opt/anaconda3/lib/python3.9/site-packages (from pydantic!=1.8,!=1.8.1,<1.11.0,>=1.7.4->spacy<3.6.0,>=3.5.0->en-core-web-md==3.5.0) (4.3.0)\n",
      "Requirement already satisfied: charset-normalizer<3,>=2 in /Users/terekhind/opt/anaconda3/lib/python3.9/site-packages (from requests<3.0.0,>=2.13.0->spacy<3.6.0,>=3.5.0->en-core-web-md==3.5.0) (2.0.4)\n",
      "Requirement already satisfied: certifi>=2017.4.17 in /Users/terekhind/opt/anaconda3/lib/python3.9/site-packages (from requests<3.0.0,>=2.13.0->spacy<3.6.0,>=3.5.0->en-core-web-md==3.5.0) (2022.9.24)\n",
      "Requirement already satisfied: idna<4,>=2.5 in /Users/terekhind/opt/anaconda3/lib/python3.9/site-packages (from requests<3.0.0,>=2.13.0->spacy<3.6.0,>=3.5.0->en-core-web-md==3.5.0) (3.3)\n",
      "Requirement already satisfied: urllib3<1.27,>=1.21.1 in /Users/terekhind/opt/anaconda3/lib/python3.9/site-packages (from requests<3.0.0,>=2.13.0->spacy<3.6.0,>=3.5.0->en-core-web-md==3.5.0) (1.26.11)\n",
      "Requirement already satisfied: confection<1.0.0,>=0.0.1 in /Users/terekhind/opt/anaconda3/lib/python3.9/site-packages (from thinc<8.2.0,>=8.1.8->spacy<3.6.0,>=3.5.0->en-core-web-md==3.5.0) (0.0.4)\n",
      "Requirement already satisfied: blis<0.8.0,>=0.7.8 in /Users/terekhind/opt/anaconda3/lib/python3.9/site-packages (from thinc<8.2.0,>=8.1.8->spacy<3.6.0,>=3.5.0->en-core-web-md==3.5.0) (0.7.9)\n",
      "Requirement already satisfied: click<9.0.0,>=7.1.1 in /Users/terekhind/opt/anaconda3/lib/python3.9/site-packages (from typer<0.8.0,>=0.3.0->spacy<3.6.0,>=3.5.0->en-core-web-md==3.5.0) (8.0.4)\n",
      "Requirement already satisfied: MarkupSafe>=0.23 in /Users/terekhind/opt/anaconda3/lib/python3.9/site-packages (from jinja2->spacy<3.6.0,>=3.5.0->en-core-web-md==3.5.0) (2.0.1)\n",
      "Installing collected packages: en-core-web-md\n",
      "Successfully installed en-core-web-md-3.5.0\n",
      "\u001b[38;5;2m✔ Download and installation successful\u001b[0m\n",
      "You can now load the package via spacy.load('en_core_web_md')\n"
     ]
    }
   ],
   "source": [
    "! python -m spacy download en_core_web_md"
   ]
  },
  {
   "cell_type": "code",
   "execution_count": 163,
   "id": "c3b885e4-624a-42df-81fd-8e6b15d7b70d",
   "metadata": {},
   "outputs": [],
   "source": [
    "import spacy"
   ]
  },
  {
   "cell_type": "code",
   "execution_count": 166,
   "id": "d5da487a-3f9a-4bdf-8489-41d94f6f87bf",
   "metadata": {},
   "outputs": [],
   "source": [
    "nlp = spacy.load(\"en_core_web_md\")"
   ]
  },
  {
   "cell_type": "code",
   "execution_count": 314,
   "id": "887fe4f1-5150-49fc-baed-ee82f4c55f50",
   "metadata": {},
   "outputs": [],
   "source": [
    "df_model_only = df[['model','maker']]"
   ]
  },
  {
   "cell_type": "code",
   "execution_count": 315,
   "id": "a2741a37-76ad-4b3a-adcc-457566409d6a",
   "metadata": {},
   "outputs": [],
   "source": [
    "df_model_only = df_model_only.drop_duplicates()"
   ]
  },
  {
   "cell_type": "code",
   "execution_count": 316,
   "id": "e594a9bf-29dc-48d5-87a4-287efadfe391",
   "metadata": {},
   "outputs": [
    {
     "data": {
      "text/html": [
       "<div>\n",
       "<style scoped>\n",
       "    .dataframe tbody tr th:only-of-type {\n",
       "        vertical-align: middle;\n",
       "    }\n",
       "\n",
       "    .dataframe tbody tr th {\n",
       "        vertical-align: top;\n",
       "    }\n",
       "\n",
       "    .dataframe thead th {\n",
       "        text-align: right;\n",
       "    }\n",
       "</style>\n",
       "<table border=\"1\" class=\"dataframe\">\n",
       "  <thead>\n",
       "    <tr style=\"text-align: right;\">\n",
       "      <th></th>\n",
       "      <th>model</th>\n",
       "      <th>maker</th>\n",
       "    </tr>\n",
       "  </thead>\n",
       "  <tbody>\n",
       "    <tr>\n",
       "      <th>0</th>\n",
       "      <td>galaxy</td>\n",
       "      <td>ford</td>\n",
       "    </tr>\n",
       "    <tr>\n",
       "      <th>1</th>\n",
       "      <td>octavia</td>\n",
       "      <td>skoda</td>\n",
       "    </tr>\n",
       "    <tr>\n",
       "      <th>2</th>\n",
       "      <td>other</td>\n",
       "      <td>bmw</td>\n",
       "    </tr>\n",
       "    <tr>\n",
       "      <th>3</th>\n",
       "      <td>fabia</td>\n",
       "      <td>skoda</td>\n",
       "    </tr>\n",
       "    <tr>\n",
       "      <th>13</th>\n",
       "      <td>favorit</td>\n",
       "      <td>skoda</td>\n",
       "    </tr>\n",
       "    <tr>\n",
       "      <th>...</th>\n",
       "      <td>...</td>\n",
       "      <td>...</td>\n",
       "    </tr>\n",
       "    <tr>\n",
       "      <th>3458503</th>\n",
       "      <td>cls250-cdi</td>\n",
       "      <td>mercedes-benz</td>\n",
       "    </tr>\n",
       "    <tr>\n",
       "      <th>3463665</th>\n",
       "      <td>ml250-cdi</td>\n",
       "      <td>mercedes-benz</td>\n",
       "    </tr>\n",
       "    <tr>\n",
       "      <th>3469812</th>\n",
       "      <td>125d</td>\n",
       "      <td>bmw</td>\n",
       "    </tr>\n",
       "    <tr>\n",
       "      <th>3504549</th>\n",
       "      <td>glk200-cdi</td>\n",
       "      <td>mercedes-benz</td>\n",
       "    </tr>\n",
       "    <tr>\n",
       "      <th>3539868</th>\n",
       "      <td>760i</td>\n",
       "      <td>bmw</td>\n",
       "    </tr>\n",
       "  </tbody>\n",
       "</table>\n",
       "<p>1213 rows × 2 columns</p>\n",
       "</div>"
      ],
      "text/plain": [
       "              model          maker\n",
       "0            galaxy           ford\n",
       "1           octavia          skoda\n",
       "2             other            bmw\n",
       "3             fabia          skoda\n",
       "13          favorit          skoda\n",
       "...             ...            ...\n",
       "3458503  cls250-cdi  mercedes-benz\n",
       "3463665   ml250-cdi  mercedes-benz\n",
       "3469812        125d            bmw\n",
       "3504549  glk200-cdi  mercedes-benz\n",
       "3539868        760i            bmw\n",
       "\n",
       "[1213 rows x 2 columns]"
      ]
     },
     "execution_count": 316,
     "metadata": {},
     "output_type": "execute_result"
    }
   ],
   "source": [
    "df_model_only"
   ]
  },
  {
   "cell_type": "code",
   "execution_count": 318,
   "id": "6fa8bc3e-5270-47e2-b1e6-4530cba23462",
   "metadata": {},
   "outputs": [],
   "source": [
    "vectors = np.array([nlp(model).vector for model in df_model_only.model])"
   ]
  },
  {
   "cell_type": "code",
   "execution_count": 172,
   "id": "b586c1e0-435a-401e-b97d-30cea0f87a5b",
   "metadata": {},
   "outputs": [],
   "source": [
    "# vectors = np.array([nlp(model).vector for model in df['model']])"
   ]
  },
  {
   "cell_type": "code",
   "execution_count": 319,
   "id": "b04e979e-703c-41ae-aa5b-e46bf6b6f33e",
   "metadata": {},
   "outputs": [
    {
     "data": {
      "text/plain": [
       "array([[-0.2007    ,  0.90223   , -3.8486    , ..., -2.5062    ,\n",
       "        -2.2094    ,  1.5681    ],\n",
       "       [ 4.7219    ,  3.2212    ,  4.2298    , ..., -1.8015    ,\n",
       "        -2.0344    ,  1.475     ],\n",
       "       [-2.2261    , -4.0504    , -3.5597    , ..., -6.9324    ,\n",
       "        -3.3891    ,  1.8745    ],\n",
       "       ...,\n",
       "       [ 0.        ,  0.        ,  0.        , ...,  0.        ,\n",
       "         0.        ,  0.        ],\n",
       "       [-1.5161201 ,  1.7218    , -0.9456666 , ...,  0.99539995,\n",
       "        -0.7343667 , -1.6728988 ],\n",
       "       [ 0.        ,  0.        ,  0.        , ...,  0.        ,\n",
       "         0.        ,  0.        ]], dtype=float32)"
      ]
     },
     "execution_count": 319,
     "metadata": {},
     "output_type": "execute_result"
    }
   ],
   "source": [
    "vectors"
   ]
  },
  {
   "cell_type": "code",
   "execution_count": 320,
   "id": "0a925aac-e4d1-4276-a839-cb6dddd1d590",
   "metadata": {},
   "outputs": [],
   "source": [
    "df_model_only['model_array'] = list(vectors)"
   ]
  },
  {
   "cell_type": "code",
   "execution_count": 322,
   "id": "0f6a83c3-37ee-42f9-853d-03cb4ea0adc3",
   "metadata": {},
   "outputs": [
    {
     "data": {
      "text/html": [
       "<div>\n",
       "<style scoped>\n",
       "    .dataframe tbody tr th:only-of-type {\n",
       "        vertical-align: middle;\n",
       "    }\n",
       "\n",
       "    .dataframe tbody tr th {\n",
       "        vertical-align: top;\n",
       "    }\n",
       "\n",
       "    .dataframe thead th {\n",
       "        text-align: right;\n",
       "    }\n",
       "</style>\n",
       "<table border=\"1\" class=\"dataframe\">\n",
       "  <thead>\n",
       "    <tr style=\"text-align: right;\">\n",
       "      <th></th>\n",
       "      <th>model</th>\n",
       "      <th>maker</th>\n",
       "      <th>model_array</th>\n",
       "    </tr>\n",
       "  </thead>\n",
       "  <tbody>\n",
       "    <tr>\n",
       "      <th>0</th>\n",
       "      <td>galaxy</td>\n",
       "      <td>ford</td>\n",
       "      <td>[-0.2007, 0.90223, -3.8486, -0.41919, -0.65521...</td>\n",
       "    </tr>\n",
       "    <tr>\n",
       "      <th>1</th>\n",
       "      <td>octavia</td>\n",
       "      <td>skoda</td>\n",
       "      <td>[4.7219, 3.2212, 4.2298, -2.5683, -1.5045, 0.3...</td>\n",
       "    </tr>\n",
       "    <tr>\n",
       "      <th>2</th>\n",
       "      <td>other</td>\n",
       "      <td>bmw</td>\n",
       "      <td>[-2.2261, -4.0504, -3.5597, 0.20352, 3.4045, 4...</td>\n",
       "    </tr>\n",
       "  </tbody>\n",
       "</table>\n",
       "</div>"
      ],
      "text/plain": [
       "     model  maker                                        model_array\n",
       "0   galaxy   ford  [-0.2007, 0.90223, -3.8486, -0.41919, -0.65521...\n",
       "1  octavia  skoda  [4.7219, 3.2212, 4.2298, -2.5683, -1.5045, 0.3...\n",
       "2    other    bmw  [-2.2261, -4.0504, -3.5597, 0.20352, 3.4045, 4..."
      ]
     },
     "execution_count": 322,
     "metadata": {},
     "output_type": "execute_result"
    }
   ],
   "source": [
    "df_model_only.head(3)"
   ]
  },
  {
   "cell_type": "code",
   "execution_count": 323,
   "id": "61ee2b4b-22e7-43be-80d3-9098fd3a8425",
   "metadata": {},
   "outputs": [],
   "source": [
    "vector_cols = ['vector_'+str(i) for i in range(vectors.shape[1])]"
   ]
  },
  {
   "cell_type": "code",
   "execution_count": 324,
   "id": "16a553d8-c6cd-43c7-a257-3892b4a930ee",
   "metadata": {
    "collapsed": true,
    "jupyter": {
     "outputs_hidden": true
    },
    "tags": []
   },
   "outputs": [
    {
     "name": "stderr",
     "output_type": "stream",
     "text": [
      "/var/folders/3v/jtn2l28n5zs3r7hqrp339k900000gn/T/ipykernel_5375/577674020.py:1: PerformanceWarning: DataFrame is highly fragmented.  This is usually the result of calling `frame.insert` many times, which has poor performance.  Consider joining all columns at once using pd.concat(axis=1) instead. To get a de-fragmented frame, use `newframe = frame.copy()`\n",
      "  df_model_only[vector_cols] = df_model_only['model_array'].apply(pd.Series)\n",
      "/var/folders/3v/jtn2l28n5zs3r7hqrp339k900000gn/T/ipykernel_5375/577674020.py:1: PerformanceWarning: DataFrame is highly fragmented.  This is usually the result of calling `frame.insert` many times, which has poor performance.  Consider joining all columns at once using pd.concat(axis=1) instead. To get a de-fragmented frame, use `newframe = frame.copy()`\n",
      "  df_model_only[vector_cols] = df_model_only['model_array'].apply(pd.Series)\n",
      "/var/folders/3v/jtn2l28n5zs3r7hqrp339k900000gn/T/ipykernel_5375/577674020.py:1: PerformanceWarning: DataFrame is highly fragmented.  This is usually the result of calling `frame.insert` many times, which has poor performance.  Consider joining all columns at once using pd.concat(axis=1) instead. To get a de-fragmented frame, use `newframe = frame.copy()`\n",
      "  df_model_only[vector_cols] = df_model_only['model_array'].apply(pd.Series)\n",
      "/var/folders/3v/jtn2l28n5zs3r7hqrp339k900000gn/T/ipykernel_5375/577674020.py:1: PerformanceWarning: DataFrame is highly fragmented.  This is usually the result of calling `frame.insert` many times, which has poor performance.  Consider joining all columns at once using pd.concat(axis=1) instead. To get a de-fragmented frame, use `newframe = frame.copy()`\n",
      "  df_model_only[vector_cols] = df_model_only['model_array'].apply(pd.Series)\n",
      "/var/folders/3v/jtn2l28n5zs3r7hqrp339k900000gn/T/ipykernel_5375/577674020.py:1: PerformanceWarning: DataFrame is highly fragmented.  This is usually the result of calling `frame.insert` many times, which has poor performance.  Consider joining all columns at once using pd.concat(axis=1) instead. To get a de-fragmented frame, use `newframe = frame.copy()`\n",
      "  df_model_only[vector_cols] = df_model_only['model_array'].apply(pd.Series)\n",
      "/var/folders/3v/jtn2l28n5zs3r7hqrp339k900000gn/T/ipykernel_5375/577674020.py:1: PerformanceWarning: DataFrame is highly fragmented.  This is usually the result of calling `frame.insert` many times, which has poor performance.  Consider joining all columns at once using pd.concat(axis=1) instead. To get a de-fragmented frame, use `newframe = frame.copy()`\n",
      "  df_model_only[vector_cols] = df_model_only['model_array'].apply(pd.Series)\n",
      "/var/folders/3v/jtn2l28n5zs3r7hqrp339k900000gn/T/ipykernel_5375/577674020.py:1: PerformanceWarning: DataFrame is highly fragmented.  This is usually the result of calling `frame.insert` many times, which has poor performance.  Consider joining all columns at once using pd.concat(axis=1) instead. To get a de-fragmented frame, use `newframe = frame.copy()`\n",
      "  df_model_only[vector_cols] = df_model_only['model_array'].apply(pd.Series)\n",
      "/var/folders/3v/jtn2l28n5zs3r7hqrp339k900000gn/T/ipykernel_5375/577674020.py:1: PerformanceWarning: DataFrame is highly fragmented.  This is usually the result of calling `frame.insert` many times, which has poor performance.  Consider joining all columns at once using pd.concat(axis=1) instead. To get a de-fragmented frame, use `newframe = frame.copy()`\n",
      "  df_model_only[vector_cols] = df_model_only['model_array'].apply(pd.Series)\n",
      "/var/folders/3v/jtn2l28n5zs3r7hqrp339k900000gn/T/ipykernel_5375/577674020.py:1: PerformanceWarning: DataFrame is highly fragmented.  This is usually the result of calling `frame.insert` many times, which has poor performance.  Consider joining all columns at once using pd.concat(axis=1) instead. To get a de-fragmented frame, use `newframe = frame.copy()`\n",
      "  df_model_only[vector_cols] = df_model_only['model_array'].apply(pd.Series)\n",
      "/var/folders/3v/jtn2l28n5zs3r7hqrp339k900000gn/T/ipykernel_5375/577674020.py:1: PerformanceWarning: DataFrame is highly fragmented.  This is usually the result of calling `frame.insert` many times, which has poor performance.  Consider joining all columns at once using pd.concat(axis=1) instead. To get a de-fragmented frame, use `newframe = frame.copy()`\n",
      "  df_model_only[vector_cols] = df_model_only['model_array'].apply(pd.Series)\n",
      "/var/folders/3v/jtn2l28n5zs3r7hqrp339k900000gn/T/ipykernel_5375/577674020.py:1: PerformanceWarning: DataFrame is highly fragmented.  This is usually the result of calling `frame.insert` many times, which has poor performance.  Consider joining all columns at once using pd.concat(axis=1) instead. To get a de-fragmented frame, use `newframe = frame.copy()`\n",
      "  df_model_only[vector_cols] = df_model_only['model_array'].apply(pd.Series)\n",
      "/var/folders/3v/jtn2l28n5zs3r7hqrp339k900000gn/T/ipykernel_5375/577674020.py:1: PerformanceWarning: DataFrame is highly fragmented.  This is usually the result of calling `frame.insert` many times, which has poor performance.  Consider joining all columns at once using pd.concat(axis=1) instead. To get a de-fragmented frame, use `newframe = frame.copy()`\n",
      "  df_model_only[vector_cols] = df_model_only['model_array'].apply(pd.Series)\n",
      "/var/folders/3v/jtn2l28n5zs3r7hqrp339k900000gn/T/ipykernel_5375/577674020.py:1: PerformanceWarning: DataFrame is highly fragmented.  This is usually the result of calling `frame.insert` many times, which has poor performance.  Consider joining all columns at once using pd.concat(axis=1) instead. To get a de-fragmented frame, use `newframe = frame.copy()`\n",
      "  df_model_only[vector_cols] = df_model_only['model_array'].apply(pd.Series)\n",
      "/var/folders/3v/jtn2l28n5zs3r7hqrp339k900000gn/T/ipykernel_5375/577674020.py:1: PerformanceWarning: DataFrame is highly fragmented.  This is usually the result of calling `frame.insert` many times, which has poor performance.  Consider joining all columns at once using pd.concat(axis=1) instead. To get a de-fragmented frame, use `newframe = frame.copy()`\n",
      "  df_model_only[vector_cols] = df_model_only['model_array'].apply(pd.Series)\n",
      "/var/folders/3v/jtn2l28n5zs3r7hqrp339k900000gn/T/ipykernel_5375/577674020.py:1: PerformanceWarning: DataFrame is highly fragmented.  This is usually the result of calling `frame.insert` many times, which has poor performance.  Consider joining all columns at once using pd.concat(axis=1) instead. To get a de-fragmented frame, use `newframe = frame.copy()`\n",
      "  df_model_only[vector_cols] = df_model_only['model_array'].apply(pd.Series)\n",
      "/var/folders/3v/jtn2l28n5zs3r7hqrp339k900000gn/T/ipykernel_5375/577674020.py:1: PerformanceWarning: DataFrame is highly fragmented.  This is usually the result of calling `frame.insert` many times, which has poor performance.  Consider joining all columns at once using pd.concat(axis=1) instead. To get a de-fragmented frame, use `newframe = frame.copy()`\n",
      "  df_model_only[vector_cols] = df_model_only['model_array'].apply(pd.Series)\n",
      "/var/folders/3v/jtn2l28n5zs3r7hqrp339k900000gn/T/ipykernel_5375/577674020.py:1: PerformanceWarning: DataFrame is highly fragmented.  This is usually the result of calling `frame.insert` many times, which has poor performance.  Consider joining all columns at once using pd.concat(axis=1) instead. To get a de-fragmented frame, use `newframe = frame.copy()`\n",
      "  df_model_only[vector_cols] = df_model_only['model_array'].apply(pd.Series)\n",
      "/var/folders/3v/jtn2l28n5zs3r7hqrp339k900000gn/T/ipykernel_5375/577674020.py:1: PerformanceWarning: DataFrame is highly fragmented.  This is usually the result of calling `frame.insert` many times, which has poor performance.  Consider joining all columns at once using pd.concat(axis=1) instead. To get a de-fragmented frame, use `newframe = frame.copy()`\n",
      "  df_model_only[vector_cols] = df_model_only['model_array'].apply(pd.Series)\n",
      "/var/folders/3v/jtn2l28n5zs3r7hqrp339k900000gn/T/ipykernel_5375/577674020.py:1: PerformanceWarning: DataFrame is highly fragmented.  This is usually the result of calling `frame.insert` many times, which has poor performance.  Consider joining all columns at once using pd.concat(axis=1) instead. To get a de-fragmented frame, use `newframe = frame.copy()`\n",
      "  df_model_only[vector_cols] = df_model_only['model_array'].apply(pd.Series)\n",
      "/var/folders/3v/jtn2l28n5zs3r7hqrp339k900000gn/T/ipykernel_5375/577674020.py:1: PerformanceWarning: DataFrame is highly fragmented.  This is usually the result of calling `frame.insert` many times, which has poor performance.  Consider joining all columns at once using pd.concat(axis=1) instead. To get a de-fragmented frame, use `newframe = frame.copy()`\n",
      "  df_model_only[vector_cols] = df_model_only['model_array'].apply(pd.Series)\n",
      "/var/folders/3v/jtn2l28n5zs3r7hqrp339k900000gn/T/ipykernel_5375/577674020.py:1: PerformanceWarning: DataFrame is highly fragmented.  This is usually the result of calling `frame.insert` many times, which has poor performance.  Consider joining all columns at once using pd.concat(axis=1) instead. To get a de-fragmented frame, use `newframe = frame.copy()`\n",
      "  df_model_only[vector_cols] = df_model_only['model_array'].apply(pd.Series)\n",
      "/var/folders/3v/jtn2l28n5zs3r7hqrp339k900000gn/T/ipykernel_5375/577674020.py:1: PerformanceWarning: DataFrame is highly fragmented.  This is usually the result of calling `frame.insert` many times, which has poor performance.  Consider joining all columns at once using pd.concat(axis=1) instead. To get a de-fragmented frame, use `newframe = frame.copy()`\n",
      "  df_model_only[vector_cols] = df_model_only['model_array'].apply(pd.Series)\n",
      "/var/folders/3v/jtn2l28n5zs3r7hqrp339k900000gn/T/ipykernel_5375/577674020.py:1: PerformanceWarning: DataFrame is highly fragmented.  This is usually the result of calling `frame.insert` many times, which has poor performance.  Consider joining all columns at once using pd.concat(axis=1) instead. To get a de-fragmented frame, use `newframe = frame.copy()`\n",
      "  df_model_only[vector_cols] = df_model_only['model_array'].apply(pd.Series)\n",
      "/var/folders/3v/jtn2l28n5zs3r7hqrp339k900000gn/T/ipykernel_5375/577674020.py:1: PerformanceWarning: DataFrame is highly fragmented.  This is usually the result of calling `frame.insert` many times, which has poor performance.  Consider joining all columns at once using pd.concat(axis=1) instead. To get a de-fragmented frame, use `newframe = frame.copy()`\n",
      "  df_model_only[vector_cols] = df_model_only['model_array'].apply(pd.Series)\n",
      "/var/folders/3v/jtn2l28n5zs3r7hqrp339k900000gn/T/ipykernel_5375/577674020.py:1: PerformanceWarning: DataFrame is highly fragmented.  This is usually the result of calling `frame.insert` many times, which has poor performance.  Consider joining all columns at once using pd.concat(axis=1) instead. To get a de-fragmented frame, use `newframe = frame.copy()`\n",
      "  df_model_only[vector_cols] = df_model_only['model_array'].apply(pd.Series)\n",
      "/var/folders/3v/jtn2l28n5zs3r7hqrp339k900000gn/T/ipykernel_5375/577674020.py:1: PerformanceWarning: DataFrame is highly fragmented.  This is usually the result of calling `frame.insert` many times, which has poor performance.  Consider joining all columns at once using pd.concat(axis=1) instead. To get a de-fragmented frame, use `newframe = frame.copy()`\n",
      "  df_model_only[vector_cols] = df_model_only['model_array'].apply(pd.Series)\n",
      "/var/folders/3v/jtn2l28n5zs3r7hqrp339k900000gn/T/ipykernel_5375/577674020.py:1: PerformanceWarning: DataFrame is highly fragmented.  This is usually the result of calling `frame.insert` many times, which has poor performance.  Consider joining all columns at once using pd.concat(axis=1) instead. To get a de-fragmented frame, use `newframe = frame.copy()`\n",
      "  df_model_only[vector_cols] = df_model_only['model_array'].apply(pd.Series)\n",
      "/var/folders/3v/jtn2l28n5zs3r7hqrp339k900000gn/T/ipykernel_5375/577674020.py:1: PerformanceWarning: DataFrame is highly fragmented.  This is usually the result of calling `frame.insert` many times, which has poor performance.  Consider joining all columns at once using pd.concat(axis=1) instead. To get a de-fragmented frame, use `newframe = frame.copy()`\n",
      "  df_model_only[vector_cols] = df_model_only['model_array'].apply(pd.Series)\n",
      "/var/folders/3v/jtn2l28n5zs3r7hqrp339k900000gn/T/ipykernel_5375/577674020.py:1: PerformanceWarning: DataFrame is highly fragmented.  This is usually the result of calling `frame.insert` many times, which has poor performance.  Consider joining all columns at once using pd.concat(axis=1) instead. To get a de-fragmented frame, use `newframe = frame.copy()`\n",
      "  df_model_only[vector_cols] = df_model_only['model_array'].apply(pd.Series)\n",
      "/var/folders/3v/jtn2l28n5zs3r7hqrp339k900000gn/T/ipykernel_5375/577674020.py:1: PerformanceWarning: DataFrame is highly fragmented.  This is usually the result of calling `frame.insert` many times, which has poor performance.  Consider joining all columns at once using pd.concat(axis=1) instead. To get a de-fragmented frame, use `newframe = frame.copy()`\n",
      "  df_model_only[vector_cols] = df_model_only['model_array'].apply(pd.Series)\n",
      "/var/folders/3v/jtn2l28n5zs3r7hqrp339k900000gn/T/ipykernel_5375/577674020.py:1: PerformanceWarning: DataFrame is highly fragmented.  This is usually the result of calling `frame.insert` many times, which has poor performance.  Consider joining all columns at once using pd.concat(axis=1) instead. To get a de-fragmented frame, use `newframe = frame.copy()`\n",
      "  df_model_only[vector_cols] = df_model_only['model_array'].apply(pd.Series)\n",
      "/var/folders/3v/jtn2l28n5zs3r7hqrp339k900000gn/T/ipykernel_5375/577674020.py:1: PerformanceWarning: DataFrame is highly fragmented.  This is usually the result of calling `frame.insert` many times, which has poor performance.  Consider joining all columns at once using pd.concat(axis=1) instead. To get a de-fragmented frame, use `newframe = frame.copy()`\n",
      "  df_model_only[vector_cols] = df_model_only['model_array'].apply(pd.Series)\n",
      "/var/folders/3v/jtn2l28n5zs3r7hqrp339k900000gn/T/ipykernel_5375/577674020.py:1: PerformanceWarning: DataFrame is highly fragmented.  This is usually the result of calling `frame.insert` many times, which has poor performance.  Consider joining all columns at once using pd.concat(axis=1) instead. To get a de-fragmented frame, use `newframe = frame.copy()`\n",
      "  df_model_only[vector_cols] = df_model_only['model_array'].apply(pd.Series)\n",
      "/var/folders/3v/jtn2l28n5zs3r7hqrp339k900000gn/T/ipykernel_5375/577674020.py:1: PerformanceWarning: DataFrame is highly fragmented.  This is usually the result of calling `frame.insert` many times, which has poor performance.  Consider joining all columns at once using pd.concat(axis=1) instead. To get a de-fragmented frame, use `newframe = frame.copy()`\n",
      "  df_model_only[vector_cols] = df_model_only['model_array'].apply(pd.Series)\n",
      "/var/folders/3v/jtn2l28n5zs3r7hqrp339k900000gn/T/ipykernel_5375/577674020.py:1: PerformanceWarning: DataFrame is highly fragmented.  This is usually the result of calling `frame.insert` many times, which has poor performance.  Consider joining all columns at once using pd.concat(axis=1) instead. To get a de-fragmented frame, use `newframe = frame.copy()`\n",
      "  df_model_only[vector_cols] = df_model_only['model_array'].apply(pd.Series)\n",
      "/var/folders/3v/jtn2l28n5zs3r7hqrp339k900000gn/T/ipykernel_5375/577674020.py:1: PerformanceWarning: DataFrame is highly fragmented.  This is usually the result of calling `frame.insert` many times, which has poor performance.  Consider joining all columns at once using pd.concat(axis=1) instead. To get a de-fragmented frame, use `newframe = frame.copy()`\n",
      "  df_model_only[vector_cols] = df_model_only['model_array'].apply(pd.Series)\n",
      "/var/folders/3v/jtn2l28n5zs3r7hqrp339k900000gn/T/ipykernel_5375/577674020.py:1: PerformanceWarning: DataFrame is highly fragmented.  This is usually the result of calling `frame.insert` many times, which has poor performance.  Consider joining all columns at once using pd.concat(axis=1) instead. To get a de-fragmented frame, use `newframe = frame.copy()`\n",
      "  df_model_only[vector_cols] = df_model_only['model_array'].apply(pd.Series)\n",
      "/var/folders/3v/jtn2l28n5zs3r7hqrp339k900000gn/T/ipykernel_5375/577674020.py:1: PerformanceWarning: DataFrame is highly fragmented.  This is usually the result of calling `frame.insert` many times, which has poor performance.  Consider joining all columns at once using pd.concat(axis=1) instead. To get a de-fragmented frame, use `newframe = frame.copy()`\n",
      "  df_model_only[vector_cols] = df_model_only['model_array'].apply(pd.Series)\n",
      "/var/folders/3v/jtn2l28n5zs3r7hqrp339k900000gn/T/ipykernel_5375/577674020.py:1: PerformanceWarning: DataFrame is highly fragmented.  This is usually the result of calling `frame.insert` many times, which has poor performance.  Consider joining all columns at once using pd.concat(axis=1) instead. To get a de-fragmented frame, use `newframe = frame.copy()`\n",
      "  df_model_only[vector_cols] = df_model_only['model_array'].apply(pd.Series)\n",
      "/var/folders/3v/jtn2l28n5zs3r7hqrp339k900000gn/T/ipykernel_5375/577674020.py:1: PerformanceWarning: DataFrame is highly fragmented.  This is usually the result of calling `frame.insert` many times, which has poor performance.  Consider joining all columns at once using pd.concat(axis=1) instead. To get a de-fragmented frame, use `newframe = frame.copy()`\n",
      "  df_model_only[vector_cols] = df_model_only['model_array'].apply(pd.Series)\n",
      "/var/folders/3v/jtn2l28n5zs3r7hqrp339k900000gn/T/ipykernel_5375/577674020.py:1: PerformanceWarning: DataFrame is highly fragmented.  This is usually the result of calling `frame.insert` many times, which has poor performance.  Consider joining all columns at once using pd.concat(axis=1) instead. To get a de-fragmented frame, use `newframe = frame.copy()`\n",
      "  df_model_only[vector_cols] = df_model_only['model_array'].apply(pd.Series)\n",
      "/var/folders/3v/jtn2l28n5zs3r7hqrp339k900000gn/T/ipykernel_5375/577674020.py:1: PerformanceWarning: DataFrame is highly fragmented.  This is usually the result of calling `frame.insert` many times, which has poor performance.  Consider joining all columns at once using pd.concat(axis=1) instead. To get a de-fragmented frame, use `newframe = frame.copy()`\n",
      "  df_model_only[vector_cols] = df_model_only['model_array'].apply(pd.Series)\n",
      "/var/folders/3v/jtn2l28n5zs3r7hqrp339k900000gn/T/ipykernel_5375/577674020.py:1: PerformanceWarning: DataFrame is highly fragmented.  This is usually the result of calling `frame.insert` many times, which has poor performance.  Consider joining all columns at once using pd.concat(axis=1) instead. To get a de-fragmented frame, use `newframe = frame.copy()`\n",
      "  df_model_only[vector_cols] = df_model_only['model_array'].apply(pd.Series)\n",
      "/var/folders/3v/jtn2l28n5zs3r7hqrp339k900000gn/T/ipykernel_5375/577674020.py:1: PerformanceWarning: DataFrame is highly fragmented.  This is usually the result of calling `frame.insert` many times, which has poor performance.  Consider joining all columns at once using pd.concat(axis=1) instead. To get a de-fragmented frame, use `newframe = frame.copy()`\n",
      "  df_model_only[vector_cols] = df_model_only['model_array'].apply(pd.Series)\n",
      "/var/folders/3v/jtn2l28n5zs3r7hqrp339k900000gn/T/ipykernel_5375/577674020.py:1: PerformanceWarning: DataFrame is highly fragmented.  This is usually the result of calling `frame.insert` many times, which has poor performance.  Consider joining all columns at once using pd.concat(axis=1) instead. To get a de-fragmented frame, use `newframe = frame.copy()`\n",
      "  df_model_only[vector_cols] = df_model_only['model_array'].apply(pd.Series)\n",
      "/var/folders/3v/jtn2l28n5zs3r7hqrp339k900000gn/T/ipykernel_5375/577674020.py:1: PerformanceWarning: DataFrame is highly fragmented.  This is usually the result of calling `frame.insert` many times, which has poor performance.  Consider joining all columns at once using pd.concat(axis=1) instead. To get a de-fragmented frame, use `newframe = frame.copy()`\n",
      "  df_model_only[vector_cols] = df_model_only['model_array'].apply(pd.Series)\n",
      "/var/folders/3v/jtn2l28n5zs3r7hqrp339k900000gn/T/ipykernel_5375/577674020.py:1: PerformanceWarning: DataFrame is highly fragmented.  This is usually the result of calling `frame.insert` many times, which has poor performance.  Consider joining all columns at once using pd.concat(axis=1) instead. To get a de-fragmented frame, use `newframe = frame.copy()`\n",
      "  df_model_only[vector_cols] = df_model_only['model_array'].apply(pd.Series)\n",
      "/var/folders/3v/jtn2l28n5zs3r7hqrp339k900000gn/T/ipykernel_5375/577674020.py:1: PerformanceWarning: DataFrame is highly fragmented.  This is usually the result of calling `frame.insert` many times, which has poor performance.  Consider joining all columns at once using pd.concat(axis=1) instead. To get a de-fragmented frame, use `newframe = frame.copy()`\n",
      "  df_model_only[vector_cols] = df_model_only['model_array'].apply(pd.Series)\n",
      "/var/folders/3v/jtn2l28n5zs3r7hqrp339k900000gn/T/ipykernel_5375/577674020.py:1: PerformanceWarning: DataFrame is highly fragmented.  This is usually the result of calling `frame.insert` many times, which has poor performance.  Consider joining all columns at once using pd.concat(axis=1) instead. To get a de-fragmented frame, use `newframe = frame.copy()`\n",
      "  df_model_only[vector_cols] = df_model_only['model_array'].apply(pd.Series)\n",
      "/var/folders/3v/jtn2l28n5zs3r7hqrp339k900000gn/T/ipykernel_5375/577674020.py:1: PerformanceWarning: DataFrame is highly fragmented.  This is usually the result of calling `frame.insert` many times, which has poor performance.  Consider joining all columns at once using pd.concat(axis=1) instead. To get a de-fragmented frame, use `newframe = frame.copy()`\n",
      "  df_model_only[vector_cols] = df_model_only['model_array'].apply(pd.Series)\n",
      "/var/folders/3v/jtn2l28n5zs3r7hqrp339k900000gn/T/ipykernel_5375/577674020.py:1: PerformanceWarning: DataFrame is highly fragmented.  This is usually the result of calling `frame.insert` many times, which has poor performance.  Consider joining all columns at once using pd.concat(axis=1) instead. To get a de-fragmented frame, use `newframe = frame.copy()`\n",
      "  df_model_only[vector_cols] = df_model_only['model_array'].apply(pd.Series)\n",
      "/var/folders/3v/jtn2l28n5zs3r7hqrp339k900000gn/T/ipykernel_5375/577674020.py:1: PerformanceWarning: DataFrame is highly fragmented.  This is usually the result of calling `frame.insert` many times, which has poor performance.  Consider joining all columns at once using pd.concat(axis=1) instead. To get a de-fragmented frame, use `newframe = frame.copy()`\n",
      "  df_model_only[vector_cols] = df_model_only['model_array'].apply(pd.Series)\n",
      "/var/folders/3v/jtn2l28n5zs3r7hqrp339k900000gn/T/ipykernel_5375/577674020.py:1: PerformanceWarning: DataFrame is highly fragmented.  This is usually the result of calling `frame.insert` many times, which has poor performance.  Consider joining all columns at once using pd.concat(axis=1) instead. To get a de-fragmented frame, use `newframe = frame.copy()`\n",
      "  df_model_only[vector_cols] = df_model_only['model_array'].apply(pd.Series)\n",
      "/var/folders/3v/jtn2l28n5zs3r7hqrp339k900000gn/T/ipykernel_5375/577674020.py:1: PerformanceWarning: DataFrame is highly fragmented.  This is usually the result of calling `frame.insert` many times, which has poor performance.  Consider joining all columns at once using pd.concat(axis=1) instead. To get a de-fragmented frame, use `newframe = frame.copy()`\n",
      "  df_model_only[vector_cols] = df_model_only['model_array'].apply(pd.Series)\n",
      "/var/folders/3v/jtn2l28n5zs3r7hqrp339k900000gn/T/ipykernel_5375/577674020.py:1: PerformanceWarning: DataFrame is highly fragmented.  This is usually the result of calling `frame.insert` many times, which has poor performance.  Consider joining all columns at once using pd.concat(axis=1) instead. To get a de-fragmented frame, use `newframe = frame.copy()`\n",
      "  df_model_only[vector_cols] = df_model_only['model_array'].apply(pd.Series)\n",
      "/var/folders/3v/jtn2l28n5zs3r7hqrp339k900000gn/T/ipykernel_5375/577674020.py:1: PerformanceWarning: DataFrame is highly fragmented.  This is usually the result of calling `frame.insert` many times, which has poor performance.  Consider joining all columns at once using pd.concat(axis=1) instead. To get a de-fragmented frame, use `newframe = frame.copy()`\n",
      "  df_model_only[vector_cols] = df_model_only['model_array'].apply(pd.Series)\n",
      "/var/folders/3v/jtn2l28n5zs3r7hqrp339k900000gn/T/ipykernel_5375/577674020.py:1: PerformanceWarning: DataFrame is highly fragmented.  This is usually the result of calling `frame.insert` many times, which has poor performance.  Consider joining all columns at once using pd.concat(axis=1) instead. To get a de-fragmented frame, use `newframe = frame.copy()`\n",
      "  df_model_only[vector_cols] = df_model_only['model_array'].apply(pd.Series)\n",
      "/var/folders/3v/jtn2l28n5zs3r7hqrp339k900000gn/T/ipykernel_5375/577674020.py:1: PerformanceWarning: DataFrame is highly fragmented.  This is usually the result of calling `frame.insert` many times, which has poor performance.  Consider joining all columns at once using pd.concat(axis=1) instead. To get a de-fragmented frame, use `newframe = frame.copy()`\n",
      "  df_model_only[vector_cols] = df_model_only['model_array'].apply(pd.Series)\n",
      "/var/folders/3v/jtn2l28n5zs3r7hqrp339k900000gn/T/ipykernel_5375/577674020.py:1: PerformanceWarning: DataFrame is highly fragmented.  This is usually the result of calling `frame.insert` many times, which has poor performance.  Consider joining all columns at once using pd.concat(axis=1) instead. To get a de-fragmented frame, use `newframe = frame.copy()`\n",
      "  df_model_only[vector_cols] = df_model_only['model_array'].apply(pd.Series)\n",
      "/var/folders/3v/jtn2l28n5zs3r7hqrp339k900000gn/T/ipykernel_5375/577674020.py:1: PerformanceWarning: DataFrame is highly fragmented.  This is usually the result of calling `frame.insert` many times, which has poor performance.  Consider joining all columns at once using pd.concat(axis=1) instead. To get a de-fragmented frame, use `newframe = frame.copy()`\n",
      "  df_model_only[vector_cols] = df_model_only['model_array'].apply(pd.Series)\n",
      "/var/folders/3v/jtn2l28n5zs3r7hqrp339k900000gn/T/ipykernel_5375/577674020.py:1: PerformanceWarning: DataFrame is highly fragmented.  This is usually the result of calling `frame.insert` many times, which has poor performance.  Consider joining all columns at once using pd.concat(axis=1) instead. To get a de-fragmented frame, use `newframe = frame.copy()`\n",
      "  df_model_only[vector_cols] = df_model_only['model_array'].apply(pd.Series)\n",
      "/var/folders/3v/jtn2l28n5zs3r7hqrp339k900000gn/T/ipykernel_5375/577674020.py:1: PerformanceWarning: DataFrame is highly fragmented.  This is usually the result of calling `frame.insert` many times, which has poor performance.  Consider joining all columns at once using pd.concat(axis=1) instead. To get a de-fragmented frame, use `newframe = frame.copy()`\n",
      "  df_model_only[vector_cols] = df_model_only['model_array'].apply(pd.Series)\n",
      "/var/folders/3v/jtn2l28n5zs3r7hqrp339k900000gn/T/ipykernel_5375/577674020.py:1: PerformanceWarning: DataFrame is highly fragmented.  This is usually the result of calling `frame.insert` many times, which has poor performance.  Consider joining all columns at once using pd.concat(axis=1) instead. To get a de-fragmented frame, use `newframe = frame.copy()`\n",
      "  df_model_only[vector_cols] = df_model_only['model_array'].apply(pd.Series)\n",
      "/var/folders/3v/jtn2l28n5zs3r7hqrp339k900000gn/T/ipykernel_5375/577674020.py:1: PerformanceWarning: DataFrame is highly fragmented.  This is usually the result of calling `frame.insert` many times, which has poor performance.  Consider joining all columns at once using pd.concat(axis=1) instead. To get a de-fragmented frame, use `newframe = frame.copy()`\n",
      "  df_model_only[vector_cols] = df_model_only['model_array'].apply(pd.Series)\n",
      "/var/folders/3v/jtn2l28n5zs3r7hqrp339k900000gn/T/ipykernel_5375/577674020.py:1: PerformanceWarning: DataFrame is highly fragmented.  This is usually the result of calling `frame.insert` many times, which has poor performance.  Consider joining all columns at once using pd.concat(axis=1) instead. To get a de-fragmented frame, use `newframe = frame.copy()`\n",
      "  df_model_only[vector_cols] = df_model_only['model_array'].apply(pd.Series)\n",
      "/var/folders/3v/jtn2l28n5zs3r7hqrp339k900000gn/T/ipykernel_5375/577674020.py:1: PerformanceWarning: DataFrame is highly fragmented.  This is usually the result of calling `frame.insert` many times, which has poor performance.  Consider joining all columns at once using pd.concat(axis=1) instead. To get a de-fragmented frame, use `newframe = frame.copy()`\n",
      "  df_model_only[vector_cols] = df_model_only['model_array'].apply(pd.Series)\n",
      "/var/folders/3v/jtn2l28n5zs3r7hqrp339k900000gn/T/ipykernel_5375/577674020.py:1: PerformanceWarning: DataFrame is highly fragmented.  This is usually the result of calling `frame.insert` many times, which has poor performance.  Consider joining all columns at once using pd.concat(axis=1) instead. To get a de-fragmented frame, use `newframe = frame.copy()`\n",
      "  df_model_only[vector_cols] = df_model_only['model_array'].apply(pd.Series)\n",
      "/var/folders/3v/jtn2l28n5zs3r7hqrp339k900000gn/T/ipykernel_5375/577674020.py:1: PerformanceWarning: DataFrame is highly fragmented.  This is usually the result of calling `frame.insert` many times, which has poor performance.  Consider joining all columns at once using pd.concat(axis=1) instead. To get a de-fragmented frame, use `newframe = frame.copy()`\n",
      "  df_model_only[vector_cols] = df_model_only['model_array'].apply(pd.Series)\n",
      "/var/folders/3v/jtn2l28n5zs3r7hqrp339k900000gn/T/ipykernel_5375/577674020.py:1: PerformanceWarning: DataFrame is highly fragmented.  This is usually the result of calling `frame.insert` many times, which has poor performance.  Consider joining all columns at once using pd.concat(axis=1) instead. To get a de-fragmented frame, use `newframe = frame.copy()`\n",
      "  df_model_only[vector_cols] = df_model_only['model_array'].apply(pd.Series)\n",
      "/var/folders/3v/jtn2l28n5zs3r7hqrp339k900000gn/T/ipykernel_5375/577674020.py:1: PerformanceWarning: DataFrame is highly fragmented.  This is usually the result of calling `frame.insert` many times, which has poor performance.  Consider joining all columns at once using pd.concat(axis=1) instead. To get a de-fragmented frame, use `newframe = frame.copy()`\n",
      "  df_model_only[vector_cols] = df_model_only['model_array'].apply(pd.Series)\n",
      "/var/folders/3v/jtn2l28n5zs3r7hqrp339k900000gn/T/ipykernel_5375/577674020.py:1: PerformanceWarning: DataFrame is highly fragmented.  This is usually the result of calling `frame.insert` many times, which has poor performance.  Consider joining all columns at once using pd.concat(axis=1) instead. To get a de-fragmented frame, use `newframe = frame.copy()`\n",
      "  df_model_only[vector_cols] = df_model_only['model_array'].apply(pd.Series)\n",
      "/var/folders/3v/jtn2l28n5zs3r7hqrp339k900000gn/T/ipykernel_5375/577674020.py:1: PerformanceWarning: DataFrame is highly fragmented.  This is usually the result of calling `frame.insert` many times, which has poor performance.  Consider joining all columns at once using pd.concat(axis=1) instead. To get a de-fragmented frame, use `newframe = frame.copy()`\n",
      "  df_model_only[vector_cols] = df_model_only['model_array'].apply(pd.Series)\n",
      "/var/folders/3v/jtn2l28n5zs3r7hqrp339k900000gn/T/ipykernel_5375/577674020.py:1: PerformanceWarning: DataFrame is highly fragmented.  This is usually the result of calling `frame.insert` many times, which has poor performance.  Consider joining all columns at once using pd.concat(axis=1) instead. To get a de-fragmented frame, use `newframe = frame.copy()`\n",
      "  df_model_only[vector_cols] = df_model_only['model_array'].apply(pd.Series)\n",
      "/var/folders/3v/jtn2l28n5zs3r7hqrp339k900000gn/T/ipykernel_5375/577674020.py:1: PerformanceWarning: DataFrame is highly fragmented.  This is usually the result of calling `frame.insert` many times, which has poor performance.  Consider joining all columns at once using pd.concat(axis=1) instead. To get a de-fragmented frame, use `newframe = frame.copy()`\n",
      "  df_model_only[vector_cols] = df_model_only['model_array'].apply(pd.Series)\n",
      "/var/folders/3v/jtn2l28n5zs3r7hqrp339k900000gn/T/ipykernel_5375/577674020.py:1: PerformanceWarning: DataFrame is highly fragmented.  This is usually the result of calling `frame.insert` many times, which has poor performance.  Consider joining all columns at once using pd.concat(axis=1) instead. To get a de-fragmented frame, use `newframe = frame.copy()`\n",
      "  df_model_only[vector_cols] = df_model_only['model_array'].apply(pd.Series)\n",
      "/var/folders/3v/jtn2l28n5zs3r7hqrp339k900000gn/T/ipykernel_5375/577674020.py:1: PerformanceWarning: DataFrame is highly fragmented.  This is usually the result of calling `frame.insert` many times, which has poor performance.  Consider joining all columns at once using pd.concat(axis=1) instead. To get a de-fragmented frame, use `newframe = frame.copy()`\n",
      "  df_model_only[vector_cols] = df_model_only['model_array'].apply(pd.Series)\n",
      "/var/folders/3v/jtn2l28n5zs3r7hqrp339k900000gn/T/ipykernel_5375/577674020.py:1: PerformanceWarning: DataFrame is highly fragmented.  This is usually the result of calling `frame.insert` many times, which has poor performance.  Consider joining all columns at once using pd.concat(axis=1) instead. To get a de-fragmented frame, use `newframe = frame.copy()`\n",
      "  df_model_only[vector_cols] = df_model_only['model_array'].apply(pd.Series)\n",
      "/var/folders/3v/jtn2l28n5zs3r7hqrp339k900000gn/T/ipykernel_5375/577674020.py:1: PerformanceWarning: DataFrame is highly fragmented.  This is usually the result of calling `frame.insert` many times, which has poor performance.  Consider joining all columns at once using pd.concat(axis=1) instead. To get a de-fragmented frame, use `newframe = frame.copy()`\n",
      "  df_model_only[vector_cols] = df_model_only['model_array'].apply(pd.Series)\n",
      "/var/folders/3v/jtn2l28n5zs3r7hqrp339k900000gn/T/ipykernel_5375/577674020.py:1: PerformanceWarning: DataFrame is highly fragmented.  This is usually the result of calling `frame.insert` many times, which has poor performance.  Consider joining all columns at once using pd.concat(axis=1) instead. To get a de-fragmented frame, use `newframe = frame.copy()`\n",
      "  df_model_only[vector_cols] = df_model_only['model_array'].apply(pd.Series)\n",
      "/var/folders/3v/jtn2l28n5zs3r7hqrp339k900000gn/T/ipykernel_5375/577674020.py:1: PerformanceWarning: DataFrame is highly fragmented.  This is usually the result of calling `frame.insert` many times, which has poor performance.  Consider joining all columns at once using pd.concat(axis=1) instead. To get a de-fragmented frame, use `newframe = frame.copy()`\n",
      "  df_model_only[vector_cols] = df_model_only['model_array'].apply(pd.Series)\n",
      "/var/folders/3v/jtn2l28n5zs3r7hqrp339k900000gn/T/ipykernel_5375/577674020.py:1: PerformanceWarning: DataFrame is highly fragmented.  This is usually the result of calling `frame.insert` many times, which has poor performance.  Consider joining all columns at once using pd.concat(axis=1) instead. To get a de-fragmented frame, use `newframe = frame.copy()`\n",
      "  df_model_only[vector_cols] = df_model_only['model_array'].apply(pd.Series)\n",
      "/var/folders/3v/jtn2l28n5zs3r7hqrp339k900000gn/T/ipykernel_5375/577674020.py:1: PerformanceWarning: DataFrame is highly fragmented.  This is usually the result of calling `frame.insert` many times, which has poor performance.  Consider joining all columns at once using pd.concat(axis=1) instead. To get a de-fragmented frame, use `newframe = frame.copy()`\n",
      "  df_model_only[vector_cols] = df_model_only['model_array'].apply(pd.Series)\n",
      "/var/folders/3v/jtn2l28n5zs3r7hqrp339k900000gn/T/ipykernel_5375/577674020.py:1: PerformanceWarning: DataFrame is highly fragmented.  This is usually the result of calling `frame.insert` many times, which has poor performance.  Consider joining all columns at once using pd.concat(axis=1) instead. To get a de-fragmented frame, use `newframe = frame.copy()`\n",
      "  df_model_only[vector_cols] = df_model_only['model_array'].apply(pd.Series)\n",
      "/var/folders/3v/jtn2l28n5zs3r7hqrp339k900000gn/T/ipykernel_5375/577674020.py:1: PerformanceWarning: DataFrame is highly fragmented.  This is usually the result of calling `frame.insert` many times, which has poor performance.  Consider joining all columns at once using pd.concat(axis=1) instead. To get a de-fragmented frame, use `newframe = frame.copy()`\n",
      "  df_model_only[vector_cols] = df_model_only['model_array'].apply(pd.Series)\n",
      "/var/folders/3v/jtn2l28n5zs3r7hqrp339k900000gn/T/ipykernel_5375/577674020.py:1: PerformanceWarning: DataFrame is highly fragmented.  This is usually the result of calling `frame.insert` many times, which has poor performance.  Consider joining all columns at once using pd.concat(axis=1) instead. To get a de-fragmented frame, use `newframe = frame.copy()`\n",
      "  df_model_only[vector_cols] = df_model_only['model_array'].apply(pd.Series)\n",
      "/var/folders/3v/jtn2l28n5zs3r7hqrp339k900000gn/T/ipykernel_5375/577674020.py:1: PerformanceWarning: DataFrame is highly fragmented.  This is usually the result of calling `frame.insert` many times, which has poor performance.  Consider joining all columns at once using pd.concat(axis=1) instead. To get a de-fragmented frame, use `newframe = frame.copy()`\n",
      "  df_model_only[vector_cols] = df_model_only['model_array'].apply(pd.Series)\n",
      "/var/folders/3v/jtn2l28n5zs3r7hqrp339k900000gn/T/ipykernel_5375/577674020.py:1: PerformanceWarning: DataFrame is highly fragmented.  This is usually the result of calling `frame.insert` many times, which has poor performance.  Consider joining all columns at once using pd.concat(axis=1) instead. To get a de-fragmented frame, use `newframe = frame.copy()`\n",
      "  df_model_only[vector_cols] = df_model_only['model_array'].apply(pd.Series)\n",
      "/var/folders/3v/jtn2l28n5zs3r7hqrp339k900000gn/T/ipykernel_5375/577674020.py:1: PerformanceWarning: DataFrame is highly fragmented.  This is usually the result of calling `frame.insert` many times, which has poor performance.  Consider joining all columns at once using pd.concat(axis=1) instead. To get a de-fragmented frame, use `newframe = frame.copy()`\n",
      "  df_model_only[vector_cols] = df_model_only['model_array'].apply(pd.Series)\n",
      "/var/folders/3v/jtn2l28n5zs3r7hqrp339k900000gn/T/ipykernel_5375/577674020.py:1: PerformanceWarning: DataFrame is highly fragmented.  This is usually the result of calling `frame.insert` many times, which has poor performance.  Consider joining all columns at once using pd.concat(axis=1) instead. To get a de-fragmented frame, use `newframe = frame.copy()`\n",
      "  df_model_only[vector_cols] = df_model_only['model_array'].apply(pd.Series)\n",
      "/var/folders/3v/jtn2l28n5zs3r7hqrp339k900000gn/T/ipykernel_5375/577674020.py:1: PerformanceWarning: DataFrame is highly fragmented.  This is usually the result of calling `frame.insert` many times, which has poor performance.  Consider joining all columns at once using pd.concat(axis=1) instead. To get a de-fragmented frame, use `newframe = frame.copy()`\n",
      "  df_model_only[vector_cols] = df_model_only['model_array'].apply(pd.Series)\n",
      "/var/folders/3v/jtn2l28n5zs3r7hqrp339k900000gn/T/ipykernel_5375/577674020.py:1: PerformanceWarning: DataFrame is highly fragmented.  This is usually the result of calling `frame.insert` many times, which has poor performance.  Consider joining all columns at once using pd.concat(axis=1) instead. To get a de-fragmented frame, use `newframe = frame.copy()`\n",
      "  df_model_only[vector_cols] = df_model_only['model_array'].apply(pd.Series)\n",
      "/var/folders/3v/jtn2l28n5zs3r7hqrp339k900000gn/T/ipykernel_5375/577674020.py:1: PerformanceWarning: DataFrame is highly fragmented.  This is usually the result of calling `frame.insert` many times, which has poor performance.  Consider joining all columns at once using pd.concat(axis=1) instead. To get a de-fragmented frame, use `newframe = frame.copy()`\n",
      "  df_model_only[vector_cols] = df_model_only['model_array'].apply(pd.Series)\n",
      "/var/folders/3v/jtn2l28n5zs3r7hqrp339k900000gn/T/ipykernel_5375/577674020.py:1: PerformanceWarning: DataFrame is highly fragmented.  This is usually the result of calling `frame.insert` many times, which has poor performance.  Consider joining all columns at once using pd.concat(axis=1) instead. To get a de-fragmented frame, use `newframe = frame.copy()`\n",
      "  df_model_only[vector_cols] = df_model_only['model_array'].apply(pd.Series)\n",
      "/var/folders/3v/jtn2l28n5zs3r7hqrp339k900000gn/T/ipykernel_5375/577674020.py:1: PerformanceWarning: DataFrame is highly fragmented.  This is usually the result of calling `frame.insert` many times, which has poor performance.  Consider joining all columns at once using pd.concat(axis=1) instead. To get a de-fragmented frame, use `newframe = frame.copy()`\n",
      "  df_model_only[vector_cols] = df_model_only['model_array'].apply(pd.Series)\n",
      "/var/folders/3v/jtn2l28n5zs3r7hqrp339k900000gn/T/ipykernel_5375/577674020.py:1: PerformanceWarning: DataFrame is highly fragmented.  This is usually the result of calling `frame.insert` many times, which has poor performance.  Consider joining all columns at once using pd.concat(axis=1) instead. To get a de-fragmented frame, use `newframe = frame.copy()`\n",
      "  df_model_only[vector_cols] = df_model_only['model_array'].apply(pd.Series)\n",
      "/var/folders/3v/jtn2l28n5zs3r7hqrp339k900000gn/T/ipykernel_5375/577674020.py:1: PerformanceWarning: DataFrame is highly fragmented.  This is usually the result of calling `frame.insert` many times, which has poor performance.  Consider joining all columns at once using pd.concat(axis=1) instead. To get a de-fragmented frame, use `newframe = frame.copy()`\n",
      "  df_model_only[vector_cols] = df_model_only['model_array'].apply(pd.Series)\n",
      "/var/folders/3v/jtn2l28n5zs3r7hqrp339k900000gn/T/ipykernel_5375/577674020.py:1: PerformanceWarning: DataFrame is highly fragmented.  This is usually the result of calling `frame.insert` many times, which has poor performance.  Consider joining all columns at once using pd.concat(axis=1) instead. To get a de-fragmented frame, use `newframe = frame.copy()`\n",
      "  df_model_only[vector_cols] = df_model_only['model_array'].apply(pd.Series)\n",
      "/var/folders/3v/jtn2l28n5zs3r7hqrp339k900000gn/T/ipykernel_5375/577674020.py:1: PerformanceWarning: DataFrame is highly fragmented.  This is usually the result of calling `frame.insert` many times, which has poor performance.  Consider joining all columns at once using pd.concat(axis=1) instead. To get a de-fragmented frame, use `newframe = frame.copy()`\n",
      "  df_model_only[vector_cols] = df_model_only['model_array'].apply(pd.Series)\n",
      "/var/folders/3v/jtn2l28n5zs3r7hqrp339k900000gn/T/ipykernel_5375/577674020.py:1: PerformanceWarning: DataFrame is highly fragmented.  This is usually the result of calling `frame.insert` many times, which has poor performance.  Consider joining all columns at once using pd.concat(axis=1) instead. To get a de-fragmented frame, use `newframe = frame.copy()`\n",
      "  df_model_only[vector_cols] = df_model_only['model_array'].apply(pd.Series)\n",
      "/var/folders/3v/jtn2l28n5zs3r7hqrp339k900000gn/T/ipykernel_5375/577674020.py:1: PerformanceWarning: DataFrame is highly fragmented.  This is usually the result of calling `frame.insert` many times, which has poor performance.  Consider joining all columns at once using pd.concat(axis=1) instead. To get a de-fragmented frame, use `newframe = frame.copy()`\n",
      "  df_model_only[vector_cols] = df_model_only['model_array'].apply(pd.Series)\n",
      "/var/folders/3v/jtn2l28n5zs3r7hqrp339k900000gn/T/ipykernel_5375/577674020.py:1: PerformanceWarning: DataFrame is highly fragmented.  This is usually the result of calling `frame.insert` many times, which has poor performance.  Consider joining all columns at once using pd.concat(axis=1) instead. To get a de-fragmented frame, use `newframe = frame.copy()`\n",
      "  df_model_only[vector_cols] = df_model_only['model_array'].apply(pd.Series)\n",
      "/var/folders/3v/jtn2l28n5zs3r7hqrp339k900000gn/T/ipykernel_5375/577674020.py:1: PerformanceWarning: DataFrame is highly fragmented.  This is usually the result of calling `frame.insert` many times, which has poor performance.  Consider joining all columns at once using pd.concat(axis=1) instead. To get a de-fragmented frame, use `newframe = frame.copy()`\n",
      "  df_model_only[vector_cols] = df_model_only['model_array'].apply(pd.Series)\n",
      "/var/folders/3v/jtn2l28n5zs3r7hqrp339k900000gn/T/ipykernel_5375/577674020.py:1: PerformanceWarning: DataFrame is highly fragmented.  This is usually the result of calling `frame.insert` many times, which has poor performance.  Consider joining all columns at once using pd.concat(axis=1) instead. To get a de-fragmented frame, use `newframe = frame.copy()`\n",
      "  df_model_only[vector_cols] = df_model_only['model_array'].apply(pd.Series)\n",
      "/var/folders/3v/jtn2l28n5zs3r7hqrp339k900000gn/T/ipykernel_5375/577674020.py:1: PerformanceWarning: DataFrame is highly fragmented.  This is usually the result of calling `frame.insert` many times, which has poor performance.  Consider joining all columns at once using pd.concat(axis=1) instead. To get a de-fragmented frame, use `newframe = frame.copy()`\n",
      "  df_model_only[vector_cols] = df_model_only['model_array'].apply(pd.Series)\n",
      "/var/folders/3v/jtn2l28n5zs3r7hqrp339k900000gn/T/ipykernel_5375/577674020.py:1: PerformanceWarning: DataFrame is highly fragmented.  This is usually the result of calling `frame.insert` many times, which has poor performance.  Consider joining all columns at once using pd.concat(axis=1) instead. To get a de-fragmented frame, use `newframe = frame.copy()`\n",
      "  df_model_only[vector_cols] = df_model_only['model_array'].apply(pd.Series)\n",
      "/var/folders/3v/jtn2l28n5zs3r7hqrp339k900000gn/T/ipykernel_5375/577674020.py:1: PerformanceWarning: DataFrame is highly fragmented.  This is usually the result of calling `frame.insert` many times, which has poor performance.  Consider joining all columns at once using pd.concat(axis=1) instead. To get a de-fragmented frame, use `newframe = frame.copy()`\n",
      "  df_model_only[vector_cols] = df_model_only['model_array'].apply(pd.Series)\n",
      "/var/folders/3v/jtn2l28n5zs3r7hqrp339k900000gn/T/ipykernel_5375/577674020.py:1: PerformanceWarning: DataFrame is highly fragmented.  This is usually the result of calling `frame.insert` many times, which has poor performance.  Consider joining all columns at once using pd.concat(axis=1) instead. To get a de-fragmented frame, use `newframe = frame.copy()`\n",
      "  df_model_only[vector_cols] = df_model_only['model_array'].apply(pd.Series)\n",
      "/var/folders/3v/jtn2l28n5zs3r7hqrp339k900000gn/T/ipykernel_5375/577674020.py:1: PerformanceWarning: DataFrame is highly fragmented.  This is usually the result of calling `frame.insert` many times, which has poor performance.  Consider joining all columns at once using pd.concat(axis=1) instead. To get a de-fragmented frame, use `newframe = frame.copy()`\n",
      "  df_model_only[vector_cols] = df_model_only['model_array'].apply(pd.Series)\n",
      "/var/folders/3v/jtn2l28n5zs3r7hqrp339k900000gn/T/ipykernel_5375/577674020.py:1: PerformanceWarning: DataFrame is highly fragmented.  This is usually the result of calling `frame.insert` many times, which has poor performance.  Consider joining all columns at once using pd.concat(axis=1) instead. To get a de-fragmented frame, use `newframe = frame.copy()`\n",
      "  df_model_only[vector_cols] = df_model_only['model_array'].apply(pd.Series)\n",
      "/var/folders/3v/jtn2l28n5zs3r7hqrp339k900000gn/T/ipykernel_5375/577674020.py:1: PerformanceWarning: DataFrame is highly fragmented.  This is usually the result of calling `frame.insert` many times, which has poor performance.  Consider joining all columns at once using pd.concat(axis=1) instead. To get a de-fragmented frame, use `newframe = frame.copy()`\n",
      "  df_model_only[vector_cols] = df_model_only['model_array'].apply(pd.Series)\n",
      "/var/folders/3v/jtn2l28n5zs3r7hqrp339k900000gn/T/ipykernel_5375/577674020.py:1: PerformanceWarning: DataFrame is highly fragmented.  This is usually the result of calling `frame.insert` many times, which has poor performance.  Consider joining all columns at once using pd.concat(axis=1) instead. To get a de-fragmented frame, use `newframe = frame.copy()`\n",
      "  df_model_only[vector_cols] = df_model_only['model_array'].apply(pd.Series)\n",
      "/var/folders/3v/jtn2l28n5zs3r7hqrp339k900000gn/T/ipykernel_5375/577674020.py:1: PerformanceWarning: DataFrame is highly fragmented.  This is usually the result of calling `frame.insert` many times, which has poor performance.  Consider joining all columns at once using pd.concat(axis=1) instead. To get a de-fragmented frame, use `newframe = frame.copy()`\n",
      "  df_model_only[vector_cols] = df_model_only['model_array'].apply(pd.Series)\n",
      "/var/folders/3v/jtn2l28n5zs3r7hqrp339k900000gn/T/ipykernel_5375/577674020.py:1: PerformanceWarning: DataFrame is highly fragmented.  This is usually the result of calling `frame.insert` many times, which has poor performance.  Consider joining all columns at once using pd.concat(axis=1) instead. To get a de-fragmented frame, use `newframe = frame.copy()`\n",
      "  df_model_only[vector_cols] = df_model_only['model_array'].apply(pd.Series)\n",
      "/var/folders/3v/jtn2l28n5zs3r7hqrp339k900000gn/T/ipykernel_5375/577674020.py:1: PerformanceWarning: DataFrame is highly fragmented.  This is usually the result of calling `frame.insert` many times, which has poor performance.  Consider joining all columns at once using pd.concat(axis=1) instead. To get a de-fragmented frame, use `newframe = frame.copy()`\n",
      "  df_model_only[vector_cols] = df_model_only['model_array'].apply(pd.Series)\n",
      "/var/folders/3v/jtn2l28n5zs3r7hqrp339k900000gn/T/ipykernel_5375/577674020.py:1: PerformanceWarning: DataFrame is highly fragmented.  This is usually the result of calling `frame.insert` many times, which has poor performance.  Consider joining all columns at once using pd.concat(axis=1) instead. To get a de-fragmented frame, use `newframe = frame.copy()`\n",
      "  df_model_only[vector_cols] = df_model_only['model_array'].apply(pd.Series)\n",
      "/var/folders/3v/jtn2l28n5zs3r7hqrp339k900000gn/T/ipykernel_5375/577674020.py:1: PerformanceWarning: DataFrame is highly fragmented.  This is usually the result of calling `frame.insert` many times, which has poor performance.  Consider joining all columns at once using pd.concat(axis=1) instead. To get a de-fragmented frame, use `newframe = frame.copy()`\n",
      "  df_model_only[vector_cols] = df_model_only['model_array'].apply(pd.Series)\n",
      "/var/folders/3v/jtn2l28n5zs3r7hqrp339k900000gn/T/ipykernel_5375/577674020.py:1: PerformanceWarning: DataFrame is highly fragmented.  This is usually the result of calling `frame.insert` many times, which has poor performance.  Consider joining all columns at once using pd.concat(axis=1) instead. To get a de-fragmented frame, use `newframe = frame.copy()`\n",
      "  df_model_only[vector_cols] = df_model_only['model_array'].apply(pd.Series)\n",
      "/var/folders/3v/jtn2l28n5zs3r7hqrp339k900000gn/T/ipykernel_5375/577674020.py:1: PerformanceWarning: DataFrame is highly fragmented.  This is usually the result of calling `frame.insert` many times, which has poor performance.  Consider joining all columns at once using pd.concat(axis=1) instead. To get a de-fragmented frame, use `newframe = frame.copy()`\n",
      "  df_model_only[vector_cols] = df_model_only['model_array'].apply(pd.Series)\n",
      "/var/folders/3v/jtn2l28n5zs3r7hqrp339k900000gn/T/ipykernel_5375/577674020.py:1: PerformanceWarning: DataFrame is highly fragmented.  This is usually the result of calling `frame.insert` many times, which has poor performance.  Consider joining all columns at once using pd.concat(axis=1) instead. To get a de-fragmented frame, use `newframe = frame.copy()`\n",
      "  df_model_only[vector_cols] = df_model_only['model_array'].apply(pd.Series)\n",
      "/var/folders/3v/jtn2l28n5zs3r7hqrp339k900000gn/T/ipykernel_5375/577674020.py:1: PerformanceWarning: DataFrame is highly fragmented.  This is usually the result of calling `frame.insert` many times, which has poor performance.  Consider joining all columns at once using pd.concat(axis=1) instead. To get a de-fragmented frame, use `newframe = frame.copy()`\n",
      "  df_model_only[vector_cols] = df_model_only['model_array'].apply(pd.Series)\n",
      "/var/folders/3v/jtn2l28n5zs3r7hqrp339k900000gn/T/ipykernel_5375/577674020.py:1: PerformanceWarning: DataFrame is highly fragmented.  This is usually the result of calling `frame.insert` many times, which has poor performance.  Consider joining all columns at once using pd.concat(axis=1) instead. To get a de-fragmented frame, use `newframe = frame.copy()`\n",
      "  df_model_only[vector_cols] = df_model_only['model_array'].apply(pd.Series)\n",
      "/var/folders/3v/jtn2l28n5zs3r7hqrp339k900000gn/T/ipykernel_5375/577674020.py:1: PerformanceWarning: DataFrame is highly fragmented.  This is usually the result of calling `frame.insert` many times, which has poor performance.  Consider joining all columns at once using pd.concat(axis=1) instead. To get a de-fragmented frame, use `newframe = frame.copy()`\n",
      "  df_model_only[vector_cols] = df_model_only['model_array'].apply(pd.Series)\n",
      "/var/folders/3v/jtn2l28n5zs3r7hqrp339k900000gn/T/ipykernel_5375/577674020.py:1: PerformanceWarning: DataFrame is highly fragmented.  This is usually the result of calling `frame.insert` many times, which has poor performance.  Consider joining all columns at once using pd.concat(axis=1) instead. To get a de-fragmented frame, use `newframe = frame.copy()`\n",
      "  df_model_only[vector_cols] = df_model_only['model_array'].apply(pd.Series)\n",
      "/var/folders/3v/jtn2l28n5zs3r7hqrp339k900000gn/T/ipykernel_5375/577674020.py:1: PerformanceWarning: DataFrame is highly fragmented.  This is usually the result of calling `frame.insert` many times, which has poor performance.  Consider joining all columns at once using pd.concat(axis=1) instead. To get a de-fragmented frame, use `newframe = frame.copy()`\n",
      "  df_model_only[vector_cols] = df_model_only['model_array'].apply(pd.Series)\n",
      "/var/folders/3v/jtn2l28n5zs3r7hqrp339k900000gn/T/ipykernel_5375/577674020.py:1: PerformanceWarning: DataFrame is highly fragmented.  This is usually the result of calling `frame.insert` many times, which has poor performance.  Consider joining all columns at once using pd.concat(axis=1) instead. To get a de-fragmented frame, use `newframe = frame.copy()`\n",
      "  df_model_only[vector_cols] = df_model_only['model_array'].apply(pd.Series)\n",
      "/var/folders/3v/jtn2l28n5zs3r7hqrp339k900000gn/T/ipykernel_5375/577674020.py:1: PerformanceWarning: DataFrame is highly fragmented.  This is usually the result of calling `frame.insert` many times, which has poor performance.  Consider joining all columns at once using pd.concat(axis=1) instead. To get a de-fragmented frame, use `newframe = frame.copy()`\n",
      "  df_model_only[vector_cols] = df_model_only['model_array'].apply(pd.Series)\n",
      "/var/folders/3v/jtn2l28n5zs3r7hqrp339k900000gn/T/ipykernel_5375/577674020.py:1: PerformanceWarning: DataFrame is highly fragmented.  This is usually the result of calling `frame.insert` many times, which has poor performance.  Consider joining all columns at once using pd.concat(axis=1) instead. To get a de-fragmented frame, use `newframe = frame.copy()`\n",
      "  df_model_only[vector_cols] = df_model_only['model_array'].apply(pd.Series)\n",
      "/var/folders/3v/jtn2l28n5zs3r7hqrp339k900000gn/T/ipykernel_5375/577674020.py:1: PerformanceWarning: DataFrame is highly fragmented.  This is usually the result of calling `frame.insert` many times, which has poor performance.  Consider joining all columns at once using pd.concat(axis=1) instead. To get a de-fragmented frame, use `newframe = frame.copy()`\n",
      "  df_model_only[vector_cols] = df_model_only['model_array'].apply(pd.Series)\n",
      "/var/folders/3v/jtn2l28n5zs3r7hqrp339k900000gn/T/ipykernel_5375/577674020.py:1: PerformanceWarning: DataFrame is highly fragmented.  This is usually the result of calling `frame.insert` many times, which has poor performance.  Consider joining all columns at once using pd.concat(axis=1) instead. To get a de-fragmented frame, use `newframe = frame.copy()`\n",
      "  df_model_only[vector_cols] = df_model_only['model_array'].apply(pd.Series)\n",
      "/var/folders/3v/jtn2l28n5zs3r7hqrp339k900000gn/T/ipykernel_5375/577674020.py:1: PerformanceWarning: DataFrame is highly fragmented.  This is usually the result of calling `frame.insert` many times, which has poor performance.  Consider joining all columns at once using pd.concat(axis=1) instead. To get a de-fragmented frame, use `newframe = frame.copy()`\n",
      "  df_model_only[vector_cols] = df_model_only['model_array'].apply(pd.Series)\n",
      "/var/folders/3v/jtn2l28n5zs3r7hqrp339k900000gn/T/ipykernel_5375/577674020.py:1: PerformanceWarning: DataFrame is highly fragmented.  This is usually the result of calling `frame.insert` many times, which has poor performance.  Consider joining all columns at once using pd.concat(axis=1) instead. To get a de-fragmented frame, use `newframe = frame.copy()`\n",
      "  df_model_only[vector_cols] = df_model_only['model_array'].apply(pd.Series)\n",
      "/var/folders/3v/jtn2l28n5zs3r7hqrp339k900000gn/T/ipykernel_5375/577674020.py:1: PerformanceWarning: DataFrame is highly fragmented.  This is usually the result of calling `frame.insert` many times, which has poor performance.  Consider joining all columns at once using pd.concat(axis=1) instead. To get a de-fragmented frame, use `newframe = frame.copy()`\n",
      "  df_model_only[vector_cols] = df_model_only['model_array'].apply(pd.Series)\n",
      "/var/folders/3v/jtn2l28n5zs3r7hqrp339k900000gn/T/ipykernel_5375/577674020.py:1: PerformanceWarning: DataFrame is highly fragmented.  This is usually the result of calling `frame.insert` many times, which has poor performance.  Consider joining all columns at once using pd.concat(axis=1) instead. To get a de-fragmented frame, use `newframe = frame.copy()`\n",
      "  df_model_only[vector_cols] = df_model_only['model_array'].apply(pd.Series)\n",
      "/var/folders/3v/jtn2l28n5zs3r7hqrp339k900000gn/T/ipykernel_5375/577674020.py:1: PerformanceWarning: DataFrame is highly fragmented.  This is usually the result of calling `frame.insert` many times, which has poor performance.  Consider joining all columns at once using pd.concat(axis=1) instead. To get a de-fragmented frame, use `newframe = frame.copy()`\n",
      "  df_model_only[vector_cols] = df_model_only['model_array'].apply(pd.Series)\n",
      "/var/folders/3v/jtn2l28n5zs3r7hqrp339k900000gn/T/ipykernel_5375/577674020.py:1: PerformanceWarning: DataFrame is highly fragmented.  This is usually the result of calling `frame.insert` many times, which has poor performance.  Consider joining all columns at once using pd.concat(axis=1) instead. To get a de-fragmented frame, use `newframe = frame.copy()`\n",
      "  df_model_only[vector_cols] = df_model_only['model_array'].apply(pd.Series)\n",
      "/var/folders/3v/jtn2l28n5zs3r7hqrp339k900000gn/T/ipykernel_5375/577674020.py:1: PerformanceWarning: DataFrame is highly fragmented.  This is usually the result of calling `frame.insert` many times, which has poor performance.  Consider joining all columns at once using pd.concat(axis=1) instead. To get a de-fragmented frame, use `newframe = frame.copy()`\n",
      "  df_model_only[vector_cols] = df_model_only['model_array'].apply(pd.Series)\n",
      "/var/folders/3v/jtn2l28n5zs3r7hqrp339k900000gn/T/ipykernel_5375/577674020.py:1: PerformanceWarning: DataFrame is highly fragmented.  This is usually the result of calling `frame.insert` many times, which has poor performance.  Consider joining all columns at once using pd.concat(axis=1) instead. To get a de-fragmented frame, use `newframe = frame.copy()`\n",
      "  df_model_only[vector_cols] = df_model_only['model_array'].apply(pd.Series)\n",
      "/var/folders/3v/jtn2l28n5zs3r7hqrp339k900000gn/T/ipykernel_5375/577674020.py:1: PerformanceWarning: DataFrame is highly fragmented.  This is usually the result of calling `frame.insert` many times, which has poor performance.  Consider joining all columns at once using pd.concat(axis=1) instead. To get a de-fragmented frame, use `newframe = frame.copy()`\n",
      "  df_model_only[vector_cols] = df_model_only['model_array'].apply(pd.Series)\n",
      "/var/folders/3v/jtn2l28n5zs3r7hqrp339k900000gn/T/ipykernel_5375/577674020.py:1: PerformanceWarning: DataFrame is highly fragmented.  This is usually the result of calling `frame.insert` many times, which has poor performance.  Consider joining all columns at once using pd.concat(axis=1) instead. To get a de-fragmented frame, use `newframe = frame.copy()`\n",
      "  df_model_only[vector_cols] = df_model_only['model_array'].apply(pd.Series)\n",
      "/var/folders/3v/jtn2l28n5zs3r7hqrp339k900000gn/T/ipykernel_5375/577674020.py:1: PerformanceWarning: DataFrame is highly fragmented.  This is usually the result of calling `frame.insert` many times, which has poor performance.  Consider joining all columns at once using pd.concat(axis=1) instead. To get a de-fragmented frame, use `newframe = frame.copy()`\n",
      "  df_model_only[vector_cols] = df_model_only['model_array'].apply(pd.Series)\n",
      "/var/folders/3v/jtn2l28n5zs3r7hqrp339k900000gn/T/ipykernel_5375/577674020.py:1: PerformanceWarning: DataFrame is highly fragmented.  This is usually the result of calling `frame.insert` many times, which has poor performance.  Consider joining all columns at once using pd.concat(axis=1) instead. To get a de-fragmented frame, use `newframe = frame.copy()`\n",
      "  df_model_only[vector_cols] = df_model_only['model_array'].apply(pd.Series)\n",
      "/var/folders/3v/jtn2l28n5zs3r7hqrp339k900000gn/T/ipykernel_5375/577674020.py:1: PerformanceWarning: DataFrame is highly fragmented.  This is usually the result of calling `frame.insert` many times, which has poor performance.  Consider joining all columns at once using pd.concat(axis=1) instead. To get a de-fragmented frame, use `newframe = frame.copy()`\n",
      "  df_model_only[vector_cols] = df_model_only['model_array'].apply(pd.Series)\n",
      "/var/folders/3v/jtn2l28n5zs3r7hqrp339k900000gn/T/ipykernel_5375/577674020.py:1: PerformanceWarning: DataFrame is highly fragmented.  This is usually the result of calling `frame.insert` many times, which has poor performance.  Consider joining all columns at once using pd.concat(axis=1) instead. To get a de-fragmented frame, use `newframe = frame.copy()`\n",
      "  df_model_only[vector_cols] = df_model_only['model_array'].apply(pd.Series)\n",
      "/var/folders/3v/jtn2l28n5zs3r7hqrp339k900000gn/T/ipykernel_5375/577674020.py:1: PerformanceWarning: DataFrame is highly fragmented.  This is usually the result of calling `frame.insert` many times, which has poor performance.  Consider joining all columns at once using pd.concat(axis=1) instead. To get a de-fragmented frame, use `newframe = frame.copy()`\n",
      "  df_model_only[vector_cols] = df_model_only['model_array'].apply(pd.Series)\n",
      "/var/folders/3v/jtn2l28n5zs3r7hqrp339k900000gn/T/ipykernel_5375/577674020.py:1: PerformanceWarning: DataFrame is highly fragmented.  This is usually the result of calling `frame.insert` many times, which has poor performance.  Consider joining all columns at once using pd.concat(axis=1) instead. To get a de-fragmented frame, use `newframe = frame.copy()`\n",
      "  df_model_only[vector_cols] = df_model_only['model_array'].apply(pd.Series)\n",
      "/var/folders/3v/jtn2l28n5zs3r7hqrp339k900000gn/T/ipykernel_5375/577674020.py:1: PerformanceWarning: DataFrame is highly fragmented.  This is usually the result of calling `frame.insert` many times, which has poor performance.  Consider joining all columns at once using pd.concat(axis=1) instead. To get a de-fragmented frame, use `newframe = frame.copy()`\n",
      "  df_model_only[vector_cols] = df_model_only['model_array'].apply(pd.Series)\n",
      "/var/folders/3v/jtn2l28n5zs3r7hqrp339k900000gn/T/ipykernel_5375/577674020.py:1: PerformanceWarning: DataFrame is highly fragmented.  This is usually the result of calling `frame.insert` many times, which has poor performance.  Consider joining all columns at once using pd.concat(axis=1) instead. To get a de-fragmented frame, use `newframe = frame.copy()`\n",
      "  df_model_only[vector_cols] = df_model_only['model_array'].apply(pd.Series)\n",
      "/var/folders/3v/jtn2l28n5zs3r7hqrp339k900000gn/T/ipykernel_5375/577674020.py:1: PerformanceWarning: DataFrame is highly fragmented.  This is usually the result of calling `frame.insert` many times, which has poor performance.  Consider joining all columns at once using pd.concat(axis=1) instead. To get a de-fragmented frame, use `newframe = frame.copy()`\n",
      "  df_model_only[vector_cols] = df_model_only['model_array'].apply(pd.Series)\n",
      "/var/folders/3v/jtn2l28n5zs3r7hqrp339k900000gn/T/ipykernel_5375/577674020.py:1: PerformanceWarning: DataFrame is highly fragmented.  This is usually the result of calling `frame.insert` many times, which has poor performance.  Consider joining all columns at once using pd.concat(axis=1) instead. To get a de-fragmented frame, use `newframe = frame.copy()`\n",
      "  df_model_only[vector_cols] = df_model_only['model_array'].apply(pd.Series)\n",
      "/var/folders/3v/jtn2l28n5zs3r7hqrp339k900000gn/T/ipykernel_5375/577674020.py:1: PerformanceWarning: DataFrame is highly fragmented.  This is usually the result of calling `frame.insert` many times, which has poor performance.  Consider joining all columns at once using pd.concat(axis=1) instead. To get a de-fragmented frame, use `newframe = frame.copy()`\n",
      "  df_model_only[vector_cols] = df_model_only['model_array'].apply(pd.Series)\n",
      "/var/folders/3v/jtn2l28n5zs3r7hqrp339k900000gn/T/ipykernel_5375/577674020.py:1: PerformanceWarning: DataFrame is highly fragmented.  This is usually the result of calling `frame.insert` many times, which has poor performance.  Consider joining all columns at once using pd.concat(axis=1) instead. To get a de-fragmented frame, use `newframe = frame.copy()`\n",
      "  df_model_only[vector_cols] = df_model_only['model_array'].apply(pd.Series)\n",
      "/var/folders/3v/jtn2l28n5zs3r7hqrp339k900000gn/T/ipykernel_5375/577674020.py:1: PerformanceWarning: DataFrame is highly fragmented.  This is usually the result of calling `frame.insert` many times, which has poor performance.  Consider joining all columns at once using pd.concat(axis=1) instead. To get a de-fragmented frame, use `newframe = frame.copy()`\n",
      "  df_model_only[vector_cols] = df_model_only['model_array'].apply(pd.Series)\n",
      "/var/folders/3v/jtn2l28n5zs3r7hqrp339k900000gn/T/ipykernel_5375/577674020.py:1: PerformanceWarning: DataFrame is highly fragmented.  This is usually the result of calling `frame.insert` many times, which has poor performance.  Consider joining all columns at once using pd.concat(axis=1) instead. To get a de-fragmented frame, use `newframe = frame.copy()`\n",
      "  df_model_only[vector_cols] = df_model_only['model_array'].apply(pd.Series)\n",
      "/var/folders/3v/jtn2l28n5zs3r7hqrp339k900000gn/T/ipykernel_5375/577674020.py:1: PerformanceWarning: DataFrame is highly fragmented.  This is usually the result of calling `frame.insert` many times, which has poor performance.  Consider joining all columns at once using pd.concat(axis=1) instead. To get a de-fragmented frame, use `newframe = frame.copy()`\n",
      "  df_model_only[vector_cols] = df_model_only['model_array'].apply(pd.Series)\n",
      "/var/folders/3v/jtn2l28n5zs3r7hqrp339k900000gn/T/ipykernel_5375/577674020.py:1: PerformanceWarning: DataFrame is highly fragmented.  This is usually the result of calling `frame.insert` many times, which has poor performance.  Consider joining all columns at once using pd.concat(axis=1) instead. To get a de-fragmented frame, use `newframe = frame.copy()`\n",
      "  df_model_only[vector_cols] = df_model_only['model_array'].apply(pd.Series)\n",
      "/var/folders/3v/jtn2l28n5zs3r7hqrp339k900000gn/T/ipykernel_5375/577674020.py:1: PerformanceWarning: DataFrame is highly fragmented.  This is usually the result of calling `frame.insert` many times, which has poor performance.  Consider joining all columns at once using pd.concat(axis=1) instead. To get a de-fragmented frame, use `newframe = frame.copy()`\n",
      "  df_model_only[vector_cols] = df_model_only['model_array'].apply(pd.Series)\n",
      "/var/folders/3v/jtn2l28n5zs3r7hqrp339k900000gn/T/ipykernel_5375/577674020.py:1: PerformanceWarning: DataFrame is highly fragmented.  This is usually the result of calling `frame.insert` many times, which has poor performance.  Consider joining all columns at once using pd.concat(axis=1) instead. To get a de-fragmented frame, use `newframe = frame.copy()`\n",
      "  df_model_only[vector_cols] = df_model_only['model_array'].apply(pd.Series)\n",
      "/var/folders/3v/jtn2l28n5zs3r7hqrp339k900000gn/T/ipykernel_5375/577674020.py:1: PerformanceWarning: DataFrame is highly fragmented.  This is usually the result of calling `frame.insert` many times, which has poor performance.  Consider joining all columns at once using pd.concat(axis=1) instead. To get a de-fragmented frame, use `newframe = frame.copy()`\n",
      "  df_model_only[vector_cols] = df_model_only['model_array'].apply(pd.Series)\n",
      "/var/folders/3v/jtn2l28n5zs3r7hqrp339k900000gn/T/ipykernel_5375/577674020.py:1: PerformanceWarning: DataFrame is highly fragmented.  This is usually the result of calling `frame.insert` many times, which has poor performance.  Consider joining all columns at once using pd.concat(axis=1) instead. To get a de-fragmented frame, use `newframe = frame.copy()`\n",
      "  df_model_only[vector_cols] = df_model_only['model_array'].apply(pd.Series)\n",
      "/var/folders/3v/jtn2l28n5zs3r7hqrp339k900000gn/T/ipykernel_5375/577674020.py:1: PerformanceWarning: DataFrame is highly fragmented.  This is usually the result of calling `frame.insert` many times, which has poor performance.  Consider joining all columns at once using pd.concat(axis=1) instead. To get a de-fragmented frame, use `newframe = frame.copy()`\n",
      "  df_model_only[vector_cols] = df_model_only['model_array'].apply(pd.Series)\n",
      "/var/folders/3v/jtn2l28n5zs3r7hqrp339k900000gn/T/ipykernel_5375/577674020.py:1: PerformanceWarning: DataFrame is highly fragmented.  This is usually the result of calling `frame.insert` many times, which has poor performance.  Consider joining all columns at once using pd.concat(axis=1) instead. To get a de-fragmented frame, use `newframe = frame.copy()`\n",
      "  df_model_only[vector_cols] = df_model_only['model_array'].apply(pd.Series)\n",
      "/var/folders/3v/jtn2l28n5zs3r7hqrp339k900000gn/T/ipykernel_5375/577674020.py:1: PerformanceWarning: DataFrame is highly fragmented.  This is usually the result of calling `frame.insert` many times, which has poor performance.  Consider joining all columns at once using pd.concat(axis=1) instead. To get a de-fragmented frame, use `newframe = frame.copy()`\n",
      "  df_model_only[vector_cols] = df_model_only['model_array'].apply(pd.Series)\n",
      "/var/folders/3v/jtn2l28n5zs3r7hqrp339k900000gn/T/ipykernel_5375/577674020.py:1: PerformanceWarning: DataFrame is highly fragmented.  This is usually the result of calling `frame.insert` many times, which has poor performance.  Consider joining all columns at once using pd.concat(axis=1) instead. To get a de-fragmented frame, use `newframe = frame.copy()`\n",
      "  df_model_only[vector_cols] = df_model_only['model_array'].apply(pd.Series)\n",
      "/var/folders/3v/jtn2l28n5zs3r7hqrp339k900000gn/T/ipykernel_5375/577674020.py:1: PerformanceWarning: DataFrame is highly fragmented.  This is usually the result of calling `frame.insert` many times, which has poor performance.  Consider joining all columns at once using pd.concat(axis=1) instead. To get a de-fragmented frame, use `newframe = frame.copy()`\n",
      "  df_model_only[vector_cols] = df_model_only['model_array'].apply(pd.Series)\n",
      "/var/folders/3v/jtn2l28n5zs3r7hqrp339k900000gn/T/ipykernel_5375/577674020.py:1: PerformanceWarning: DataFrame is highly fragmented.  This is usually the result of calling `frame.insert` many times, which has poor performance.  Consider joining all columns at once using pd.concat(axis=1) instead. To get a de-fragmented frame, use `newframe = frame.copy()`\n",
      "  df_model_only[vector_cols] = df_model_only['model_array'].apply(pd.Series)\n",
      "/var/folders/3v/jtn2l28n5zs3r7hqrp339k900000gn/T/ipykernel_5375/577674020.py:1: PerformanceWarning: DataFrame is highly fragmented.  This is usually the result of calling `frame.insert` many times, which has poor performance.  Consider joining all columns at once using pd.concat(axis=1) instead. To get a de-fragmented frame, use `newframe = frame.copy()`\n",
      "  df_model_only[vector_cols] = df_model_only['model_array'].apply(pd.Series)\n",
      "/var/folders/3v/jtn2l28n5zs3r7hqrp339k900000gn/T/ipykernel_5375/577674020.py:1: PerformanceWarning: DataFrame is highly fragmented.  This is usually the result of calling `frame.insert` many times, which has poor performance.  Consider joining all columns at once using pd.concat(axis=1) instead. To get a de-fragmented frame, use `newframe = frame.copy()`\n",
      "  df_model_only[vector_cols] = df_model_only['model_array'].apply(pd.Series)\n",
      "/var/folders/3v/jtn2l28n5zs3r7hqrp339k900000gn/T/ipykernel_5375/577674020.py:1: PerformanceWarning: DataFrame is highly fragmented.  This is usually the result of calling `frame.insert` many times, which has poor performance.  Consider joining all columns at once using pd.concat(axis=1) instead. To get a de-fragmented frame, use `newframe = frame.copy()`\n",
      "  df_model_only[vector_cols] = df_model_only['model_array'].apply(pd.Series)\n",
      "/var/folders/3v/jtn2l28n5zs3r7hqrp339k900000gn/T/ipykernel_5375/577674020.py:1: PerformanceWarning: DataFrame is highly fragmented.  This is usually the result of calling `frame.insert` many times, which has poor performance.  Consider joining all columns at once using pd.concat(axis=1) instead. To get a de-fragmented frame, use `newframe = frame.copy()`\n",
      "  df_model_only[vector_cols] = df_model_only['model_array'].apply(pd.Series)\n",
      "/var/folders/3v/jtn2l28n5zs3r7hqrp339k900000gn/T/ipykernel_5375/577674020.py:1: PerformanceWarning: DataFrame is highly fragmented.  This is usually the result of calling `frame.insert` many times, which has poor performance.  Consider joining all columns at once using pd.concat(axis=1) instead. To get a de-fragmented frame, use `newframe = frame.copy()`\n",
      "  df_model_only[vector_cols] = df_model_only['model_array'].apply(pd.Series)\n",
      "/var/folders/3v/jtn2l28n5zs3r7hqrp339k900000gn/T/ipykernel_5375/577674020.py:1: PerformanceWarning: DataFrame is highly fragmented.  This is usually the result of calling `frame.insert` many times, which has poor performance.  Consider joining all columns at once using pd.concat(axis=1) instead. To get a de-fragmented frame, use `newframe = frame.copy()`\n",
      "  df_model_only[vector_cols] = df_model_only['model_array'].apply(pd.Series)\n",
      "/var/folders/3v/jtn2l28n5zs3r7hqrp339k900000gn/T/ipykernel_5375/577674020.py:1: PerformanceWarning: DataFrame is highly fragmented.  This is usually the result of calling `frame.insert` many times, which has poor performance.  Consider joining all columns at once using pd.concat(axis=1) instead. To get a de-fragmented frame, use `newframe = frame.copy()`\n",
      "  df_model_only[vector_cols] = df_model_only['model_array'].apply(pd.Series)\n",
      "/var/folders/3v/jtn2l28n5zs3r7hqrp339k900000gn/T/ipykernel_5375/577674020.py:1: PerformanceWarning: DataFrame is highly fragmented.  This is usually the result of calling `frame.insert` many times, which has poor performance.  Consider joining all columns at once using pd.concat(axis=1) instead. To get a de-fragmented frame, use `newframe = frame.copy()`\n",
      "  df_model_only[vector_cols] = df_model_only['model_array'].apply(pd.Series)\n",
      "/var/folders/3v/jtn2l28n5zs3r7hqrp339k900000gn/T/ipykernel_5375/577674020.py:1: PerformanceWarning: DataFrame is highly fragmented.  This is usually the result of calling `frame.insert` many times, which has poor performance.  Consider joining all columns at once using pd.concat(axis=1) instead. To get a de-fragmented frame, use `newframe = frame.copy()`\n",
      "  df_model_only[vector_cols] = df_model_only['model_array'].apply(pd.Series)\n",
      "/var/folders/3v/jtn2l28n5zs3r7hqrp339k900000gn/T/ipykernel_5375/577674020.py:1: PerformanceWarning: DataFrame is highly fragmented.  This is usually the result of calling `frame.insert` many times, which has poor performance.  Consider joining all columns at once using pd.concat(axis=1) instead. To get a de-fragmented frame, use `newframe = frame.copy()`\n",
      "  df_model_only[vector_cols] = df_model_only['model_array'].apply(pd.Series)\n",
      "/var/folders/3v/jtn2l28n5zs3r7hqrp339k900000gn/T/ipykernel_5375/577674020.py:1: PerformanceWarning: DataFrame is highly fragmented.  This is usually the result of calling `frame.insert` many times, which has poor performance.  Consider joining all columns at once using pd.concat(axis=1) instead. To get a de-fragmented frame, use `newframe = frame.copy()`\n",
      "  df_model_only[vector_cols] = df_model_only['model_array'].apply(pd.Series)\n",
      "/var/folders/3v/jtn2l28n5zs3r7hqrp339k900000gn/T/ipykernel_5375/577674020.py:1: PerformanceWarning: DataFrame is highly fragmented.  This is usually the result of calling `frame.insert` many times, which has poor performance.  Consider joining all columns at once using pd.concat(axis=1) instead. To get a de-fragmented frame, use `newframe = frame.copy()`\n",
      "  df_model_only[vector_cols] = df_model_only['model_array'].apply(pd.Series)\n",
      "/var/folders/3v/jtn2l28n5zs3r7hqrp339k900000gn/T/ipykernel_5375/577674020.py:1: PerformanceWarning: DataFrame is highly fragmented.  This is usually the result of calling `frame.insert` many times, which has poor performance.  Consider joining all columns at once using pd.concat(axis=1) instead. To get a de-fragmented frame, use `newframe = frame.copy()`\n",
      "  df_model_only[vector_cols] = df_model_only['model_array'].apply(pd.Series)\n",
      "/var/folders/3v/jtn2l28n5zs3r7hqrp339k900000gn/T/ipykernel_5375/577674020.py:1: PerformanceWarning: DataFrame is highly fragmented.  This is usually the result of calling `frame.insert` many times, which has poor performance.  Consider joining all columns at once using pd.concat(axis=1) instead. To get a de-fragmented frame, use `newframe = frame.copy()`\n",
      "  df_model_only[vector_cols] = df_model_only['model_array'].apply(pd.Series)\n",
      "/var/folders/3v/jtn2l28n5zs3r7hqrp339k900000gn/T/ipykernel_5375/577674020.py:1: PerformanceWarning: DataFrame is highly fragmented.  This is usually the result of calling `frame.insert` many times, which has poor performance.  Consider joining all columns at once using pd.concat(axis=1) instead. To get a de-fragmented frame, use `newframe = frame.copy()`\n",
      "  df_model_only[vector_cols] = df_model_only['model_array'].apply(pd.Series)\n",
      "/var/folders/3v/jtn2l28n5zs3r7hqrp339k900000gn/T/ipykernel_5375/577674020.py:1: PerformanceWarning: DataFrame is highly fragmented.  This is usually the result of calling `frame.insert` many times, which has poor performance.  Consider joining all columns at once using pd.concat(axis=1) instead. To get a de-fragmented frame, use `newframe = frame.copy()`\n",
      "  df_model_only[vector_cols] = df_model_only['model_array'].apply(pd.Series)\n",
      "/var/folders/3v/jtn2l28n5zs3r7hqrp339k900000gn/T/ipykernel_5375/577674020.py:1: PerformanceWarning: DataFrame is highly fragmented.  This is usually the result of calling `frame.insert` many times, which has poor performance.  Consider joining all columns at once using pd.concat(axis=1) instead. To get a de-fragmented frame, use `newframe = frame.copy()`\n",
      "  df_model_only[vector_cols] = df_model_only['model_array'].apply(pd.Series)\n",
      "/var/folders/3v/jtn2l28n5zs3r7hqrp339k900000gn/T/ipykernel_5375/577674020.py:1: PerformanceWarning: DataFrame is highly fragmented.  This is usually the result of calling `frame.insert` many times, which has poor performance.  Consider joining all columns at once using pd.concat(axis=1) instead. To get a de-fragmented frame, use `newframe = frame.copy()`\n",
      "  df_model_only[vector_cols] = df_model_only['model_array'].apply(pd.Series)\n",
      "/var/folders/3v/jtn2l28n5zs3r7hqrp339k900000gn/T/ipykernel_5375/577674020.py:1: PerformanceWarning: DataFrame is highly fragmented.  This is usually the result of calling `frame.insert` many times, which has poor performance.  Consider joining all columns at once using pd.concat(axis=1) instead. To get a de-fragmented frame, use `newframe = frame.copy()`\n",
      "  df_model_only[vector_cols] = df_model_only['model_array'].apply(pd.Series)\n",
      "/var/folders/3v/jtn2l28n5zs3r7hqrp339k900000gn/T/ipykernel_5375/577674020.py:1: PerformanceWarning: DataFrame is highly fragmented.  This is usually the result of calling `frame.insert` many times, which has poor performance.  Consider joining all columns at once using pd.concat(axis=1) instead. To get a de-fragmented frame, use `newframe = frame.copy()`\n",
      "  df_model_only[vector_cols] = df_model_only['model_array'].apply(pd.Series)\n",
      "/var/folders/3v/jtn2l28n5zs3r7hqrp339k900000gn/T/ipykernel_5375/577674020.py:1: PerformanceWarning: DataFrame is highly fragmented.  This is usually the result of calling `frame.insert` many times, which has poor performance.  Consider joining all columns at once using pd.concat(axis=1) instead. To get a de-fragmented frame, use `newframe = frame.copy()`\n",
      "  df_model_only[vector_cols] = df_model_only['model_array'].apply(pd.Series)\n",
      "/var/folders/3v/jtn2l28n5zs3r7hqrp339k900000gn/T/ipykernel_5375/577674020.py:1: PerformanceWarning: DataFrame is highly fragmented.  This is usually the result of calling `frame.insert` many times, which has poor performance.  Consider joining all columns at once using pd.concat(axis=1) instead. To get a de-fragmented frame, use `newframe = frame.copy()`\n",
      "  df_model_only[vector_cols] = df_model_only['model_array'].apply(pd.Series)\n",
      "/var/folders/3v/jtn2l28n5zs3r7hqrp339k900000gn/T/ipykernel_5375/577674020.py:1: PerformanceWarning: DataFrame is highly fragmented.  This is usually the result of calling `frame.insert` many times, which has poor performance.  Consider joining all columns at once using pd.concat(axis=1) instead. To get a de-fragmented frame, use `newframe = frame.copy()`\n",
      "  df_model_only[vector_cols] = df_model_only['model_array'].apply(pd.Series)\n",
      "/var/folders/3v/jtn2l28n5zs3r7hqrp339k900000gn/T/ipykernel_5375/577674020.py:1: PerformanceWarning: DataFrame is highly fragmented.  This is usually the result of calling `frame.insert` many times, which has poor performance.  Consider joining all columns at once using pd.concat(axis=1) instead. To get a de-fragmented frame, use `newframe = frame.copy()`\n",
      "  df_model_only[vector_cols] = df_model_only['model_array'].apply(pd.Series)\n",
      "/var/folders/3v/jtn2l28n5zs3r7hqrp339k900000gn/T/ipykernel_5375/577674020.py:1: PerformanceWarning: DataFrame is highly fragmented.  This is usually the result of calling `frame.insert` many times, which has poor performance.  Consider joining all columns at once using pd.concat(axis=1) instead. To get a de-fragmented frame, use `newframe = frame.copy()`\n",
      "  df_model_only[vector_cols] = df_model_only['model_array'].apply(pd.Series)\n",
      "/var/folders/3v/jtn2l28n5zs3r7hqrp339k900000gn/T/ipykernel_5375/577674020.py:1: PerformanceWarning: DataFrame is highly fragmented.  This is usually the result of calling `frame.insert` many times, which has poor performance.  Consider joining all columns at once using pd.concat(axis=1) instead. To get a de-fragmented frame, use `newframe = frame.copy()`\n",
      "  df_model_only[vector_cols] = df_model_only['model_array'].apply(pd.Series)\n",
      "/var/folders/3v/jtn2l28n5zs3r7hqrp339k900000gn/T/ipykernel_5375/577674020.py:1: PerformanceWarning: DataFrame is highly fragmented.  This is usually the result of calling `frame.insert` many times, which has poor performance.  Consider joining all columns at once using pd.concat(axis=1) instead. To get a de-fragmented frame, use `newframe = frame.copy()`\n",
      "  df_model_only[vector_cols] = df_model_only['model_array'].apply(pd.Series)\n",
      "/var/folders/3v/jtn2l28n5zs3r7hqrp339k900000gn/T/ipykernel_5375/577674020.py:1: PerformanceWarning: DataFrame is highly fragmented.  This is usually the result of calling `frame.insert` many times, which has poor performance.  Consider joining all columns at once using pd.concat(axis=1) instead. To get a de-fragmented frame, use `newframe = frame.copy()`\n",
      "  df_model_only[vector_cols] = df_model_only['model_array'].apply(pd.Series)\n",
      "/var/folders/3v/jtn2l28n5zs3r7hqrp339k900000gn/T/ipykernel_5375/577674020.py:1: PerformanceWarning: DataFrame is highly fragmented.  This is usually the result of calling `frame.insert` many times, which has poor performance.  Consider joining all columns at once using pd.concat(axis=1) instead. To get a de-fragmented frame, use `newframe = frame.copy()`\n",
      "  df_model_only[vector_cols] = df_model_only['model_array'].apply(pd.Series)\n",
      "/var/folders/3v/jtn2l28n5zs3r7hqrp339k900000gn/T/ipykernel_5375/577674020.py:1: PerformanceWarning: DataFrame is highly fragmented.  This is usually the result of calling `frame.insert` many times, which has poor performance.  Consider joining all columns at once using pd.concat(axis=1) instead. To get a de-fragmented frame, use `newframe = frame.copy()`\n",
      "  df_model_only[vector_cols] = df_model_only['model_array'].apply(pd.Series)\n",
      "/var/folders/3v/jtn2l28n5zs3r7hqrp339k900000gn/T/ipykernel_5375/577674020.py:1: PerformanceWarning: DataFrame is highly fragmented.  This is usually the result of calling `frame.insert` many times, which has poor performance.  Consider joining all columns at once using pd.concat(axis=1) instead. To get a de-fragmented frame, use `newframe = frame.copy()`\n",
      "  df_model_only[vector_cols] = df_model_only['model_array'].apply(pd.Series)\n",
      "/var/folders/3v/jtn2l28n5zs3r7hqrp339k900000gn/T/ipykernel_5375/577674020.py:1: PerformanceWarning: DataFrame is highly fragmented.  This is usually the result of calling `frame.insert` many times, which has poor performance.  Consider joining all columns at once using pd.concat(axis=1) instead. To get a de-fragmented frame, use `newframe = frame.copy()`\n",
      "  df_model_only[vector_cols] = df_model_only['model_array'].apply(pd.Series)\n",
      "/var/folders/3v/jtn2l28n5zs3r7hqrp339k900000gn/T/ipykernel_5375/577674020.py:1: PerformanceWarning: DataFrame is highly fragmented.  This is usually the result of calling `frame.insert` many times, which has poor performance.  Consider joining all columns at once using pd.concat(axis=1) instead. To get a de-fragmented frame, use `newframe = frame.copy()`\n",
      "  df_model_only[vector_cols] = df_model_only['model_array'].apply(pd.Series)\n",
      "/var/folders/3v/jtn2l28n5zs3r7hqrp339k900000gn/T/ipykernel_5375/577674020.py:1: PerformanceWarning: DataFrame is highly fragmented.  This is usually the result of calling `frame.insert` many times, which has poor performance.  Consider joining all columns at once using pd.concat(axis=1) instead. To get a de-fragmented frame, use `newframe = frame.copy()`\n",
      "  df_model_only[vector_cols] = df_model_only['model_array'].apply(pd.Series)\n",
      "/var/folders/3v/jtn2l28n5zs3r7hqrp339k900000gn/T/ipykernel_5375/577674020.py:1: PerformanceWarning: DataFrame is highly fragmented.  This is usually the result of calling `frame.insert` many times, which has poor performance.  Consider joining all columns at once using pd.concat(axis=1) instead. To get a de-fragmented frame, use `newframe = frame.copy()`\n",
      "  df_model_only[vector_cols] = df_model_only['model_array'].apply(pd.Series)\n",
      "/var/folders/3v/jtn2l28n5zs3r7hqrp339k900000gn/T/ipykernel_5375/577674020.py:1: PerformanceWarning: DataFrame is highly fragmented.  This is usually the result of calling `frame.insert` many times, which has poor performance.  Consider joining all columns at once using pd.concat(axis=1) instead. To get a de-fragmented frame, use `newframe = frame.copy()`\n",
      "  df_model_only[vector_cols] = df_model_only['model_array'].apply(pd.Series)\n",
      "/var/folders/3v/jtn2l28n5zs3r7hqrp339k900000gn/T/ipykernel_5375/577674020.py:1: PerformanceWarning: DataFrame is highly fragmented.  This is usually the result of calling `frame.insert` many times, which has poor performance.  Consider joining all columns at once using pd.concat(axis=1) instead. To get a de-fragmented frame, use `newframe = frame.copy()`\n",
      "  df_model_only[vector_cols] = df_model_only['model_array'].apply(pd.Series)\n"
     ]
    }
   ],
   "source": [
    "df_model_only[vector_cols] = df_model_only['model_array'].apply(pd.Series)"
   ]
  },
  {
   "cell_type": "code",
   "execution_count": 327,
   "id": "16ebfeeb-2dd6-4aa1-a1e0-ac4d8f3c7751",
   "metadata": {},
   "outputs": [
    {
     "data": {
      "text/html": [
       "<div>\n",
       "<style scoped>\n",
       "    .dataframe tbody tr th:only-of-type {\n",
       "        vertical-align: middle;\n",
       "    }\n",
       "\n",
       "    .dataframe tbody tr th {\n",
       "        vertical-align: top;\n",
       "    }\n",
       "\n",
       "    .dataframe thead th {\n",
       "        text-align: right;\n",
       "    }\n",
       "</style>\n",
       "<table border=\"1\" class=\"dataframe\">\n",
       "  <thead>\n",
       "    <tr style=\"text-align: right;\">\n",
       "      <th></th>\n",
       "      <th>model</th>\n",
       "      <th>maker</th>\n",
       "      <th>model_array</th>\n",
       "      <th>vector_0</th>\n",
       "      <th>vector_1</th>\n",
       "      <th>vector_2</th>\n",
       "      <th>vector_3</th>\n",
       "      <th>vector_4</th>\n",
       "      <th>vector_5</th>\n",
       "      <th>vector_6</th>\n",
       "      <th>...</th>\n",
       "      <th>vector_290</th>\n",
       "      <th>vector_291</th>\n",
       "      <th>vector_292</th>\n",
       "      <th>vector_293</th>\n",
       "      <th>vector_294</th>\n",
       "      <th>vector_295</th>\n",
       "      <th>vector_296</th>\n",
       "      <th>vector_297</th>\n",
       "      <th>vector_298</th>\n",
       "      <th>vector_299</th>\n",
       "    </tr>\n",
       "  </thead>\n",
       "  <tbody>\n",
       "    <tr>\n",
       "      <th>0</th>\n",
       "      <td>galaxy</td>\n",
       "      <td>ford</td>\n",
       "      <td>[-0.2007, 0.90223, -3.8486, -0.41919, -0.65521...</td>\n",
       "      <td>-0.2007</td>\n",
       "      <td>0.90223</td>\n",
       "      <td>-3.8486</td>\n",
       "      <td>-0.41919</td>\n",
       "      <td>-0.65521</td>\n",
       "      <td>1.07680</td>\n",
       "      <td>0.069484</td>\n",
       "      <td>...</td>\n",
       "      <td>1.4523</td>\n",
       "      <td>0.67317</td>\n",
       "      <td>-1.05620</td>\n",
       "      <td>4.3883</td>\n",
       "      <td>2.6743</td>\n",
       "      <td>2.7955</td>\n",
       "      <td>-1.9833</td>\n",
       "      <td>-2.5062</td>\n",
       "      <td>-2.2094</td>\n",
       "      <td>1.5681</td>\n",
       "    </tr>\n",
       "    <tr>\n",
       "      <th>1</th>\n",
       "      <td>octavia</td>\n",
       "      <td>skoda</td>\n",
       "      <td>[4.7219, 3.2212, 4.2298, -2.5683, -1.5045, 0.3...</td>\n",
       "      <td>4.7219</td>\n",
       "      <td>3.22120</td>\n",
       "      <td>4.2298</td>\n",
       "      <td>-2.56830</td>\n",
       "      <td>-1.50450</td>\n",
       "      <td>0.35423</td>\n",
       "      <td>0.451620</td>\n",
       "      <td>...</td>\n",
       "      <td>4.4964</td>\n",
       "      <td>-0.89916</td>\n",
       "      <td>-0.82357</td>\n",
       "      <td>-3.2395</td>\n",
       "      <td>-0.5880</td>\n",
       "      <td>2.0603</td>\n",
       "      <td>3.5203</td>\n",
       "      <td>-1.8015</td>\n",
       "      <td>-2.0344</td>\n",
       "      <td>1.4750</td>\n",
       "    </tr>\n",
       "  </tbody>\n",
       "</table>\n",
       "<p>2 rows × 303 columns</p>\n",
       "</div>"
      ],
      "text/plain": [
       "     model  maker                                        model_array  \\\n",
       "0   galaxy   ford  [-0.2007, 0.90223, -3.8486, -0.41919, -0.65521...   \n",
       "1  octavia  skoda  [4.7219, 3.2212, 4.2298, -2.5683, -1.5045, 0.3...   \n",
       "\n",
       "   vector_0  vector_1  vector_2  vector_3  vector_4  vector_5  vector_6  ...  \\\n",
       "0   -0.2007   0.90223   -3.8486  -0.41919  -0.65521   1.07680  0.069484  ...   \n",
       "1    4.7219   3.22120    4.2298  -2.56830  -1.50450   0.35423  0.451620  ...   \n",
       "\n",
       "   vector_290  vector_291  vector_292  vector_293  vector_294  vector_295  \\\n",
       "0      1.4523     0.67317    -1.05620      4.3883      2.6743      2.7955   \n",
       "1      4.4964    -0.89916    -0.82357     -3.2395     -0.5880      2.0603   \n",
       "\n",
       "   vector_296  vector_297  vector_298  vector_299  \n",
       "0     -1.9833     -2.5062     -2.2094      1.5681  \n",
       "1      3.5203     -1.8015     -2.0344      1.4750  \n",
       "\n",
       "[2 rows x 303 columns]"
      ]
     },
     "execution_count": 327,
     "metadata": {},
     "output_type": "execute_result"
    }
   ],
   "source": [
    "df_model_only.head(2)"
   ]
  },
  {
   "cell_type": "code",
   "execution_count": 328,
   "id": "1998ca42-055b-4a69-8d5e-33f47244d07c",
   "metadata": {},
   "outputs": [],
   "source": [
    "our_columns = []\n",
    "for col in df_model_only.columns:\n",
    "    if col == 'model_array':\n",
    "        pass\n",
    "    else:\n",
    "        our_columns.append(col)"
   ]
  },
  {
   "cell_type": "code",
   "execution_count": 329,
   "id": "3634607b-27d7-4b28-be47-636e40675a6c",
   "metadata": {},
   "outputs": [],
   "source": [
    "df_model_only = df_model_only[our_columns]"
   ]
  },
  {
   "cell_type": "code",
   "execution_count": 332,
   "id": "f7b38d7c-eaac-4a23-add1-f6fdc9ee7a19",
   "metadata": {},
   "outputs": [
    {
     "data": {
      "text/html": [
       "<div>\n",
       "<style scoped>\n",
       "    .dataframe tbody tr th:only-of-type {\n",
       "        vertical-align: middle;\n",
       "    }\n",
       "\n",
       "    .dataframe tbody tr th {\n",
       "        vertical-align: top;\n",
       "    }\n",
       "\n",
       "    .dataframe thead th {\n",
       "        text-align: right;\n",
       "    }\n",
       "</style>\n",
       "<table border=\"1\" class=\"dataframe\">\n",
       "  <thead>\n",
       "    <tr style=\"text-align: right;\">\n",
       "      <th></th>\n",
       "      <th>model</th>\n",
       "      <th>maker</th>\n",
       "      <th>vector_0</th>\n",
       "      <th>vector_1</th>\n",
       "      <th>vector_2</th>\n",
       "      <th>vector_3</th>\n",
       "      <th>vector_4</th>\n",
       "      <th>vector_5</th>\n",
       "      <th>vector_6</th>\n",
       "      <th>vector_7</th>\n",
       "      <th>...</th>\n",
       "      <th>vector_290</th>\n",
       "      <th>vector_291</th>\n",
       "      <th>vector_292</th>\n",
       "      <th>vector_293</th>\n",
       "      <th>vector_294</th>\n",
       "      <th>vector_295</th>\n",
       "      <th>vector_296</th>\n",
       "      <th>vector_297</th>\n",
       "      <th>vector_298</th>\n",
       "      <th>vector_299</th>\n",
       "    </tr>\n",
       "  </thead>\n",
       "  <tbody>\n",
       "    <tr>\n",
       "      <th>0</th>\n",
       "      <td>galaxy</td>\n",
       "      <td>ford</td>\n",
       "      <td>-0.2007</td>\n",
       "      <td>0.90223</td>\n",
       "      <td>-3.8486</td>\n",
       "      <td>-0.41919</td>\n",
       "      <td>-0.65521</td>\n",
       "      <td>1.07680</td>\n",
       "      <td>0.069484</td>\n",
       "      <td>-1.3384</td>\n",
       "      <td>...</td>\n",
       "      <td>1.4523</td>\n",
       "      <td>0.67317</td>\n",
       "      <td>-1.05620</td>\n",
       "      <td>4.3883</td>\n",
       "      <td>2.6743</td>\n",
       "      <td>2.79550</td>\n",
       "      <td>-1.98330</td>\n",
       "      <td>-2.5062</td>\n",
       "      <td>-2.2094</td>\n",
       "      <td>1.5681</td>\n",
       "    </tr>\n",
       "    <tr>\n",
       "      <th>1</th>\n",
       "      <td>octavia</td>\n",
       "      <td>skoda</td>\n",
       "      <td>4.7219</td>\n",
       "      <td>3.22120</td>\n",
       "      <td>4.2298</td>\n",
       "      <td>-2.56830</td>\n",
       "      <td>-1.50450</td>\n",
       "      <td>0.35423</td>\n",
       "      <td>0.451620</td>\n",
       "      <td>1.3794</td>\n",
       "      <td>...</td>\n",
       "      <td>4.4964</td>\n",
       "      <td>-0.89916</td>\n",
       "      <td>-0.82357</td>\n",
       "      <td>-3.2395</td>\n",
       "      <td>-0.5880</td>\n",
       "      <td>2.06030</td>\n",
       "      <td>3.52030</td>\n",
       "      <td>-1.8015</td>\n",
       "      <td>-2.0344</td>\n",
       "      <td>1.4750</td>\n",
       "    </tr>\n",
       "    <tr>\n",
       "      <th>2</th>\n",
       "      <td>other</td>\n",
       "      <td>bmw</td>\n",
       "      <td>-2.2261</td>\n",
       "      <td>-4.05040</td>\n",
       "      <td>-3.5597</td>\n",
       "      <td>0.20352</td>\n",
       "      <td>3.40450</td>\n",
       "      <td>4.10190</td>\n",
       "      <td>-1.577000</td>\n",
       "      <td>10.5800</td>\n",
       "      <td>...</td>\n",
       "      <td>-3.1541</td>\n",
       "      <td>-6.04740</td>\n",
       "      <td>0.27548</td>\n",
       "      <td>-3.2844</td>\n",
       "      <td>-4.1960</td>\n",
       "      <td>-0.62479</td>\n",
       "      <td>-0.17135</td>\n",
       "      <td>-6.9324</td>\n",
       "      <td>-3.3891</td>\n",
       "      <td>1.8745</td>\n",
       "    </tr>\n",
       "  </tbody>\n",
       "</table>\n",
       "<p>3 rows × 302 columns</p>\n",
       "</div>"
      ],
      "text/plain": [
       "     model  maker  vector_0  vector_1  vector_2  vector_3  vector_4  vector_5  \\\n",
       "0   galaxy   ford   -0.2007   0.90223   -3.8486  -0.41919  -0.65521   1.07680   \n",
       "1  octavia  skoda    4.7219   3.22120    4.2298  -2.56830  -1.50450   0.35423   \n",
       "2    other    bmw   -2.2261  -4.05040   -3.5597   0.20352   3.40450   4.10190   \n",
       "\n",
       "   vector_6  vector_7  ...  vector_290  vector_291  vector_292  vector_293  \\\n",
       "0  0.069484   -1.3384  ...      1.4523     0.67317    -1.05620      4.3883   \n",
       "1  0.451620    1.3794  ...      4.4964    -0.89916    -0.82357     -3.2395   \n",
       "2 -1.577000   10.5800  ...     -3.1541    -6.04740     0.27548     -3.2844   \n",
       "\n",
       "   vector_294  vector_295  vector_296  vector_297  vector_298  vector_299  \n",
       "0      2.6743     2.79550    -1.98330     -2.5062     -2.2094      1.5681  \n",
       "1     -0.5880     2.06030     3.52030     -1.8015     -2.0344      1.4750  \n",
       "2     -4.1960    -0.62479    -0.17135     -6.9324     -3.3891      1.8745  \n",
       "\n",
       "[3 rows x 302 columns]"
      ]
     },
     "execution_count": 332,
     "metadata": {},
     "output_type": "execute_result"
    }
   ],
   "source": [
    "df_model_only.head(3)"
   ]
  },
  {
   "cell_type": "code",
   "execution_count": 347,
   "id": "7b87af1a-6b08-4f8b-8ccf-46b7b0d5559f",
   "metadata": {},
   "outputs": [
    {
     "data": {
      "text/html": [
       "<div>\n",
       "<style scoped>\n",
       "    .dataframe tbody tr th:only-of-type {\n",
       "        vertical-align: middle;\n",
       "    }\n",
       "\n",
       "    .dataframe tbody tr th {\n",
       "        vertical-align: top;\n",
       "    }\n",
       "\n",
       "    .dataframe thead th {\n",
       "        text-align: right;\n",
       "    }\n",
       "</style>\n",
       "<table border=\"1\" class=\"dataframe\">\n",
       "  <thead>\n",
       "    <tr style=\"text-align: right;\">\n",
       "      <th></th>\n",
       "      <th>maker</th>\n",
       "      <th>model</th>\n",
       "      <th>mileage</th>\n",
       "      <th>manufacture_year</th>\n",
       "      <th>engine_displacement</th>\n",
       "      <th>engine_power</th>\n",
       "      <th>body_type</th>\n",
       "      <th>transmission</th>\n",
       "      <th>door_count</th>\n",
       "      <th>seat_count</th>\n",
       "      <th>fuel_type</th>\n",
       "      <th>date_created</th>\n",
       "      <th>date_last_seen</th>\n",
       "      <th>price_eur</th>\n",
       "      <th>time_diff_days</th>\n",
       "      <th>time_diff_hours</th>\n",
       "    </tr>\n",
       "  </thead>\n",
       "  <tbody>\n",
       "    <tr>\n",
       "      <th>0</th>\n",
       "      <td>ford</td>\n",
       "      <td>galaxy</td>\n",
       "      <td>151000</td>\n",
       "      <td>2011</td>\n",
       "      <td>2000</td>\n",
       "      <td>103</td>\n",
       "      <td>other</td>\n",
       "      <td>man</td>\n",
       "      <td>5</td>\n",
       "      <td>7</td>\n",
       "      <td>diesel</td>\n",
       "      <td>2015-11-14 18:10:06.838319+00:00</td>\n",
       "      <td>2016-01-27 20:40:15.463610+00:00</td>\n",
       "      <td>10584.75</td>\n",
       "      <td>74</td>\n",
       "      <td>1778</td>\n",
       "    </tr>\n",
       "    <tr>\n",
       "      <th>1</th>\n",
       "      <td>skoda</td>\n",
       "      <td>octavia</td>\n",
       "      <td>143476</td>\n",
       "      <td>2012</td>\n",
       "      <td>2000</td>\n",
       "      <td>81</td>\n",
       "      <td>other</td>\n",
       "      <td>man</td>\n",
       "      <td>5</td>\n",
       "      <td>5</td>\n",
       "      <td>diesel</td>\n",
       "      <td>2015-11-14 18:10:06.853411+00:00</td>\n",
       "      <td>2016-01-27 20:40:15.463610+00:00</td>\n",
       "      <td>8882.31</td>\n",
       "      <td>74</td>\n",
       "      <td>1778</td>\n",
       "    </tr>\n",
       "    <tr>\n",
       "      <th>2</th>\n",
       "      <td>bmw</td>\n",
       "      <td>other</td>\n",
       "      <td>97676</td>\n",
       "      <td>2010</td>\n",
       "      <td>1995</td>\n",
       "      <td>85</td>\n",
       "      <td>other</td>\n",
       "      <td>man</td>\n",
       "      <td>5</td>\n",
       "      <td>5</td>\n",
       "      <td>diesel</td>\n",
       "      <td>2015-11-14 18:10:06.861792+00:00</td>\n",
       "      <td>2016-01-27 20:40:15.463610+00:00</td>\n",
       "      <td>12065.06</td>\n",
       "      <td>74</td>\n",
       "      <td>1778</td>\n",
       "    </tr>\n",
       "    <tr>\n",
       "      <th>3</th>\n",
       "      <td>skoda</td>\n",
       "      <td>fabia</td>\n",
       "      <td>111970</td>\n",
       "      <td>2004</td>\n",
       "      <td>1200</td>\n",
       "      <td>47</td>\n",
       "      <td>other</td>\n",
       "      <td>man</td>\n",
       "      <td>5</td>\n",
       "      <td>5</td>\n",
       "      <td>gasoline</td>\n",
       "      <td>2015-11-14 18:10:06.872313+00:00</td>\n",
       "      <td>2016-01-27 20:40:15.463610+00:00</td>\n",
       "      <td>2960.77</td>\n",
       "      <td>74</td>\n",
       "      <td>1778</td>\n",
       "    </tr>\n",
       "    <tr>\n",
       "      <th>4</th>\n",
       "      <td>skoda</td>\n",
       "      <td>fabia</td>\n",
       "      <td>128886</td>\n",
       "      <td>2004</td>\n",
       "      <td>1200</td>\n",
       "      <td>47</td>\n",
       "      <td>other</td>\n",
       "      <td>man</td>\n",
       "      <td>5</td>\n",
       "      <td>5</td>\n",
       "      <td>gasoline</td>\n",
       "      <td>2015-11-14 18:10:06.880335+00:00</td>\n",
       "      <td>2016-01-27 20:40:15.463610+00:00</td>\n",
       "      <td>2738.71</td>\n",
       "      <td>74</td>\n",
       "      <td>1778</td>\n",
       "    </tr>\n",
       "  </tbody>\n",
       "</table>\n",
       "</div>"
      ],
      "text/plain": [
       "   maker    model  mileage  manufacture_year  engine_displacement  \\\n",
       "0   ford   galaxy   151000              2011                 2000   \n",
       "1  skoda  octavia   143476              2012                 2000   \n",
       "2    bmw    other    97676              2010                 1995   \n",
       "3  skoda    fabia   111970              2004                 1200   \n",
       "4  skoda    fabia   128886              2004                 1200   \n",
       "\n",
       "   engine_power body_type transmission  door_count  seat_count fuel_type  \\\n",
       "0           103     other          man           5           7    diesel   \n",
       "1            81     other          man           5           5    diesel   \n",
       "2            85     other          man           5           5    diesel   \n",
       "3            47     other          man           5           5  gasoline   \n",
       "4            47     other          man           5           5  gasoline   \n",
       "\n",
       "                      date_created                   date_last_seen  \\\n",
       "0 2015-11-14 18:10:06.838319+00:00 2016-01-27 20:40:15.463610+00:00   \n",
       "1 2015-11-14 18:10:06.853411+00:00 2016-01-27 20:40:15.463610+00:00   \n",
       "2 2015-11-14 18:10:06.861792+00:00 2016-01-27 20:40:15.463610+00:00   \n",
       "3 2015-11-14 18:10:06.872313+00:00 2016-01-27 20:40:15.463610+00:00   \n",
       "4 2015-11-14 18:10:06.880335+00:00 2016-01-27 20:40:15.463610+00:00   \n",
       "\n",
       "   price_eur  time_diff_days  time_diff_hours  \n",
       "0   10584.75              74             1778  \n",
       "1    8882.31              74             1778  \n",
       "2   12065.06              74             1778  \n",
       "3    2960.77              74             1778  \n",
       "4    2738.71              74             1778  "
      ]
     },
     "execution_count": 347,
     "metadata": {},
     "output_type": "execute_result"
    }
   ],
   "source": [
    "df.head()"
   ]
  },
  {
   "cell_type": "code",
   "execution_count": 349,
   "id": "3666a49a-b467-4b64-b014-0ef62f02b3c1",
   "metadata": {},
   "outputs": [
    {
     "data": {
      "text/plain": [
       "114426    281917\n",
       "0         136241\n",
       "10         88213\n",
       "1          31635\n",
       "100        21857\n",
       "5          19051\n",
       "150000     12376\n",
       "15         11401\n",
       "200000     10547\n",
       "160000      9720\n",
       "180000      9452\n",
       "170000      9181\n",
       "20          9148\n",
       "50          8889\n",
       "130000      8857\n",
       "140000      8800\n",
       "100000      8738\n",
       "120000      8398\n",
       "220000      8221\n",
       "125000      7932\n",
       "Name: mileage, dtype: int64"
      ]
     },
     "execution_count": 349,
     "metadata": {},
     "output_type": "execute_result"
    }
   ],
   "source": [
    "df.mileage.value_counts()[:20]"
   ]
  },
  {
   "cell_type": "code",
   "execution_count": null,
   "id": "8efc5a14-15ce-4276-8e3f-6c2e6df5a2fd",
   "metadata": {},
   "outputs": [],
   "source": []
  },
  {
   "cell_type": "code",
   "execution_count": null,
   "id": "1131a5fe-7598-4fce-bff7-396776e87778",
   "metadata": {},
   "outputs": [],
   "source": []
  },
  {
   "cell_type": "code",
   "execution_count": null,
   "id": "7a7f8bac-c0d3-4ed4-8812-bace00972bdd",
   "metadata": {},
   "outputs": [],
   "source": []
  },
  {
   "cell_type": "code",
   "execution_count": 333,
   "id": "6016a811-0e29-4740-add3-89b73408c896",
   "metadata": {},
   "outputs": [],
   "source": [
    "df_final = pd.merge(df, df_model_only, on=['maker', 'model'])"
   ]
  },
  {
   "cell_type": "code",
   "execution_count": 337,
   "id": "8b210742-7217-4bd8-b0c6-43e06725b3c8",
   "metadata": {},
   "outputs": [
    {
     "data": {
      "text/plain": [
       "maker                   object\n",
       "model                   object\n",
       "mileage                  int64\n",
       "manufacture_year         int64\n",
       "engine_displacement      int64\n",
       "                        ...   \n",
       "vector_295             float32\n",
       "vector_296             float32\n",
       "vector_297             float32\n",
       "vector_298             float32\n",
       "vector_299             float32\n",
       "Length: 316, dtype: object"
      ]
     },
     "execution_count": 337,
     "metadata": {},
     "output_type": "execute_result"
    }
   ],
   "source": [
    "df_final.dtypes"
   ]
  },
  {
   "cell_type": "code",
   "execution_count": 350,
   "id": "b4d2e6b4-9f6c-4877-90c4-b9ec4b0b0d4c",
   "metadata": {},
   "outputs": [
    {
     "data": {
      "text/html": [
       "<div>\n",
       "<style scoped>\n",
       "    .dataframe tbody tr th:only-of-type {\n",
       "        vertical-align: middle;\n",
       "    }\n",
       "\n",
       "    .dataframe tbody tr th {\n",
       "        vertical-align: top;\n",
       "    }\n",
       "\n",
       "    .dataframe thead th {\n",
       "        text-align: right;\n",
       "    }\n",
       "</style>\n",
       "<table border=\"1\" class=\"dataframe\">\n",
       "  <thead>\n",
       "    <tr style=\"text-align: right;\">\n",
       "      <th></th>\n",
       "      <th>maker</th>\n",
       "      <th>model</th>\n",
       "      <th>mileage</th>\n",
       "      <th>manufacture_year</th>\n",
       "      <th>engine_displacement</th>\n",
       "      <th>engine_power</th>\n",
       "      <th>body_type</th>\n",
       "      <th>transmission</th>\n",
       "      <th>door_count</th>\n",
       "      <th>seat_count</th>\n",
       "      <th>...</th>\n",
       "      <th>vector_290</th>\n",
       "      <th>vector_291</th>\n",
       "      <th>vector_292</th>\n",
       "      <th>vector_293</th>\n",
       "      <th>vector_294</th>\n",
       "      <th>vector_295</th>\n",
       "      <th>vector_296</th>\n",
       "      <th>vector_297</th>\n",
       "      <th>vector_298</th>\n",
       "      <th>vector_299</th>\n",
       "    </tr>\n",
       "  </thead>\n",
       "  <tbody>\n",
       "    <tr>\n",
       "      <th>0</th>\n",
       "      <td>ford</td>\n",
       "      <td>galaxy</td>\n",
       "      <td>151000</td>\n",
       "      <td>2011</td>\n",
       "      <td>2000</td>\n",
       "      <td>103</td>\n",
       "      <td>other</td>\n",
       "      <td>man</td>\n",
       "      <td>5</td>\n",
       "      <td>7</td>\n",
       "      <td>...</td>\n",
       "      <td>1.4523</td>\n",
       "      <td>0.67317</td>\n",
       "      <td>-1.0562</td>\n",
       "      <td>4.3883</td>\n",
       "      <td>2.6743</td>\n",
       "      <td>2.7955</td>\n",
       "      <td>-1.9833</td>\n",
       "      <td>-2.5062</td>\n",
       "      <td>-2.2094</td>\n",
       "      <td>1.5681</td>\n",
       "    </tr>\n",
       "    <tr>\n",
       "      <th>1</th>\n",
       "      <td>ford</td>\n",
       "      <td>galaxy</td>\n",
       "      <td>160235</td>\n",
       "      <td>2012</td>\n",
       "      <td>1600</td>\n",
       "      <td>85</td>\n",
       "      <td>other</td>\n",
       "      <td>man</td>\n",
       "      <td>5</td>\n",
       "      <td>5</td>\n",
       "      <td>...</td>\n",
       "      <td>1.4523</td>\n",
       "      <td>0.67317</td>\n",
       "      <td>-1.0562</td>\n",
       "      <td>4.3883</td>\n",
       "      <td>2.6743</td>\n",
       "      <td>2.7955</td>\n",
       "      <td>-1.9833</td>\n",
       "      <td>-2.5062</td>\n",
       "      <td>-2.2094</td>\n",
       "      <td>1.5681</td>\n",
       "    </tr>\n",
       "    <tr>\n",
       "      <th>2</th>\n",
       "      <td>ford</td>\n",
       "      <td>galaxy</td>\n",
       "      <td>263000</td>\n",
       "      <td>1998</td>\n",
       "      <td>1998</td>\n",
       "      <td>85</td>\n",
       "      <td>other</td>\n",
       "      <td>man</td>\n",
       "      <td>5</td>\n",
       "      <td>7</td>\n",
       "      <td>...</td>\n",
       "      <td>1.4523</td>\n",
       "      <td>0.67317</td>\n",
       "      <td>-1.0562</td>\n",
       "      <td>4.3883</td>\n",
       "      <td>2.6743</td>\n",
       "      <td>2.7955</td>\n",
       "      <td>-1.9833</td>\n",
       "      <td>-2.5062</td>\n",
       "      <td>-2.2094</td>\n",
       "      <td>1.5681</td>\n",
       "    </tr>\n",
       "  </tbody>\n",
       "</table>\n",
       "<p>3 rows × 316 columns</p>\n",
       "</div>"
      ],
      "text/plain": [
       "  maker   model  mileage  manufacture_year  engine_displacement  engine_power  \\\n",
       "0  ford  galaxy   151000              2011                 2000           103   \n",
       "1  ford  galaxy   160235              2012                 1600            85   \n",
       "2  ford  galaxy   263000              1998                 1998            85   \n",
       "\n",
       "  body_type transmission  door_count  seat_count  ... vector_290 vector_291  \\\n",
       "0     other          man           5           7  ...     1.4523    0.67317   \n",
       "1     other          man           5           5  ...     1.4523    0.67317   \n",
       "2     other          man           5           7  ...     1.4523    0.67317   \n",
       "\n",
       "  vector_292  vector_293  vector_294  vector_295  vector_296  vector_297  \\\n",
       "0    -1.0562      4.3883      2.6743      2.7955     -1.9833     -2.5062   \n",
       "1    -1.0562      4.3883      2.6743      2.7955     -1.9833     -2.5062   \n",
       "2    -1.0562      4.3883      2.6743      2.7955     -1.9833     -2.5062   \n",
       "\n",
       "   vector_298  vector_299  \n",
       "0     -2.2094      1.5681  \n",
       "1     -2.2094      1.5681  \n",
       "2     -2.2094      1.5681  \n",
       "\n",
       "[3 rows x 316 columns]"
      ]
     },
     "execution_count": 350,
     "metadata": {},
     "output_type": "execute_result"
    }
   ],
   "source": [
    "df_final.head(3)"
   ]
  },
  {
   "cell_type": "code",
   "execution_count": null,
   "id": "7e722751-9c9b-40d7-9583-3e62f3981622",
   "metadata": {},
   "outputs": [],
   "source": []
  },
  {
   "cell_type": "code",
   "execution_count": null,
   "id": "d7f59be4-230a-43c4-854d-eaf04033a00c",
   "metadata": {},
   "outputs": [],
   "source": []
  },
  {
   "cell_type": "markdown",
   "id": "708ba532-530c-4334-a025-c8f4d8a8fbe9",
   "metadata": {},
   "source": [
    "## Now we are going to take only numerical columns and create ranges of values"
   ]
  },
  {
   "cell_type": "code",
   "execution_count": 352,
   "id": "535579c7-d1b2-4fea-bf94-fed6df35ea8a",
   "metadata": {},
   "outputs": [],
   "source": [
    "df_int = df_final.select_dtypes(include='number')"
   ]
  },
  {
   "cell_type": "code",
   "execution_count": null,
   "id": "1e843ced-a5fa-4da1-8533-82f045b26d72",
   "metadata": {},
   "outputs": [],
   "source": []
  },
  {
   "cell_type": "code",
   "execution_count": 353,
   "id": "a38616b4-d64f-48cf-9782-6a10fad78ef1",
   "metadata": {},
   "outputs": [
    {
     "data": {
      "text/plain": [
       "Index(['mileage', 'manufacture_year', 'engine_displacement', 'engine_power',\n",
       "       'door_count', 'seat_count', 'price_eur', 'time_diff_days',\n",
       "       'time_diff_hours', 'vector_0',\n",
       "       ...\n",
       "       'vector_290', 'vector_291', 'vector_292', 'vector_293', 'vector_294',\n",
       "       'vector_295', 'vector_296', 'vector_297', 'vector_298', 'vector_299'],\n",
       "      dtype='object', length=309)"
      ]
     },
     "execution_count": 353,
     "metadata": {},
     "output_type": "execute_result"
    }
   ],
   "source": [
    "df_int.columns"
   ]
  },
  {
   "cell_type": "code",
   "execution_count": 354,
   "id": "cd911506-e5b8-42f9-9770-32b1aa551b1f",
   "metadata": {},
   "outputs": [
    {
     "data": {
      "text/html": [
       "<div>\n",
       "<style scoped>\n",
       "    .dataframe tbody tr th:only-of-type {\n",
       "        vertical-align: middle;\n",
       "    }\n",
       "\n",
       "    .dataframe tbody tr th {\n",
       "        vertical-align: top;\n",
       "    }\n",
       "\n",
       "    .dataframe thead th {\n",
       "        text-align: right;\n",
       "    }\n",
       "</style>\n",
       "<table border=\"1\" class=\"dataframe\">\n",
       "  <thead>\n",
       "    <tr style=\"text-align: right;\">\n",
       "      <th></th>\n",
       "      <th>mileage</th>\n",
       "      <th>manufacture_year</th>\n",
       "      <th>engine_displacement</th>\n",
       "      <th>engine_power</th>\n",
       "      <th>door_count</th>\n",
       "      <th>seat_count</th>\n",
       "      <th>price_eur</th>\n",
       "      <th>time_diff_days</th>\n",
       "      <th>time_diff_hours</th>\n",
       "      <th>vector_0</th>\n",
       "      <th>...</th>\n",
       "      <th>vector_290</th>\n",
       "      <th>vector_291</th>\n",
       "      <th>vector_292</th>\n",
       "      <th>vector_293</th>\n",
       "      <th>vector_294</th>\n",
       "      <th>vector_295</th>\n",
       "      <th>vector_296</th>\n",
       "      <th>vector_297</th>\n",
       "      <th>vector_298</th>\n",
       "      <th>vector_299</th>\n",
       "    </tr>\n",
       "  </thead>\n",
       "  <tbody>\n",
       "    <tr>\n",
       "      <th>0</th>\n",
       "      <td>151000</td>\n",
       "      <td>2011</td>\n",
       "      <td>2000</td>\n",
       "      <td>103</td>\n",
       "      <td>5</td>\n",
       "      <td>7</td>\n",
       "      <td>10584.75</td>\n",
       "      <td>74</td>\n",
       "      <td>1778</td>\n",
       "      <td>-0.2007</td>\n",
       "      <td>...</td>\n",
       "      <td>1.4523</td>\n",
       "      <td>0.67317</td>\n",
       "      <td>-1.0562</td>\n",
       "      <td>4.3883</td>\n",
       "      <td>2.6743</td>\n",
       "      <td>2.7955</td>\n",
       "      <td>-1.9833</td>\n",
       "      <td>-2.5062</td>\n",
       "      <td>-2.2094</td>\n",
       "      <td>1.5681</td>\n",
       "    </tr>\n",
       "    <tr>\n",
       "      <th>1</th>\n",
       "      <td>160235</td>\n",
       "      <td>2012</td>\n",
       "      <td>1600</td>\n",
       "      <td>85</td>\n",
       "      <td>5</td>\n",
       "      <td>5</td>\n",
       "      <td>11102.89</td>\n",
       "      <td>74</td>\n",
       "      <td>1778</td>\n",
       "      <td>-0.2007</td>\n",
       "      <td>...</td>\n",
       "      <td>1.4523</td>\n",
       "      <td>0.67317</td>\n",
       "      <td>-1.0562</td>\n",
       "      <td>4.3883</td>\n",
       "      <td>2.6743</td>\n",
       "      <td>2.7955</td>\n",
       "      <td>-1.9833</td>\n",
       "      <td>-2.5062</td>\n",
       "      <td>-2.2094</td>\n",
       "      <td>1.5681</td>\n",
       "    </tr>\n",
       "    <tr>\n",
       "      <th>2</th>\n",
       "      <td>263000</td>\n",
       "      <td>1998</td>\n",
       "      <td>1998</td>\n",
       "      <td>85</td>\n",
       "      <td>5</td>\n",
       "      <td>7</td>\n",
       "      <td>740.19</td>\n",
       "      <td>74</td>\n",
       "      <td>1777</td>\n",
       "      <td>-0.2007</td>\n",
       "      <td>...</td>\n",
       "      <td>1.4523</td>\n",
       "      <td>0.67317</td>\n",
       "      <td>-1.0562</td>\n",
       "      <td>4.3883</td>\n",
       "      <td>2.6743</td>\n",
       "      <td>2.7955</td>\n",
       "      <td>-1.9833</td>\n",
       "      <td>-2.5062</td>\n",
       "      <td>-2.2094</td>\n",
       "      <td>1.5681</td>\n",
       "    </tr>\n",
       "  </tbody>\n",
       "</table>\n",
       "<p>3 rows × 309 columns</p>\n",
       "</div>"
      ],
      "text/plain": [
       "   mileage  manufacture_year  engine_displacement  engine_power  door_count  \\\n",
       "0   151000              2011                 2000           103           5   \n",
       "1   160235              2012                 1600            85           5   \n",
       "2   263000              1998                 1998            85           5   \n",
       "\n",
       "   seat_count  price_eur  time_diff_days  time_diff_hours  vector_0  ...  \\\n",
       "0           7   10584.75              74             1778   -0.2007  ...   \n",
       "1           5   11102.89              74             1778   -0.2007  ...   \n",
       "2           7     740.19              74             1777   -0.2007  ...   \n",
       "\n",
       "   vector_290  vector_291  vector_292  vector_293  vector_294  vector_295  \\\n",
       "0      1.4523     0.67317     -1.0562      4.3883      2.6743      2.7955   \n",
       "1      1.4523     0.67317     -1.0562      4.3883      2.6743      2.7955   \n",
       "2      1.4523     0.67317     -1.0562      4.3883      2.6743      2.7955   \n",
       "\n",
       "   vector_296  vector_297  vector_298  vector_299  \n",
       "0     -1.9833     -2.5062     -2.2094      1.5681  \n",
       "1     -1.9833     -2.5062     -2.2094      1.5681  \n",
       "2     -1.9833     -2.5062     -2.2094      1.5681  \n",
       "\n",
       "[3 rows x 309 columns]"
      ]
     },
     "execution_count": 354,
     "metadata": {},
     "output_type": "execute_result"
    }
   ],
   "source": [
    "df_int.head(3)"
   ]
  },
  {
   "cell_type": "code",
   "execution_count": 342,
   "id": "aaaaa6fd-bccc-4f19-aabf-e03ff01050d5",
   "metadata": {},
   "outputs": [
    {
     "data": {
      "text/plain": [
       "(3033290, 309)"
      ]
     },
     "execution_count": 342,
     "metadata": {},
     "output_type": "execute_result"
    }
   ],
   "source": [
    "df_int.shape"
   ]
  },
  {
   "cell_type": "markdown",
   "id": "41222e31-e41f-4025-9c9a-114461fefecd",
   "metadata": {},
   "source": [
    "## For column 'mileage' we will create 30 equal ranges according to quantiles. 1/30 ~ 0.033. It means that group number 2 represents (2+1) * 0.033 = 0.01 or 10th quantile of whole values in this column. group 11 represents (11+1) * 0.033 = 0.396 or 39,6th quantile of values"
   ]
  },
  {
   "cell_type": "code",
   "execution_count": 358,
   "id": "87e72803-65e9-4965-be61-20ec4ec76c81",
   "metadata": {},
   "outputs": [
    {
     "data": {
      "text/plain": [
       "237568"
      ]
     },
     "execution_count": 358,
     "metadata": {},
     "output_type": "execute_result"
    }
   ],
   "source": [
    "len(df_int.mileage.unique())"
   ]
  },
  {
   "cell_type": "code",
   "execution_count": 373,
   "id": "b1b1ac92-fa2b-4ad3-a3b7-47e066a8686d",
   "metadata": {},
   "outputs": [
    {
     "data": {
      "text/plain": [
       "114426    281917\n",
       "0         136241\n",
       "10         88213\n",
       "1          31635\n",
       "100        21857\n",
       "5          19051\n",
       "150000     12376\n",
       "15         11401\n",
       "200000     10547\n",
       "160000      9720\n",
       "Name: mileage, dtype: int64"
      ]
     },
     "execution_count": 373,
     "metadata": {},
     "output_type": "execute_result"
    }
   ],
   "source": [
    "df_int['mileage'].value_counts()[:10]"
   ]
  },
  {
   "cell_type": "code",
   "execution_count": 398,
   "id": "caa1e440-9590-4dad-8133-049dc45f4bc1",
   "metadata": {},
   "outputs": [
    {
     "data": {
      "text/plain": [
       "249677.0"
      ]
     },
     "execution_count": 398,
     "metadata": {},
     "output_type": "execute_result"
    }
   ],
   "source": [
    "np.quantile(df_int['mileage'], q=0.95)"
   ]
  },
  {
   "cell_type": "markdown",
   "id": "299d24f5-579a-46ef-a0bc-0dae75f9e6d3",
   "metadata": {},
   "source": [
    "We "
   ]
  },
  {
   "cell_type": "code",
   "execution_count": 451,
   "id": "f2f8a72e-d7f1-43e8-9191-40f18178580d",
   "metadata": {},
   "outputs": [],
   "source": [
    "df_int['mileage_range'] = pd.qcut(df_int['mileage'], q=30, labels=False, duplicates='drop')"
   ]
  },
  {
   "cell_type": "code",
   "execution_count": 452,
   "id": "18f01c95-809d-4186-8aa4-6acd4aead2a4",
   "metadata": {},
   "outputs": [
    {
     "data": {
      "text/plain": [
       "15    310800\n",
       "0     203896\n",
       "17    105630\n",
       "1     105582\n",
       "13    104270\n",
       "21    104158\n",
       "20    102907\n",
       "12    102730\n",
       "10    102181\n",
       "6     101911\n",
       "19    101633\n",
       "9     101464\n",
       "25    101345\n",
       "3     101296\n",
       "7     101129\n",
       "5     101118\n",
       "24    101110\n",
       "26    100874\n",
       "4     100771\n",
       "8     100280\n",
       "11     99700\n",
       "23     99514\n",
       "22     97172\n",
       "18     96749\n",
       "14     96313\n",
       "2      95114\n",
       "16     93643\n",
       "Name: mileage_range, dtype: int64"
      ]
     },
     "execution_count": 452,
     "metadata": {},
     "output_type": "execute_result"
    }
   ],
   "source": [
    "df_int['mileage_range'].value_counts()"
   ]
  },
  {
   "cell_type": "code",
   "execution_count": 453,
   "id": "b9aedb77-08a0-49df-9af9-3cfdb017255b",
   "metadata": {},
   "outputs": [
    {
     "data": {
      "text/html": [
       "<div>\n",
       "<style scoped>\n",
       "    .dataframe tbody tr th:only-of-type {\n",
       "        vertical-align: middle;\n",
       "    }\n",
       "\n",
       "    .dataframe tbody tr th {\n",
       "        vertical-align: top;\n",
       "    }\n",
       "\n",
       "    .dataframe thead th {\n",
       "        text-align: right;\n",
       "    }\n",
       "</style>\n",
       "<table border=\"1\" class=\"dataframe\">\n",
       "  <thead>\n",
       "    <tr style=\"text-align: right;\">\n",
       "      <th></th>\n",
       "      <th>mileage</th>\n",
       "      <th>mileage_range</th>\n",
       "    </tr>\n",
       "  </thead>\n",
       "  <tbody>\n",
       "    <tr>\n",
       "      <th>0</th>\n",
       "      <td>151000</td>\n",
       "      <td>19</td>\n",
       "    </tr>\n",
       "    <tr>\n",
       "      <th>1</th>\n",
       "      <td>160235</td>\n",
       "      <td>20</td>\n",
       "    </tr>\n",
       "    <tr>\n",
       "      <th>2</th>\n",
       "      <td>263000</td>\n",
       "      <td>25</td>\n",
       "    </tr>\n",
       "    <tr>\n",
       "      <th>3</th>\n",
       "      <td>156000</td>\n",
       "      <td>19</td>\n",
       "    </tr>\n",
       "    <tr>\n",
       "      <th>4</th>\n",
       "      <td>167000</td>\n",
       "      <td>20</td>\n",
       "    </tr>\n",
       "  </tbody>\n",
       "</table>\n",
       "</div>"
      ],
      "text/plain": [
       "   mileage  mileage_range\n",
       "0   151000             19\n",
       "1   160235             20\n",
       "2   263000             25\n",
       "3   156000             19\n",
       "4   167000             20"
      ]
     },
     "execution_count": 453,
     "metadata": {},
     "output_type": "execute_result"
    }
   ],
   "source": [
    "df_int[['mileage', 'mileage_range']].head(5)"
   ]
  },
  {
   "cell_type": "markdown",
   "id": "baab6f1b-7623-4870-aa4f-dfd77ded1d80",
   "metadata": {},
   "source": [
    "## We are goint to create 20 ranges of 'manufacture_year' column"
   ]
  },
  {
   "cell_type": "code",
   "execution_count": 410,
   "id": "455b7711-3ead-41df-8703-de2f443bba15",
   "metadata": {},
   "outputs": [
    {
     "data": {
      "text/html": [
       "<div>\n",
       "<style scoped>\n",
       "    .dataframe tbody tr th:only-of-type {\n",
       "        vertical-align: middle;\n",
       "    }\n",
       "\n",
       "    .dataframe tbody tr th {\n",
       "        vertical-align: top;\n",
       "    }\n",
       "\n",
       "    .dataframe thead th {\n",
       "        text-align: right;\n",
       "    }\n",
       "</style>\n",
       "<table border=\"1\" class=\"dataframe\">\n",
       "  <thead>\n",
       "    <tr style=\"text-align: right;\">\n",
       "      <th></th>\n",
       "      <th>mileage</th>\n",
       "      <th>manufacture_year</th>\n",
       "      <th>engine_displacement</th>\n",
       "      <th>engine_power</th>\n",
       "      <th>door_count</th>\n",
       "      <th>seat_count</th>\n",
       "      <th>price_eur</th>\n",
       "      <th>time_diff_days</th>\n",
       "      <th>time_diff_hours</th>\n",
       "      <th>vector_0</th>\n",
       "      <th>...</th>\n",
       "      <th>vector_291</th>\n",
       "      <th>vector_292</th>\n",
       "      <th>vector_293</th>\n",
       "      <th>vector_294</th>\n",
       "      <th>vector_295</th>\n",
       "      <th>vector_296</th>\n",
       "      <th>vector_297</th>\n",
       "      <th>vector_298</th>\n",
       "      <th>vector_299</th>\n",
       "      <th>mileage_range</th>\n",
       "    </tr>\n",
       "  </thead>\n",
       "  <tbody>\n",
       "    <tr>\n",
       "      <th>0</th>\n",
       "      <td>151000</td>\n",
       "      <td>2011</td>\n",
       "      <td>2000</td>\n",
       "      <td>103</td>\n",
       "      <td>5</td>\n",
       "      <td>7</td>\n",
       "      <td>10584.75</td>\n",
       "      <td>74</td>\n",
       "      <td>1778</td>\n",
       "      <td>-0.2007</td>\n",
       "      <td>...</td>\n",
       "      <td>0.67317</td>\n",
       "      <td>-1.0562</td>\n",
       "      <td>4.3883</td>\n",
       "      <td>2.6743</td>\n",
       "      <td>2.7955</td>\n",
       "      <td>-1.9833</td>\n",
       "      <td>-2.5062</td>\n",
       "      <td>-2.2094</td>\n",
       "      <td>1.5681</td>\n",
       "      <td>11</td>\n",
       "    </tr>\n",
       "    <tr>\n",
       "      <th>1</th>\n",
       "      <td>160235</td>\n",
       "      <td>2012</td>\n",
       "      <td>1600</td>\n",
       "      <td>85</td>\n",
       "      <td>5</td>\n",
       "      <td>5</td>\n",
       "      <td>11102.89</td>\n",
       "      <td>74</td>\n",
       "      <td>1778</td>\n",
       "      <td>-0.2007</td>\n",
       "      <td>...</td>\n",
       "      <td>0.67317</td>\n",
       "      <td>-1.0562</td>\n",
       "      <td>4.3883</td>\n",
       "      <td>2.6743</td>\n",
       "      <td>2.7955</td>\n",
       "      <td>-1.9833</td>\n",
       "      <td>-2.5062</td>\n",
       "      <td>-2.2094</td>\n",
       "      <td>1.5681</td>\n",
       "      <td>11</td>\n",
       "    </tr>\n",
       "    <tr>\n",
       "      <th>2</th>\n",
       "      <td>263000</td>\n",
       "      <td>1998</td>\n",
       "      <td>1998</td>\n",
       "      <td>85</td>\n",
       "      <td>5</td>\n",
       "      <td>7</td>\n",
       "      <td>740.19</td>\n",
       "      <td>74</td>\n",
       "      <td>1777</td>\n",
       "      <td>-0.2007</td>\n",
       "      <td>...</td>\n",
       "      <td>0.67317</td>\n",
       "      <td>-1.0562</td>\n",
       "      <td>4.3883</td>\n",
       "      <td>2.6743</td>\n",
       "      <td>2.7955</td>\n",
       "      <td>-1.9833</td>\n",
       "      <td>-2.5062</td>\n",
       "      <td>-2.2094</td>\n",
       "      <td>1.5681</td>\n",
       "      <td>14</td>\n",
       "    </tr>\n",
       "    <tr>\n",
       "      <th>3</th>\n",
       "      <td>156000</td>\n",
       "      <td>2007</td>\n",
       "      <td>1997</td>\n",
       "      <td>103</td>\n",
       "      <td>5</td>\n",
       "      <td>7</td>\n",
       "      <td>7949.67</td>\n",
       "      <td>74</td>\n",
       "      <td>1777</td>\n",
       "      <td>-0.2007</td>\n",
       "      <td>...</td>\n",
       "      <td>0.67317</td>\n",
       "      <td>-1.0562</td>\n",
       "      <td>4.3883</td>\n",
       "      <td>2.6743</td>\n",
       "      <td>2.7955</td>\n",
       "      <td>-1.9833</td>\n",
       "      <td>-2.5062</td>\n",
       "      <td>-2.2094</td>\n",
       "      <td>1.5681</td>\n",
       "      <td>11</td>\n",
       "    </tr>\n",
       "    <tr>\n",
       "      <th>4</th>\n",
       "      <td>167000</td>\n",
       "      <td>2012</td>\n",
       "      <td>2179</td>\n",
       "      <td>147</td>\n",
       "      <td>5</td>\n",
       "      <td>7</td>\n",
       "      <td>14796.45</td>\n",
       "      <td>74</td>\n",
       "      <td>1777</td>\n",
       "      <td>-0.2007</td>\n",
       "      <td>...</td>\n",
       "      <td>0.67317</td>\n",
       "      <td>-1.0562</td>\n",
       "      <td>4.3883</td>\n",
       "      <td>2.6743</td>\n",
       "      <td>2.7955</td>\n",
       "      <td>-1.9833</td>\n",
       "      <td>-2.5062</td>\n",
       "      <td>-2.2094</td>\n",
       "      <td>1.5681</td>\n",
       "      <td>11</td>\n",
       "    </tr>\n",
       "  </tbody>\n",
       "</table>\n",
       "<p>5 rows × 310 columns</p>\n",
       "</div>"
      ],
      "text/plain": [
       "   mileage  manufacture_year  engine_displacement  engine_power  door_count  \\\n",
       "0   151000              2011                 2000           103           5   \n",
       "1   160235              2012                 1600            85           5   \n",
       "2   263000              1998                 1998            85           5   \n",
       "3   156000              2007                 1997           103           5   \n",
       "4   167000              2012                 2179           147           5   \n",
       "\n",
       "   seat_count  price_eur  time_diff_days  time_diff_hours  vector_0  ...  \\\n",
       "0           7   10584.75              74             1778   -0.2007  ...   \n",
       "1           5   11102.89              74             1778   -0.2007  ...   \n",
       "2           7     740.19              74             1777   -0.2007  ...   \n",
       "3           7    7949.67              74             1777   -0.2007  ...   \n",
       "4           7   14796.45              74             1777   -0.2007  ...   \n",
       "\n",
       "   vector_291  vector_292  vector_293  vector_294  vector_295  vector_296  \\\n",
       "0     0.67317     -1.0562      4.3883      2.6743      2.7955     -1.9833   \n",
       "1     0.67317     -1.0562      4.3883      2.6743      2.7955     -1.9833   \n",
       "2     0.67317     -1.0562      4.3883      2.6743      2.7955     -1.9833   \n",
       "3     0.67317     -1.0562      4.3883      2.6743      2.7955     -1.9833   \n",
       "4     0.67317     -1.0562      4.3883      2.6743      2.7955     -1.9833   \n",
       "\n",
       "   vector_297  vector_298  vector_299  mileage_range  \n",
       "0     -2.5062     -2.2094      1.5681             11  \n",
       "1     -2.5062     -2.2094      1.5681             11  \n",
       "2     -2.5062     -2.2094      1.5681             14  \n",
       "3     -2.5062     -2.2094      1.5681             11  \n",
       "4     -2.5062     -2.2094      1.5681             11  \n",
       "\n",
       "[5 rows x 310 columns]"
      ]
     },
     "execution_count": 410,
     "metadata": {},
     "output_type": "execute_result"
    }
   ],
   "source": [
    "df_int.head()"
   ]
  },
  {
   "cell_type": "code",
   "execution_count": 454,
   "id": "2485d145-8507-43dd-9655-d9c1c5bcb9a5",
   "metadata": {},
   "outputs": [
    {
     "data": {
      "text/plain": [
       "1560"
      ]
     },
     "execution_count": 454,
     "metadata": {},
     "output_type": "execute_result"
    }
   ],
   "source": [
    "len(df_int.manufacture_year.unique())"
   ]
  },
  {
   "cell_type": "code",
   "execution_count": 416,
   "id": "f9f61ce5-21ac-472b-aa5b-ccf7d5ac6003",
   "metadata": {
    "collapsed": true,
    "jupyter": {
     "outputs_hidden": true
    },
    "tags": []
   },
   "outputs": [
    {
     "data": {
      "text/plain": [
       "2009    424707\n",
       "2015    376826\n",
       "2012    214748\n",
       "2011    188200\n",
       "2014    170043\n",
       "2013    146227\n",
       "2007    139320\n",
       "2008    137274\n",
       "2010    136880\n",
       "2006    134526\n",
       "2005    124921\n",
       "2016    114342\n",
       "2004    110585\n",
       "2003    100117\n",
       "2002     90268\n",
       "2001     83863\n",
       "2000     76574\n",
       "1999     62117\n",
       "1998     45352\n",
       "1997     31215\n",
       "1996     20883\n",
       "1995     12765\n",
       "2017     10575\n",
       "1994      8295\n",
       "1993      5412\n",
       "1992      5373\n",
       "1991      4415\n",
       "1990      3487\n",
       "1989      2427\n",
       "1988      2052\n",
       "1000      1796\n",
       "1987      1571\n",
       "1500      1548\n",
       "1986      1431\n",
       "1985      1113\n",
       "1984      1057\n",
       "1896       967\n",
       "1983       941\n",
       "1980       904\n",
       "1968       879\n",
       "1982       809\n",
       "1971       746\n",
       "1972       729\n",
       "1979       720\n",
       "1970       720\n",
       "1981       707\n",
       "1200       687\n",
       "1390       636\n",
       "1800       606\n",
       "1973       606\n",
       "1965       586\n",
       "1598       560\n",
       "1600       553\n",
       "1977       553\n",
       "1966       537\n",
       "Name: manufacture_year, dtype: int64"
      ]
     },
     "execution_count": 416,
     "metadata": {},
     "output_type": "execute_result"
    }
   ],
   "source": [
    "df_int.manufacture_year.value_counts()[:55]"
   ]
  },
  {
   "cell_type": "code",
   "execution_count": 458,
   "id": "2b7c16f3-43f3-4a3c-85b7-2e7d038a070c",
   "metadata": {},
   "outputs": [],
   "source": [
    "df_int['manufacture_year_range'] = pd.qcut(df_int['manufacture_year'], q=20, labels=False, duplicates='drop')"
   ]
  },
  {
   "cell_type": "code",
   "execution_count": 459,
   "id": "47887c04-a86a-4b1a-b6ee-b4b85e19ba3e",
   "metadata": {},
   "outputs": [
    {
     "data": {
      "text/html": [
       "<div>\n",
       "<style scoped>\n",
       "    .dataframe tbody tr th:only-of-type {\n",
       "        vertical-align: middle;\n",
       "    }\n",
       "\n",
       "    .dataframe tbody tr th {\n",
       "        vertical-align: top;\n",
       "    }\n",
       "\n",
       "    .dataframe thead th {\n",
       "        text-align: right;\n",
       "    }\n",
       "</style>\n",
       "<table border=\"1\" class=\"dataframe\">\n",
       "  <thead>\n",
       "    <tr style=\"text-align: right;\">\n",
       "      <th></th>\n",
       "      <th>manufacture_year</th>\n",
       "      <th>manufacture_year_range</th>\n",
       "    </tr>\n",
       "  </thead>\n",
       "  <tbody>\n",
       "    <tr>\n",
       "      <th>0</th>\n",
       "      <td>2011</td>\n",
       "      <td>9</td>\n",
       "    </tr>\n",
       "    <tr>\n",
       "      <th>1</th>\n",
       "      <td>2012</td>\n",
       "      <td>10</td>\n",
       "    </tr>\n",
       "    <tr>\n",
       "      <th>2</th>\n",
       "      <td>1998</td>\n",
       "      <td>0</td>\n",
       "    </tr>\n",
       "    <tr>\n",
       "      <th>3</th>\n",
       "      <td>2007</td>\n",
       "      <td>6</td>\n",
       "    </tr>\n",
       "    <tr>\n",
       "      <th>4</th>\n",
       "      <td>2012</td>\n",
       "      <td>10</td>\n",
       "    </tr>\n",
       "    <tr>\n",
       "      <th>...</th>\n",
       "      <td>...</td>\n",
       "      <td>...</td>\n",
       "    </tr>\n",
       "    <tr>\n",
       "      <th>3033285</th>\n",
       "      <td>2013</td>\n",
       "      <td>11</td>\n",
       "    </tr>\n",
       "    <tr>\n",
       "      <th>3033286</th>\n",
       "      <td>2012</td>\n",
       "      <td>10</td>\n",
       "    </tr>\n",
       "    <tr>\n",
       "      <th>3033287</th>\n",
       "      <td>2012</td>\n",
       "      <td>10</td>\n",
       "    </tr>\n",
       "    <tr>\n",
       "      <th>3033288</th>\n",
       "      <td>2011</td>\n",
       "      <td>9</td>\n",
       "    </tr>\n",
       "    <tr>\n",
       "      <th>3033289</th>\n",
       "      <td>2017</td>\n",
       "      <td>14</td>\n",
       "    </tr>\n",
       "  </tbody>\n",
       "</table>\n",
       "<p>3033290 rows × 2 columns</p>\n",
       "</div>"
      ],
      "text/plain": [
       "         manufacture_year  manufacture_year_range\n",
       "0                    2011                       9\n",
       "1                    2012                      10\n",
       "2                    1998                       0\n",
       "3                    2007                       6\n",
       "4                    2012                      10\n",
       "...                   ...                     ...\n",
       "3033285              2013                      11\n",
       "3033286              2012                      10\n",
       "3033287              2012                      10\n",
       "3033288              2011                       9\n",
       "3033289              2017                      14\n",
       "\n",
       "[3033290 rows x 2 columns]"
      ]
     },
     "execution_count": 459,
     "metadata": {},
     "output_type": "execute_result"
    }
   ],
   "source": [
    "df_int[['manufacture_year','manufacture_year_range']]"
   ]
  },
  {
   "cell_type": "code",
   "execution_count": 460,
   "id": "20f045ed-9f0e-4b88-98b8-3fb8bae898b8",
   "metadata": {},
   "outputs": [
    {
     "data": {
      "text/plain": [
       "8     424707\n",
       "13    376826\n",
       "9     325080\n",
       "10    214748\n",
       "3     210702\n",
       "0     191177\n",
       "2     174131\n",
       "12    170043\n",
       "11    146227\n",
       "6     139320\n",
       "1     138691\n",
       "7     137274\n",
       "5     134526\n",
       "4     124921\n",
       "14    124917\n",
       "Name: manufacture_year_range, dtype: int64"
      ]
     },
     "execution_count": 460,
     "metadata": {},
     "output_type": "execute_result"
    }
   ],
   "source": [
    "df_int.manufacture_year_range.value_counts()"
   ]
  },
  {
   "cell_type": "markdown",
   "id": "28bc2787-4bc9-46ad-8825-d4ae480413b8",
   "metadata": {},
   "source": [
    "## For column 'engine_displacement' we are going to create 15 ranges"
   ]
  },
  {
   "cell_type": "code",
   "execution_count": 423,
   "id": "fe281c84-e332-4fd4-9fdf-ac276a8e5852",
   "metadata": {},
   "outputs": [
    {
     "data": {
      "text/plain": [
       "6272"
      ]
     },
     "execution_count": 423,
     "metadata": {},
     "output_type": "execute_result"
    }
   ],
   "source": [
    "len(df_int.engine_displacement.unique())"
   ]
  },
  {
   "cell_type": "code",
   "execution_count": 464,
   "id": "e714dee6-ecd1-4b96-9efa-01d41e497c1d",
   "metadata": {},
   "outputs": [],
   "source": [
    "df_int['engine_displacement_range'] = pd.qcut(df_int['engine_displacement'], q=15, labels=False, duplicates='drop')"
   ]
  },
  {
   "cell_type": "code",
   "execution_count": 465,
   "id": "9befd334-4663-47b6-96d6-4f8059a16544",
   "metadata": {},
   "outputs": [
    {
     "data": {
      "text/html": [
       "<div>\n",
       "<style scoped>\n",
       "    .dataframe tbody tr th:only-of-type {\n",
       "        vertical-align: middle;\n",
       "    }\n",
       "\n",
       "    .dataframe tbody tr th {\n",
       "        vertical-align: top;\n",
       "    }\n",
       "\n",
       "    .dataframe thead th {\n",
       "        text-align: right;\n",
       "    }\n",
       "</style>\n",
       "<table border=\"1\" class=\"dataframe\">\n",
       "  <thead>\n",
       "    <tr style=\"text-align: right;\">\n",
       "      <th></th>\n",
       "      <th>engine_displacement</th>\n",
       "      <th>engine_displacement_range</th>\n",
       "    </tr>\n",
       "  </thead>\n",
       "  <tbody>\n",
       "    <tr>\n",
       "      <th>0</th>\n",
       "      <td>2000</td>\n",
       "      <td>9</td>\n",
       "    </tr>\n",
       "    <tr>\n",
       "      <th>1</th>\n",
       "      <td>1600</td>\n",
       "      <td>5</td>\n",
       "    </tr>\n",
       "    <tr>\n",
       "      <th>2</th>\n",
       "      <td>1998</td>\n",
       "      <td>8</td>\n",
       "    </tr>\n",
       "    <tr>\n",
       "      <th>3</th>\n",
       "      <td>1997</td>\n",
       "      <td>8</td>\n",
       "    </tr>\n",
       "    <tr>\n",
       "      <th>4</th>\n",
       "      <td>2179</td>\n",
       "      <td>10</td>\n",
       "    </tr>\n",
       "  </tbody>\n",
       "</table>\n",
       "</div>"
      ],
      "text/plain": [
       "   engine_displacement  engine_displacement_range\n",
       "0                 2000                          9\n",
       "1                 1600                          5\n",
       "2                 1998                          8\n",
       "3                 1997                          8\n",
       "4                 2179                         10"
      ]
     },
     "execution_count": 465,
     "metadata": {},
     "output_type": "execute_result"
    }
   ],
   "source": [
    "df_int[['engine_displacement','engine_displacement_range']].head(5)"
   ]
  },
  {
   "cell_type": "code",
   "execution_count": 466,
   "id": "be51d489-8f6f-47da-b35f-340a55713648",
   "metadata": {},
   "outputs": [
    {
     "data": {
      "text/plain": [
       "9     662183\n",
       "6     355662\n",
       "8     237231\n",
       "4     229266\n",
       "11    220394\n",
       "0     218039\n",
       "2     217611\n",
       "3     194883\n",
       "1     189494\n",
       "12    180488\n",
       "5     173837\n",
       "10    114529\n",
       "7      39673\n",
       "Name: engine_displacement_range, dtype: int64"
      ]
     },
     "execution_count": 466,
     "metadata": {},
     "output_type": "execute_result"
    }
   ],
   "source": [
    "df_int.engine_displacement_range.value_counts()"
   ]
  },
  {
   "cell_type": "markdown",
   "id": "3869b68f-c908-471e-864b-6fde79c32aa9",
   "metadata": {},
   "source": [
    "## 10 ranges for 'engine_power' column"
   ]
  },
  {
   "cell_type": "code",
   "execution_count": 467,
   "id": "c04b7706-5f76-47d3-83bf-69a9ce2b7a23",
   "metadata": {},
   "outputs": [
    {
     "data": {
      "text/plain": [
       "605"
      ]
     },
     "execution_count": 467,
     "metadata": {},
     "output_type": "execute_result"
    }
   ],
   "source": [
    "len(df_int.engine_power.unique())"
   ]
  },
  {
   "cell_type": "code",
   "execution_count": 469,
   "id": "5fba3925-2c0e-4c24-90dd-eb3716973000",
   "metadata": {},
   "outputs": [],
   "source": [
    "df_int['engine_power_range'] = pd.qcut(df_int['engine_power'], q=10, labels=False, duplicates='drop')"
   ]
  },
  {
   "cell_type": "code",
   "execution_count": 470,
   "id": "30f722c2-14fd-439d-8427-e05c79316bed",
   "metadata": {},
   "outputs": [
    {
     "data": {
      "text/html": [
       "<div>\n",
       "<style scoped>\n",
       "    .dataframe tbody tr th:only-of-type {\n",
       "        vertical-align: middle;\n",
       "    }\n",
       "\n",
       "    .dataframe tbody tr th {\n",
       "        vertical-align: top;\n",
       "    }\n",
       "\n",
       "    .dataframe thead th {\n",
       "        text-align: right;\n",
       "    }\n",
       "</style>\n",
       "<table border=\"1\" class=\"dataframe\">\n",
       "  <thead>\n",
       "    <tr style=\"text-align: right;\">\n",
       "      <th></th>\n",
       "      <th>engine_power</th>\n",
       "      <th>engine_power_range</th>\n",
       "    </tr>\n",
       "  </thead>\n",
       "  <tbody>\n",
       "    <tr>\n",
       "      <th>0</th>\n",
       "      <td>103</td>\n",
       "      <td>5</td>\n",
       "    </tr>\n",
       "    <tr>\n",
       "      <th>1</th>\n",
       "      <td>85</td>\n",
       "      <td>3</td>\n",
       "    </tr>\n",
       "    <tr>\n",
       "      <th>2</th>\n",
       "      <td>85</td>\n",
       "      <td>3</td>\n",
       "    </tr>\n",
       "    <tr>\n",
       "      <th>3</th>\n",
       "      <td>103</td>\n",
       "      <td>5</td>\n",
       "    </tr>\n",
       "    <tr>\n",
       "      <th>4</th>\n",
       "      <td>147</td>\n",
       "      <td>8</td>\n",
       "    </tr>\n",
       "  </tbody>\n",
       "</table>\n",
       "</div>"
      ],
      "text/plain": [
       "   engine_power  engine_power_range\n",
       "0           103                   5\n",
       "1            85                   3\n",
       "2            85                   3\n",
       "3           103                   5\n",
       "4           147                   8"
      ]
     },
     "execution_count": 470,
     "metadata": {},
     "output_type": "execute_result"
    }
   ],
   "source": [
    "df_int[['engine_power','engine_power_range']].head(5)"
   ]
  },
  {
   "cell_type": "code",
   "execution_count": null,
   "id": "d30b4264-a6c6-4444-9c37-330b82171dc7",
   "metadata": {},
   "outputs": [],
   "source": []
  },
  {
   "cell_type": "markdown",
   "id": "fc9ebe34-9e71-4262-af61-e0a07efabae6",
   "metadata": {},
   "source": [
    "## For 'price_eur' column we have 30 ranges"
   ]
  },
  {
   "cell_type": "code",
   "execution_count": 471,
   "id": "4a1144d5-0c65-4693-b6ed-790757575eca",
   "metadata": {},
   "outputs": [
    {
     "data": {
      "text/plain": [
       "206262"
      ]
     },
     "execution_count": 471,
     "metadata": {},
     "output_type": "execute_result"
    }
   ],
   "source": [
    "len(df_int.price_eur.unique())"
   ]
  },
  {
   "cell_type": "code",
   "execution_count": 472,
   "id": "36551d31-5349-4dbd-906c-bec4d2b3ff92",
   "metadata": {},
   "outputs": [],
   "source": [
    "df_int['price_eur_range'] = pd.qcut(df_int['price_eur'], q=30, labels=False, duplicates='drop')"
   ]
  },
  {
   "cell_type": "code",
   "execution_count": 473,
   "id": "974496ab-b644-46c0-a5cc-931ee6573cd7",
   "metadata": {},
   "outputs": [
    {
     "data": {
      "text/html": [
       "<div>\n",
       "<style scoped>\n",
       "    .dataframe tbody tr th:only-of-type {\n",
       "        vertical-align: middle;\n",
       "    }\n",
       "\n",
       "    .dataframe tbody tr th {\n",
       "        vertical-align: top;\n",
       "    }\n",
       "\n",
       "    .dataframe thead th {\n",
       "        text-align: right;\n",
       "    }\n",
       "</style>\n",
       "<table border=\"1\" class=\"dataframe\">\n",
       "  <thead>\n",
       "    <tr style=\"text-align: right;\">\n",
       "      <th></th>\n",
       "      <th>price_eur_range</th>\n",
       "      <th>price_eur</th>\n",
       "    </tr>\n",
       "  </thead>\n",
       "  <tbody>\n",
       "    <tr>\n",
       "      <th>0</th>\n",
       "      <td>12</td>\n",
       "      <td>10584.75</td>\n",
       "    </tr>\n",
       "    <tr>\n",
       "      <th>1</th>\n",
       "      <td>13</td>\n",
       "      <td>11102.89</td>\n",
       "    </tr>\n",
       "    <tr>\n",
       "      <th>2</th>\n",
       "      <td>0</td>\n",
       "      <td>740.19</td>\n",
       "    </tr>\n",
       "    <tr>\n",
       "      <th>3</th>\n",
       "      <td>10</td>\n",
       "      <td>7949.67</td>\n",
       "    </tr>\n",
       "    <tr>\n",
       "      <th>4</th>\n",
       "      <td>16</td>\n",
       "      <td>14796.45</td>\n",
       "    </tr>\n",
       "    <tr>\n",
       "      <th>...</th>\n",
       "      <td>...</td>\n",
       "      <td>...</td>\n",
       "    </tr>\n",
       "    <tr>\n",
       "      <th>3033285</th>\n",
       "      <td>1</td>\n",
       "      <td>1295.34</td>\n",
       "    </tr>\n",
       "    <tr>\n",
       "      <th>3033286</th>\n",
       "      <td>1</td>\n",
       "      <td>1295.34</td>\n",
       "    </tr>\n",
       "    <tr>\n",
       "      <th>3033287</th>\n",
       "      <td>1</td>\n",
       "      <td>1295.34</td>\n",
       "    </tr>\n",
       "    <tr>\n",
       "      <th>3033288</th>\n",
       "      <td>1</td>\n",
       "      <td>1295.34</td>\n",
       "    </tr>\n",
       "    <tr>\n",
       "      <th>3033289</th>\n",
       "      <td>1</td>\n",
       "      <td>1295.34</td>\n",
       "    </tr>\n",
       "  </tbody>\n",
       "</table>\n",
       "<p>3033290 rows × 2 columns</p>\n",
       "</div>"
      ],
      "text/plain": [
       "         price_eur_range  price_eur\n",
       "0                     12   10584.75\n",
       "1                     13   11102.89\n",
       "2                      0     740.19\n",
       "3                     10    7949.67\n",
       "4                     16   14796.45\n",
       "...                  ...        ...\n",
       "3033285                1    1295.34\n",
       "3033286                1    1295.34\n",
       "3033287                1    1295.34\n",
       "3033288                1    1295.34\n",
       "3033289                1    1295.34\n",
       "\n",
       "[3033290 rows x 2 columns]"
      ]
     },
     "execution_count": 473,
     "metadata": {},
     "output_type": "execute_result"
    }
   ],
   "source": [
    "df_int[['price_eur_range', 'price_eur']]"
   ]
  },
  {
   "cell_type": "code",
   "execution_count": null,
   "id": "bc212b80-cf10-4ec8-a4db-8795a5d17d00",
   "metadata": {},
   "outputs": [],
   "source": []
  },
  {
   "cell_type": "code",
   "execution_count": 477,
   "id": "5660aeea-8d02-4e5e-b76e-ae0cb896bf97",
   "metadata": {},
   "outputs": [
    {
     "data": {
      "text/plain": [
       "2976"
      ]
     },
     "execution_count": 477,
     "metadata": {},
     "output_type": "execute_result"
    }
   ],
   "source": [
    "len(df_int.time_diff_hours.unique())"
   ]
  },
  {
   "cell_type": "code",
   "execution_count": null,
   "id": "fa8a73b1-d22a-4393-90ca-b951b534e11f",
   "metadata": {},
   "outputs": [],
   "source": []
  },
  {
   "cell_type": "code",
   "execution_count": null,
   "id": "180e5ed9-40b1-4304-80af-9ad2b06cc5b9",
   "metadata": {},
   "outputs": [],
   "source": []
  },
  {
   "cell_type": "code",
   "execution_count": 478,
   "id": "4728d24d-4a55-412a-a1f1-9fc3913c507a",
   "metadata": {
    "tags": []
   },
   "outputs": [],
   "source": [
    "# [col for col in df_int.columns if col != 'mileage']"
   ]
  },
  {
   "cell_type": "code",
   "execution_count": 1,
   "id": "36d13daa-2eae-4683-9719-457cd751831f",
   "metadata": {},
   "outputs": [
    {
     "ename": "NameError",
     "evalue": "name 'df_int' is not defined",
     "output_type": "error",
     "traceback": [
      "\u001b[0;31m---------------------------------------------------------------------------\u001b[0m",
      "\u001b[0;31mNameError\u001b[0m                                 Traceback (most recent call last)",
      "\u001b[0;32m/var/folders/3v/jtn2l28n5zs3r7hqrp339k900000gn/T/ipykernel_41142/451482900.py\u001b[0m in \u001b[0;36m<module>\u001b[0;34m\u001b[0m\n\u001b[0;32m----> 1\u001b[0;31m \u001b[0mdf_int_1\u001b[0m \u001b[0;34m=\u001b[0m \u001b[0mdf_int\u001b[0m\u001b[0;34m[\u001b[0m\u001b[0;34m[\u001b[0m\u001b[0mcol\u001b[0m \u001b[0;32mfor\u001b[0m \u001b[0mcol\u001b[0m \u001b[0;32min\u001b[0m \u001b[0mdf_int\u001b[0m\u001b[0;34m.\u001b[0m\u001b[0mcolumns\u001b[0m \u001b[0;32mif\u001b[0m \u001b[0mcol\u001b[0m \u001b[0;32mnot\u001b[0m \u001b[0;32min\u001b[0m \u001b[0;34m[\u001b[0m\u001b[0;34m'mileage'\u001b[0m\u001b[0;34m,\u001b[0m \u001b[0;34m'manufacture_year'\u001b[0m\u001b[0;34m,\u001b[0m \u001b[0;34m'engine_displacement'\u001b[0m\u001b[0;34m,\u001b[0m \u001b[0;34m'engine_power'\u001b[0m\u001b[0;34m,\u001b[0m \u001b[0;34m'price_eur'\u001b[0m\u001b[0;34m]\u001b[0m\u001b[0;34m]\u001b[0m\u001b[0;34m]\u001b[0m\u001b[0;34m\u001b[0m\u001b[0;34m\u001b[0m\u001b[0m\n\u001b[0m",
      "\u001b[0;31mNameError\u001b[0m: name 'df_int' is not defined"
     ]
    }
   ],
   "source": [
    "df_int_1 = df_int[[col for col in df_int.columns if col not in ['mileage', 'manufacture_year', 'engine_displacement', 'engine_power', 'price_eur']]]"
   ]
  },
  {
   "cell_type": "code",
   "execution_count": null,
   "id": "510a8f76-3e1e-40ba-9322-6e66f5cdd56b",
   "metadata": {},
   "outputs": [],
   "source": []
  },
  {
   "cell_type": "code",
   "execution_count": null,
   "id": "8909163d-bb7e-46b9-8c9d-c98308849e47",
   "metadata": {},
   "outputs": [],
   "source": []
  },
  {
   "cell_type": "code",
   "execution_count": 408,
   "id": "1db84819-7790-493d-b995-cdf36be303d3",
   "metadata": {},
   "outputs": [
    {
     "data": {
      "text/html": [
       "<div>\n",
       "<style scoped>\n",
       "    .dataframe tbody tr th:only-of-type {\n",
       "        vertical-align: middle;\n",
       "    }\n",
       "\n",
       "    .dataframe tbody tr th {\n",
       "        vertical-align: top;\n",
       "    }\n",
       "\n",
       "    .dataframe thead th {\n",
       "        text-align: right;\n",
       "    }\n",
       "</style>\n",
       "<table border=\"1\" class=\"dataframe\">\n",
       "  <thead>\n",
       "    <tr style=\"text-align: right;\">\n",
       "      <th></th>\n",
       "      <th>manufacture_year</th>\n",
       "      <th>engine_displacement</th>\n",
       "      <th>engine_power</th>\n",
       "      <th>door_count</th>\n",
       "      <th>seat_count</th>\n",
       "      <th>price_eur</th>\n",
       "      <th>time_diff_days</th>\n",
       "      <th>time_diff_hours</th>\n",
       "      <th>vector_0</th>\n",
       "      <th>vector_1</th>\n",
       "      <th>...</th>\n",
       "      <th>vector_291</th>\n",
       "      <th>vector_292</th>\n",
       "      <th>vector_293</th>\n",
       "      <th>vector_294</th>\n",
       "      <th>vector_295</th>\n",
       "      <th>vector_296</th>\n",
       "      <th>vector_297</th>\n",
       "      <th>vector_298</th>\n",
       "      <th>vector_299</th>\n",
       "      <th>mileage_range</th>\n",
       "    </tr>\n",
       "  </thead>\n",
       "  <tbody>\n",
       "    <tr>\n",
       "      <th>0</th>\n",
       "      <td>2011</td>\n",
       "      <td>2000</td>\n",
       "      <td>103</td>\n",
       "      <td>5</td>\n",
       "      <td>7</td>\n",
       "      <td>10584.75</td>\n",
       "      <td>74</td>\n",
       "      <td>1778</td>\n",
       "      <td>-0.2007</td>\n",
       "      <td>0.90223</td>\n",
       "      <td>...</td>\n",
       "      <td>0.67317</td>\n",
       "      <td>-1.0562</td>\n",
       "      <td>4.3883</td>\n",
       "      <td>2.6743</td>\n",
       "      <td>2.7955</td>\n",
       "      <td>-1.9833</td>\n",
       "      <td>-2.5062</td>\n",
       "      <td>-2.2094</td>\n",
       "      <td>1.5681</td>\n",
       "      <td>11</td>\n",
       "    </tr>\n",
       "    <tr>\n",
       "      <th>1</th>\n",
       "      <td>2012</td>\n",
       "      <td>1600</td>\n",
       "      <td>85</td>\n",
       "      <td>5</td>\n",
       "      <td>5</td>\n",
       "      <td>11102.89</td>\n",
       "      <td>74</td>\n",
       "      <td>1778</td>\n",
       "      <td>-0.2007</td>\n",
       "      <td>0.90223</td>\n",
       "      <td>...</td>\n",
       "      <td>0.67317</td>\n",
       "      <td>-1.0562</td>\n",
       "      <td>4.3883</td>\n",
       "      <td>2.6743</td>\n",
       "      <td>2.7955</td>\n",
       "      <td>-1.9833</td>\n",
       "      <td>-2.5062</td>\n",
       "      <td>-2.2094</td>\n",
       "      <td>1.5681</td>\n",
       "      <td>11</td>\n",
       "    </tr>\n",
       "    <tr>\n",
       "      <th>2</th>\n",
       "      <td>1998</td>\n",
       "      <td>1998</td>\n",
       "      <td>85</td>\n",
       "      <td>5</td>\n",
       "      <td>7</td>\n",
       "      <td>740.19</td>\n",
       "      <td>74</td>\n",
       "      <td>1777</td>\n",
       "      <td>-0.2007</td>\n",
       "      <td>0.90223</td>\n",
       "      <td>...</td>\n",
       "      <td>0.67317</td>\n",
       "      <td>-1.0562</td>\n",
       "      <td>4.3883</td>\n",
       "      <td>2.6743</td>\n",
       "      <td>2.7955</td>\n",
       "      <td>-1.9833</td>\n",
       "      <td>-2.5062</td>\n",
       "      <td>-2.2094</td>\n",
       "      <td>1.5681</td>\n",
       "      <td>14</td>\n",
       "    </tr>\n",
       "    <tr>\n",
       "      <th>3</th>\n",
       "      <td>2007</td>\n",
       "      <td>1997</td>\n",
       "      <td>103</td>\n",
       "      <td>5</td>\n",
       "      <td>7</td>\n",
       "      <td>7949.67</td>\n",
       "      <td>74</td>\n",
       "      <td>1777</td>\n",
       "      <td>-0.2007</td>\n",
       "      <td>0.90223</td>\n",
       "      <td>...</td>\n",
       "      <td>0.67317</td>\n",
       "      <td>-1.0562</td>\n",
       "      <td>4.3883</td>\n",
       "      <td>2.6743</td>\n",
       "      <td>2.7955</td>\n",
       "      <td>-1.9833</td>\n",
       "      <td>-2.5062</td>\n",
       "      <td>-2.2094</td>\n",
       "      <td>1.5681</td>\n",
       "      <td>11</td>\n",
       "    </tr>\n",
       "    <tr>\n",
       "      <th>4</th>\n",
       "      <td>2012</td>\n",
       "      <td>2179</td>\n",
       "      <td>147</td>\n",
       "      <td>5</td>\n",
       "      <td>7</td>\n",
       "      <td>14796.45</td>\n",
       "      <td>74</td>\n",
       "      <td>1777</td>\n",
       "      <td>-0.2007</td>\n",
       "      <td>0.90223</td>\n",
       "      <td>...</td>\n",
       "      <td>0.67317</td>\n",
       "      <td>-1.0562</td>\n",
       "      <td>4.3883</td>\n",
       "      <td>2.6743</td>\n",
       "      <td>2.7955</td>\n",
       "      <td>-1.9833</td>\n",
       "      <td>-2.5062</td>\n",
       "      <td>-2.2094</td>\n",
       "      <td>1.5681</td>\n",
       "      <td>11</td>\n",
       "    </tr>\n",
       "  </tbody>\n",
       "</table>\n",
       "<p>5 rows × 309 columns</p>\n",
       "</div>"
      ],
      "text/plain": [
       "   manufacture_year  engine_displacement  engine_power  door_count  \\\n",
       "0              2011                 2000           103           5   \n",
       "1              2012                 1600            85           5   \n",
       "2              1998                 1998            85           5   \n",
       "3              2007                 1997           103           5   \n",
       "4              2012                 2179           147           5   \n",
       "\n",
       "   seat_count  price_eur  time_diff_days  time_diff_hours  vector_0  vector_1  \\\n",
       "0           7   10584.75              74             1778   -0.2007   0.90223   \n",
       "1           5   11102.89              74             1778   -0.2007   0.90223   \n",
       "2           7     740.19              74             1777   -0.2007   0.90223   \n",
       "3           7    7949.67              74             1777   -0.2007   0.90223   \n",
       "4           7   14796.45              74             1777   -0.2007   0.90223   \n",
       "\n",
       "   ...  vector_291  vector_292  vector_293  vector_294  vector_295  \\\n",
       "0  ...     0.67317     -1.0562      4.3883      2.6743      2.7955   \n",
       "1  ...     0.67317     -1.0562      4.3883      2.6743      2.7955   \n",
       "2  ...     0.67317     -1.0562      4.3883      2.6743      2.7955   \n",
       "3  ...     0.67317     -1.0562      4.3883      2.6743      2.7955   \n",
       "4  ...     0.67317     -1.0562      4.3883      2.6743      2.7955   \n",
       "\n",
       "   vector_296  vector_297  vector_298  vector_299  mileage_range  \n",
       "0     -1.9833     -2.5062     -2.2094      1.5681             11  \n",
       "1     -1.9833     -2.5062     -2.2094      1.5681             11  \n",
       "2     -1.9833     -2.5062     -2.2094      1.5681             14  \n",
       "3     -1.9833     -2.5062     -2.2094      1.5681             11  \n",
       "4     -1.9833     -2.5062     -2.2094      1.5681             11  \n",
       "\n",
       "[5 rows x 309 columns]"
      ]
     },
     "execution_count": 408,
     "metadata": {},
     "output_type": "execute_result"
    }
   ],
   "source": [
    "df_int_1.head"
   ]
  },
  {
   "cell_type": "code",
   "execution_count": 351,
   "id": "e7db7c29-20e9-4e25-9716-6912c00936b4",
   "metadata": {},
   "outputs": [
    {
     "data": {
      "text/html": [
       "<div>\n",
       "<style scoped>\n",
       "    .dataframe tbody tr th:only-of-type {\n",
       "        vertical-align: middle;\n",
       "    }\n",
       "\n",
       "    .dataframe tbody tr th {\n",
       "        vertical-align: top;\n",
       "    }\n",
       "\n",
       "    .dataframe thead th {\n",
       "        text-align: right;\n",
       "    }\n",
       "</style>\n",
       "<table border=\"1\" class=\"dataframe\">\n",
       "  <thead>\n",
       "    <tr style=\"text-align: right;\">\n",
       "      <th></th>\n",
       "      <th>maker_alfa-romeo</th>\n",
       "      <th>maker_aston-martin</th>\n",
       "      <th>maker_audi</th>\n",
       "      <th>maker_bentley</th>\n",
       "      <th>maker_bmw</th>\n",
       "      <th>maker_chevrolet</th>\n",
       "      <th>maker_chrysler</th>\n",
       "      <th>maker_citroen</th>\n",
       "      <th>maker_dacia</th>\n",
       "      <th>maker_dodge</th>\n",
       "      <th>...</th>\n",
       "      <th>body_type_van</th>\n",
       "      <th>transmission_auto</th>\n",
       "      <th>transmission_man</th>\n",
       "      <th>transmission_other</th>\n",
       "      <th>fuel_type_cng</th>\n",
       "      <th>fuel_type_diesel</th>\n",
       "      <th>fuel_type_electric</th>\n",
       "      <th>fuel_type_gasoline</th>\n",
       "      <th>fuel_type_lpg</th>\n",
       "      <th>fuel_type_other</th>\n",
       "    </tr>\n",
       "  </thead>\n",
       "  <tbody>\n",
       "    <tr>\n",
       "      <th>0</th>\n",
       "      <td>0.0</td>\n",
       "      <td>0.0</td>\n",
       "      <td>0.0</td>\n",
       "      <td>0.0</td>\n",
       "      <td>0.0</td>\n",
       "      <td>0.0</td>\n",
       "      <td>0.0</td>\n",
       "      <td>0.0</td>\n",
       "      <td>0.0</td>\n",
       "      <td>0.0</td>\n",
       "      <td>...</td>\n",
       "      <td>0.0</td>\n",
       "      <td>0.0</td>\n",
       "      <td>1.0</td>\n",
       "      <td>0.0</td>\n",
       "      <td>0.0</td>\n",
       "      <td>1.0</td>\n",
       "      <td>0.0</td>\n",
       "      <td>0.0</td>\n",
       "      <td>0.0</td>\n",
       "      <td>0.0</td>\n",
       "    </tr>\n",
       "    <tr>\n",
       "      <th>1</th>\n",
       "      <td>0.0</td>\n",
       "      <td>0.0</td>\n",
       "      <td>0.0</td>\n",
       "      <td>0.0</td>\n",
       "      <td>0.0</td>\n",
       "      <td>0.0</td>\n",
       "      <td>0.0</td>\n",
       "      <td>0.0</td>\n",
       "      <td>0.0</td>\n",
       "      <td>0.0</td>\n",
       "      <td>...</td>\n",
       "      <td>0.0</td>\n",
       "      <td>0.0</td>\n",
       "      <td>1.0</td>\n",
       "      <td>0.0</td>\n",
       "      <td>0.0</td>\n",
       "      <td>1.0</td>\n",
       "      <td>0.0</td>\n",
       "      <td>0.0</td>\n",
       "      <td>0.0</td>\n",
       "      <td>0.0</td>\n",
       "    </tr>\n",
       "    <tr>\n",
       "      <th>2</th>\n",
       "      <td>0.0</td>\n",
       "      <td>0.0</td>\n",
       "      <td>0.0</td>\n",
       "      <td>0.0</td>\n",
       "      <td>1.0</td>\n",
       "      <td>0.0</td>\n",
       "      <td>0.0</td>\n",
       "      <td>0.0</td>\n",
       "      <td>0.0</td>\n",
       "      <td>0.0</td>\n",
       "      <td>...</td>\n",
       "      <td>0.0</td>\n",
       "      <td>0.0</td>\n",
       "      <td>1.0</td>\n",
       "      <td>0.0</td>\n",
       "      <td>0.0</td>\n",
       "      <td>1.0</td>\n",
       "      <td>0.0</td>\n",
       "      <td>0.0</td>\n",
       "      <td>0.0</td>\n",
       "      <td>0.0</td>\n",
       "    </tr>\n",
       "  </tbody>\n",
       "</table>\n",
       "<p>3 rows × 64 columns</p>\n",
       "</div>"
      ],
      "text/plain": [
       "   maker_alfa-romeo  maker_aston-martin  maker_audi  maker_bentley  maker_bmw  \\\n",
       "0               0.0                 0.0         0.0            0.0        0.0   \n",
       "1               0.0                 0.0         0.0            0.0        0.0   \n",
       "2               0.0                 0.0         0.0            0.0        1.0   \n",
       "\n",
       "   maker_chevrolet  maker_chrysler  maker_citroen  maker_dacia  maker_dodge  \\\n",
       "0              0.0             0.0            0.0          0.0          0.0   \n",
       "1              0.0             0.0            0.0          0.0          0.0   \n",
       "2              0.0             0.0            0.0          0.0          0.0   \n",
       "\n",
       "   ...  body_type_van  transmission_auto  transmission_man  \\\n",
       "0  ...            0.0                0.0               1.0   \n",
       "1  ...            0.0                0.0               1.0   \n",
       "2  ...            0.0                0.0               1.0   \n",
       "\n",
       "   transmission_other  fuel_type_cng  fuel_type_diesel  fuel_type_electric  \\\n",
       "0                 0.0            0.0               1.0                 0.0   \n",
       "1                 0.0            0.0               1.0                 0.0   \n",
       "2                 0.0            0.0               1.0                 0.0   \n",
       "\n",
       "   fuel_type_gasoline  fuel_type_lpg  fuel_type_other  \n",
       "0                 0.0            0.0              0.0  \n",
       "1                 0.0            0.0              0.0  \n",
       "2                 0.0            0.0              0.0  \n",
       "\n",
       "[3 rows x 64 columns]"
      ]
     },
     "execution_count": 351,
     "metadata": {},
     "output_type": "execute_result"
    }
   ],
   "source": [
    "obj_cols_encoded_df.head(3)"
   ]
  },
  {
   "cell_type": "code",
   "execution_count": 343,
   "id": "988b86ee-ec3b-4cc6-8f52-0be8f09fa068",
   "metadata": {},
   "outputs": [],
   "source": [
    "df_encoded = pd.concat([obj_cols_encoded_df, df_int], axis=1)"
   ]
  },
  {
   "cell_type": "code",
   "execution_count": 345,
   "id": "cf472673-db6c-4b24-b47d-61c4c34e4157",
   "metadata": {},
   "outputs": [
    {
     "data": {
      "text/plain": [
       "Index(['maker_alfa-romeo', 'maker_aston-martin', 'maker_audi', 'maker_bentley',\n",
       "       'maker_bmw', 'maker_chevrolet', 'maker_chrysler', 'maker_citroen',\n",
       "       'maker_dacia', 'maker_dodge',\n",
       "       ...\n",
       "       'vector_290', 'vector_291', 'vector_292', 'vector_293', 'vector_294',\n",
       "       'vector_295', 'vector_296', 'vector_297', 'vector_298', 'vector_299'],\n",
       "      dtype='object', length=373)"
      ]
     },
     "execution_count": 345,
     "metadata": {},
     "output_type": "execute_result"
    }
   ],
   "source": [
    "df_encoded.columns"
   ]
  },
  {
   "cell_type": "code",
   "execution_count": 346,
   "id": "c90113ac-5628-4a30-ad50-c26010c9477c",
   "metadata": {},
   "outputs": [
    {
     "data": {
      "text/plain": [
       "(3033290, 373)"
      ]
     },
     "execution_count": 346,
     "metadata": {},
     "output_type": "execute_result"
    }
   ],
   "source": [
    "df_encoded.shape"
   ]
  },
  {
   "cell_type": "code",
   "execution_count": null,
   "id": "8e89b86b-8be3-4586-9a2a-fb64ada6e0f7",
   "metadata": {},
   "outputs": [],
   "source": []
  },
  {
   "cell_type": "code",
   "execution_count": null,
   "id": "d9013ebe-8155-481f-a3dc-9ad34de01f82",
   "metadata": {},
   "outputs": [],
   "source": []
  },
  {
   "cell_type": "code",
   "execution_count": null,
   "id": "4a99b69c-1259-4b4e-9587-7d4cc8101c32",
   "metadata": {},
   "outputs": [],
   "source": []
  },
  {
   "cell_type": "code",
   "execution_count": null,
   "id": "28160df8-a206-4f58-b3af-fe73f6ff78a4",
   "metadata": {},
   "outputs": [],
   "source": []
  },
  {
   "cell_type": "code",
   "execution_count": null,
   "id": "d3c41e08-9868-415e-aecf-39835f06d480",
   "metadata": {},
   "outputs": [],
   "source": []
  },
  {
   "cell_type": "code",
   "execution_count": null,
   "id": "8ef5d252-018c-4ce0-a545-fe40a82571fd",
   "metadata": {},
   "outputs": [],
   "source": []
  },
  {
   "cell_type": "code",
   "execution_count": null,
   "id": "f03f531a-a32a-4479-9173-e3cd5777c978",
   "metadata": {},
   "outputs": [],
   "source": []
  },
  {
   "cell_type": "code",
   "execution_count": null,
   "id": "722917ef-c1c0-460f-a983-090837375469",
   "metadata": {},
   "outputs": [],
   "source": []
  },
  {
   "cell_type": "code",
   "execution_count": 241,
   "id": "ec7a3812-b45a-454c-bcb5-a5736cdefb93",
   "metadata": {},
   "outputs": [],
   "source": [
    "scaler = StandardScaler()"
   ]
  },
  {
   "cell_type": "code",
   "execution_count": 242,
   "id": "c6b56fd6-ce2e-4b62-add0-6b28bea323ba",
   "metadata": {},
   "outputs": [
    {
     "data": {
      "text/plain": [
       "maker                   object\n",
       "model                   object\n",
       "mileage                  int64\n",
       "manufacture_year         int64\n",
       "engine_displacement      int64\n",
       "                        ...   \n",
       "vector_295             float32\n",
       "vector_296             float32\n",
       "vector_297             float32\n",
       "vector_298             float32\n",
       "vector_299             float32\n",
       "Length: 316, dtype: object"
      ]
     },
     "execution_count": 242,
     "metadata": {},
     "output_type": "execute_result"
    }
   ],
   "source": [
    "df_final.dtypes"
   ]
  },
  {
   "cell_type": "code",
   "execution_count": 248,
   "id": "a9af7c10-61fb-44b2-bcf4-303cda3c292b",
   "metadata": {},
   "outputs": [
    {
     "data": {
      "text/plain": [
       "(3033290, 309)"
      ]
     },
     "execution_count": 248,
     "metadata": {},
     "output_type": "execute_result"
    }
   ],
   "source": [
    "df_int.shape"
   ]
  },
  {
   "cell_type": "code",
   "execution_count": 253,
   "id": "19b53dcb-5165-44b0-ac48-493dcd4b3b79",
   "metadata": {},
   "outputs": [],
   "source": [
    "scaled_features = scaler.fit_transform(df_int)"
   ]
  },
  {
   "cell_type": "code",
   "execution_count": 254,
   "id": "54a4c8be-4dd9-4f12-b576-bfa5cfc30e51",
   "metadata": {},
   "outputs": [
    {
     "data": {
      "text/plain": [
       "array([[ 0.11773583,  0.11590402, -0.01789608, ..., -0.25783421,\n",
       "        -0.26218437,  0.37144227],\n",
       "       [ 0.14746473,  0.12924174, -0.25559234, ..., -0.25783421,\n",
       "        -0.26218437,  0.37144227],\n",
       "       [ 0.47828119, -0.05748625, -0.01908456, ..., -0.25783421,\n",
       "        -0.26218437,  0.37144227],\n",
       "       ...,\n",
       "       [ 0.11451668,  0.12924174, -0.02086729, ...,  0.41460366,\n",
       "         0.69127844, -0.42404317],\n",
       "       [-0.36790589,  0.11590402,  0.06708033, ...,  0.68167915,\n",
       "         0.37436373, -1.27269227],\n",
       "       [-0.36191826,  0.1959303 ,  2.71085698, ...,  0.41460366,\n",
       "         0.69127844, -0.42404317]])"
      ]
     },
     "execution_count": 254,
     "metadata": {},
     "output_type": "execute_result"
    }
   ],
   "source": [
    "scaled_features"
   ]
  },
  {
   "cell_type": "code",
   "execution_count": null,
   "id": "06e34ae9-dafa-4e7a-858e-9e72ace3214e",
   "metadata": {},
   "outputs": [],
   "source": []
  },
  {
   "cell_type": "code",
   "execution_count": null,
   "id": "ed5919b0-323a-42ab-8ddd-f9726d0f1f7d",
   "metadata": {},
   "outputs": [],
   "source": []
  },
  {
   "cell_type": "code",
   "execution_count": 75,
   "id": "36b18b41-dc40-4ffe-9bca-36613644143c",
   "metadata": {
    "collapsed": true,
    "jupyter": {
     "outputs_hidden": true
    },
    "tags": []
   },
   "outputs": [
    {
     "ename": "TypeError",
     "evalue": "'<' not supported between instances of 'str' and 'int'",
     "output_type": "error",
     "traceback": [
      "\u001b[0;31m---------------------------------------------------------------------------\u001b[0m",
      "\u001b[0;31mTypeError\u001b[0m                                 Traceback (most recent call last)",
      "\u001b[0;32m/var/folders/3v/jtn2l28n5zs3r7hqrp339k900000gn/T/ipykernel_29466/4121425227.py\u001b[0m in \u001b[0;36m<module>\u001b[0;34m\u001b[0m\n\u001b[0;32m----> 1\u001b[0;31m \u001b[0mdf\u001b[0m \u001b[0;34m=\u001b[0m \u001b[0mdf\u001b[0m\u001b[0;34m[\u001b[0m\u001b[0mdf\u001b[0m\u001b[0;34m.\u001b[0m\u001b[0mdoor_count\u001b[0m \u001b[0;34m<\u001b[0m \u001b[0;36m10\u001b[0m\u001b[0;34m]\u001b[0m\u001b[0;34m\u001b[0m\u001b[0;34m\u001b[0m\u001b[0m\n\u001b[0m",
      "\u001b[0;32m~/opt/anaconda3/lib/python3.9/site-packages/pandas/core/ops/common.py\u001b[0m in \u001b[0;36mnew_method\u001b[0;34m(self, other)\u001b[0m\n\u001b[1;32m     68\u001b[0m         \u001b[0mother\u001b[0m \u001b[0;34m=\u001b[0m \u001b[0mitem_from_zerodim\u001b[0m\u001b[0;34m(\u001b[0m\u001b[0mother\u001b[0m\u001b[0;34m)\u001b[0m\u001b[0;34m\u001b[0m\u001b[0;34m\u001b[0m\u001b[0m\n\u001b[1;32m     69\u001b[0m \u001b[0;34m\u001b[0m\u001b[0m\n\u001b[0;32m---> 70\u001b[0;31m         \u001b[0;32mreturn\u001b[0m \u001b[0mmethod\u001b[0m\u001b[0;34m(\u001b[0m\u001b[0mself\u001b[0m\u001b[0;34m,\u001b[0m \u001b[0mother\u001b[0m\u001b[0;34m)\u001b[0m\u001b[0;34m\u001b[0m\u001b[0;34m\u001b[0m\u001b[0m\n\u001b[0m\u001b[1;32m     71\u001b[0m \u001b[0;34m\u001b[0m\u001b[0m\n\u001b[1;32m     72\u001b[0m     \u001b[0;32mreturn\u001b[0m \u001b[0mnew_method\u001b[0m\u001b[0;34m\u001b[0m\u001b[0;34m\u001b[0m\u001b[0m\n",
      "\u001b[0;32m~/opt/anaconda3/lib/python3.9/site-packages/pandas/core/arraylike.py\u001b[0m in \u001b[0;36m__lt__\u001b[0;34m(self, other)\u001b[0m\n\u001b[1;32m     46\u001b[0m     \u001b[0;34m@\u001b[0m\u001b[0munpack_zerodim_and_defer\u001b[0m\u001b[0;34m(\u001b[0m\u001b[0;34m\"__lt__\"\u001b[0m\u001b[0;34m)\u001b[0m\u001b[0;34m\u001b[0m\u001b[0;34m\u001b[0m\u001b[0m\n\u001b[1;32m     47\u001b[0m     \u001b[0;32mdef\u001b[0m \u001b[0m__lt__\u001b[0m\u001b[0;34m(\u001b[0m\u001b[0mself\u001b[0m\u001b[0;34m,\u001b[0m \u001b[0mother\u001b[0m\u001b[0;34m)\u001b[0m\u001b[0;34m:\u001b[0m\u001b[0;34m\u001b[0m\u001b[0;34m\u001b[0m\u001b[0m\n\u001b[0;32m---> 48\u001b[0;31m         \u001b[0;32mreturn\u001b[0m \u001b[0mself\u001b[0m\u001b[0;34m.\u001b[0m\u001b[0m_cmp_method\u001b[0m\u001b[0;34m(\u001b[0m\u001b[0mother\u001b[0m\u001b[0;34m,\u001b[0m \u001b[0moperator\u001b[0m\u001b[0;34m.\u001b[0m\u001b[0mlt\u001b[0m\u001b[0;34m)\u001b[0m\u001b[0;34m\u001b[0m\u001b[0;34m\u001b[0m\u001b[0m\n\u001b[0m\u001b[1;32m     49\u001b[0m \u001b[0;34m\u001b[0m\u001b[0m\n\u001b[1;32m     50\u001b[0m     \u001b[0;34m@\u001b[0m\u001b[0munpack_zerodim_and_defer\u001b[0m\u001b[0;34m(\u001b[0m\u001b[0;34m\"__le__\"\u001b[0m\u001b[0;34m)\u001b[0m\u001b[0;34m\u001b[0m\u001b[0;34m\u001b[0m\u001b[0m\n",
      "\u001b[0;32m~/opt/anaconda3/lib/python3.9/site-packages/pandas/core/series.py\u001b[0m in \u001b[0;36m_cmp_method\u001b[0;34m(self, other, op)\u001b[0m\n\u001b[1;32m   5621\u001b[0m \u001b[0;34m\u001b[0m\u001b[0m\n\u001b[1;32m   5622\u001b[0m         \u001b[0;32mwith\u001b[0m \u001b[0mnp\u001b[0m\u001b[0;34m.\u001b[0m\u001b[0merrstate\u001b[0m\u001b[0;34m(\u001b[0m\u001b[0mall\u001b[0m\u001b[0;34m=\u001b[0m\u001b[0;34m\"ignore\"\u001b[0m\u001b[0;34m)\u001b[0m\u001b[0;34m:\u001b[0m\u001b[0;34m\u001b[0m\u001b[0;34m\u001b[0m\u001b[0m\n\u001b[0;32m-> 5623\u001b[0;31m             \u001b[0mres_values\u001b[0m \u001b[0;34m=\u001b[0m \u001b[0mops\u001b[0m\u001b[0;34m.\u001b[0m\u001b[0mcomparison_op\u001b[0m\u001b[0;34m(\u001b[0m\u001b[0mlvalues\u001b[0m\u001b[0;34m,\u001b[0m \u001b[0mrvalues\u001b[0m\u001b[0;34m,\u001b[0m \u001b[0mop\u001b[0m\u001b[0;34m)\u001b[0m\u001b[0;34m\u001b[0m\u001b[0;34m\u001b[0m\u001b[0m\n\u001b[0m\u001b[1;32m   5624\u001b[0m \u001b[0;34m\u001b[0m\u001b[0m\n\u001b[1;32m   5625\u001b[0m         \u001b[0;32mreturn\u001b[0m \u001b[0mself\u001b[0m\u001b[0;34m.\u001b[0m\u001b[0m_construct_result\u001b[0m\u001b[0;34m(\u001b[0m\u001b[0mres_values\u001b[0m\u001b[0;34m,\u001b[0m \u001b[0mname\u001b[0m\u001b[0;34m=\u001b[0m\u001b[0mres_name\u001b[0m\u001b[0;34m)\u001b[0m\u001b[0;34m\u001b[0m\u001b[0;34m\u001b[0m\u001b[0m\n",
      "\u001b[0;32m~/opt/anaconda3/lib/python3.9/site-packages/pandas/core/ops/array_ops.py\u001b[0m in \u001b[0;36mcomparison_op\u001b[0;34m(left, right, op)\u001b[0m\n\u001b[1;32m    281\u001b[0m \u001b[0;34m\u001b[0m\u001b[0m\n\u001b[1;32m    282\u001b[0m     \u001b[0;32melif\u001b[0m \u001b[0mis_object_dtype\u001b[0m\u001b[0;34m(\u001b[0m\u001b[0mlvalues\u001b[0m\u001b[0;34m.\u001b[0m\u001b[0mdtype\u001b[0m\u001b[0;34m)\u001b[0m \u001b[0;32mor\u001b[0m \u001b[0misinstance\u001b[0m\u001b[0;34m(\u001b[0m\u001b[0mrvalues\u001b[0m\u001b[0;34m,\u001b[0m \u001b[0mstr\u001b[0m\u001b[0;34m)\u001b[0m\u001b[0;34m:\u001b[0m\u001b[0;34m\u001b[0m\u001b[0;34m\u001b[0m\u001b[0m\n\u001b[0;32m--> 283\u001b[0;31m         \u001b[0mres_values\u001b[0m \u001b[0;34m=\u001b[0m \u001b[0mcomp_method_OBJECT_ARRAY\u001b[0m\u001b[0;34m(\u001b[0m\u001b[0mop\u001b[0m\u001b[0;34m,\u001b[0m \u001b[0mlvalues\u001b[0m\u001b[0;34m,\u001b[0m \u001b[0mrvalues\u001b[0m\u001b[0;34m)\u001b[0m\u001b[0;34m\u001b[0m\u001b[0;34m\u001b[0m\u001b[0m\n\u001b[0m\u001b[1;32m    284\u001b[0m \u001b[0;34m\u001b[0m\u001b[0m\n\u001b[1;32m    285\u001b[0m     \u001b[0;32melse\u001b[0m\u001b[0;34m:\u001b[0m\u001b[0;34m\u001b[0m\u001b[0;34m\u001b[0m\u001b[0m\n",
      "\u001b[0;32m~/opt/anaconda3/lib/python3.9/site-packages/pandas/core/ops/array_ops.py\u001b[0m in \u001b[0;36mcomp_method_OBJECT_ARRAY\u001b[0;34m(op, x, y)\u001b[0m\n\u001b[1;32m     71\u001b[0m         \u001b[0mresult\u001b[0m \u001b[0;34m=\u001b[0m \u001b[0mlibops\u001b[0m\u001b[0;34m.\u001b[0m\u001b[0mvec_compare\u001b[0m\u001b[0;34m(\u001b[0m\u001b[0mx\u001b[0m\u001b[0;34m.\u001b[0m\u001b[0mravel\u001b[0m\u001b[0;34m(\u001b[0m\u001b[0;34m)\u001b[0m\u001b[0;34m,\u001b[0m \u001b[0my\u001b[0m\u001b[0;34m.\u001b[0m\u001b[0mravel\u001b[0m\u001b[0;34m(\u001b[0m\u001b[0;34m)\u001b[0m\u001b[0;34m,\u001b[0m \u001b[0mop\u001b[0m\u001b[0;34m)\u001b[0m\u001b[0;34m\u001b[0m\u001b[0;34m\u001b[0m\u001b[0m\n\u001b[1;32m     72\u001b[0m     \u001b[0;32melse\u001b[0m\u001b[0;34m:\u001b[0m\u001b[0;34m\u001b[0m\u001b[0;34m\u001b[0m\u001b[0m\n\u001b[0;32m---> 73\u001b[0;31m         \u001b[0mresult\u001b[0m \u001b[0;34m=\u001b[0m \u001b[0mlibops\u001b[0m\u001b[0;34m.\u001b[0m\u001b[0mscalar_compare\u001b[0m\u001b[0;34m(\u001b[0m\u001b[0mx\u001b[0m\u001b[0;34m.\u001b[0m\u001b[0mravel\u001b[0m\u001b[0;34m(\u001b[0m\u001b[0;34m)\u001b[0m\u001b[0;34m,\u001b[0m \u001b[0my\u001b[0m\u001b[0;34m,\u001b[0m \u001b[0mop\u001b[0m\u001b[0;34m)\u001b[0m\u001b[0;34m\u001b[0m\u001b[0;34m\u001b[0m\u001b[0m\n\u001b[0m\u001b[1;32m     74\u001b[0m     \u001b[0;32mreturn\u001b[0m \u001b[0mresult\u001b[0m\u001b[0;34m.\u001b[0m\u001b[0mreshape\u001b[0m\u001b[0;34m(\u001b[0m\u001b[0mx\u001b[0m\u001b[0;34m.\u001b[0m\u001b[0mshape\u001b[0m\u001b[0;34m)\u001b[0m\u001b[0;34m\u001b[0m\u001b[0;34m\u001b[0m\u001b[0m\n\u001b[1;32m     75\u001b[0m \u001b[0;34m\u001b[0m\u001b[0m\n",
      "\u001b[0;32m~/opt/anaconda3/lib/python3.9/site-packages/pandas/_libs/ops.pyx\u001b[0m in \u001b[0;36mpandas._libs.ops.scalar_compare\u001b[0;34m()\u001b[0m\n",
      "\u001b[0;31mTypeError\u001b[0m: '<' not supported between instances of 'str' and 'int'"
     ]
    }
   ],
   "source": [
    "df = df[df.door_count < 10]"
   ]
  },
  {
   "cell_type": "code",
   "execution_count": 73,
   "id": "fb9a1cf9-9272-4394-bddd-b1f23d63af5f",
   "metadata": {},
   "outputs": [
    {
     "data": {
      "text/plain": [
       "None    1308651\n",
       "2018     183761\n",
       "2017     180675\n",
       "2016     124781\n",
       "2019      44209\n",
       "2015        869\n",
       "2020        859\n",
       "2021         79\n",
       "3000         75\n",
       "2500         59\n",
       "3500         34\n",
       "2600         24\n",
       "2200         24\n",
       "7990         23\n",
       "2300         20\n",
       "Name: stk_year, dtype: int64"
      ]
     },
     "execution_count": 73,
     "metadata": {},
     "output_type": "execute_result"
    }
   ],
   "source": [
    "df.stk_year.value_counts()[:15]"
   ]
  },
  {
   "cell_type": "code",
   "execution_count": null,
   "id": "2f360b9a-2479-48d2-94e8-e472ebd63931",
   "metadata": {},
   "outputs": [],
   "source": []
  },
  {
   "cell_type": "code",
   "execution_count": 74,
   "id": "97d43ffb-223a-44cf-868c-80c9a3295090",
   "metadata": {},
   "outputs": [
    {
     "data": {
      "text/plain": [
       "4       1130741\n",
       "5        894084\n",
       "0        614373\n",
       "None     475693\n",
       "2        307824\n",
       "3        120593\n",
       "0          8010\n",
       "6          1253\n",
       "1           273\n",
       "7            43\n",
       "55            9\n",
       "9             4\n",
       "8             3\n",
       "58            3\n",
       "54            1\n",
       "Name: door_count, dtype: int64"
      ]
     },
     "execution_count": 74,
     "metadata": {},
     "output_type": "execute_result"
    }
   ],
   "source": [
    "df.door_count.value_counts()[:15]"
   ]
  },
  {
   "cell_type": "code",
   "execution_count": null,
   "id": "03e4011e-911e-4b34-8b9b-149482f690b1",
   "metadata": {},
   "outputs": [],
   "source": []
  },
  {
   "cell_type": "code",
   "execution_count": 32,
   "id": "7f2ccde5-2192-4062-9e16-690343bcc8d7",
   "metadata": {},
   "outputs": [
    {
     "name": "stdout",
     "output_type": "stream",
     "text": [
      "More than 0% miss: \n",
      "['maker', 'model', 'mileage', 'manufacture_year', 'engine_displacement', 'engine_power', 'body_type', 'color_slug', 'stk_year', 'transmission', 'door_count', 'seat_count', 'fuel_type']\n",
      "\n",
      "More than 40% miss: \n",
      "[]\n"
     ]
    }
   ],
   "source": [
    "columns_with_more_than_40_miss = []\n",
    "columns_with_more_than_0_miss = []\n",
    "\n",
    "for column in df.columns:\n",
    "    pd_series = df[column]\n",
    "    nans = pd_series.isnull().sum()\n",
    "    nans_perc = nans / n * 100\n",
    "    if nans_perc > 0:\n",
    "        columns_with_more_than_0_miss.append(column)\n",
    "    elif nans_perc  > 90:\n",
    "        columns_with_more_than_40_miss.append(column)\n",
    "\n",
    "        \n",
    "print(f'More than 0% miss: \\n{columns_with_more_than_0_miss}')\n",
    "print()\n",
    "print(f'More than 40% miss: \\n{columns_with_more_than_40_miss}')"
   ]
  },
  {
   "cell_type": "code",
   "execution_count": null,
   "id": "6d4262e9-9c08-41f0-b253-e8f1096bc2c6",
   "metadata": {},
   "outputs": [],
   "source": []
  },
  {
   "cell_type": "markdown",
   "id": "7d9f4d10-abc4-495b-b844-c204fafd67d8",
   "metadata": {},
   "source": [
    "## For clusterization we will work with K-means and agglomerative clustering algorithms. Both algorithms are designed to work only with numerical values, so we need to make encoding for nonnumerical values. This is because they are distance-based clustering algorithms, meaning they rely on calculating distances between data points to determine their similarity or dissimilarity"
   ]
  },
  {
   "cell_type": "code",
   "execution_count": null,
   "id": "a8848b38-f4cc-4a0d-996d-a90d3591f8b2",
   "metadata": {},
   "outputs": [],
   "source": []
  },
  {
   "cell_type": "code",
   "execution_count": null,
   "id": "4f5b005d-9d4b-4f54-b672-1ac54daf0fd6",
   "metadata": {},
   "outputs": [],
   "source": []
  },
  {
   "cell_type": "code",
   "execution_count": null,
   "id": "ec1e3647-9507-4d94-9a06-184fc9f0647c",
   "metadata": {},
   "outputs": [],
   "source": []
  },
  {
   "cell_type": "markdown",
   "id": "6de65754-254a-4488-b21e-69502f0d3a13",
   "metadata": {},
   "source": [
    "## Clusterization"
   ]
  },
  {
   "cell_type": "markdown",
   "id": "53ebf45b-bbe9-4f7b-af19-6a11414f286d",
   "metadata": {},
   "source": [
    "For clusterization we will use Kmeans and Agglomerative clustering algorithms. For evaluation the accuracy of algorithms we will use silhoue score."
   ]
  },
  {
   "cell_type": "markdown",
   "id": "1f8f1afc-d12b-4c5e-88f2-3f0f196226d6",
   "metadata": {},
   "source": [
    "We will consider number of clusters from 2 to 20 and compare silhoue score. After that it will be possible to say what algorithm and what number of clusters is optimal for clustering the cars based on their various attributes."
   ]
  },
  {
   "cell_type": "markdown",
   "id": "782c7d59-f8ef-4a31-b0ee-e7f41238c07f",
   "metadata": {},
   "source": [
    "The silhouette score is a measure of cluster cohesion and separation. It quantifies how well a data point fits into its assigned cluster based on two factors:\n",
    "\n",
    "1) How close the data point is to other points in the cluster \n",
    "2) How far away the data point is from points in other clusters"
   ]
  },
  {
   "cell_type": "code",
   "execution_count": 251,
   "id": "8ed9298d-30c8-43a1-9f6b-aeb44a8a4ee0",
   "metadata": {},
   "outputs": [],
   "source": [
    "from sklearn.cluster import KMeans, AgglomerativeClustering\n",
    "from sklearn.metrics import silhouette_score\n",
    "from sklearn.preprocessing import LabelEncoder, MinMaxScaler, StandardScaler"
   ]
  },
  {
   "cell_type": "code",
   "execution_count": 252,
   "id": "704b61bf-0968-4008-ae3c-65d72e01379d",
   "metadata": {},
   "outputs": [],
   "source": [
    "k_list = []\n",
    "kmean_scores = []\n",
    "agglo_scores = []"
   ]
  },
  {
   "cell_type": "code",
   "execution_count": null,
   "id": "fa60ed6e-25d5-43e4-a119-65eb265b2c3d",
   "metadata": {},
   "outputs": [],
   "source": [
    "scaler = StandardScaler()\n",
    "scaled_features = scaler.fit_transform(features)"
   ]
  },
  {
   "cell_type": "code",
   "execution_count": 256,
   "id": "5b5370a4-57f0-4abe-95e3-4ea5f328402b",
   "metadata": {},
   "outputs": [],
   "source": [
    "n_clusters = 5"
   ]
  },
  {
   "cell_type": "code",
   "execution_count": 257,
   "id": "5f36f1c4-344b-43ff-8856-fa22a299e1ea",
   "metadata": {},
   "outputs": [
    {
     "ename": "KeyboardInterrupt",
     "evalue": "",
     "output_type": "error",
     "traceback": [
      "\u001b[0;31m---------------------------------------------------------------------------\u001b[0m",
      "\u001b[0;31mKeyboardInterrupt\u001b[0m                         Traceback (most recent call last)",
      "\u001b[0;32m/var/folders/3v/jtn2l28n5zs3r7hqrp339k900000gn/T/ipykernel_5375/2278390021.py\u001b[0m in \u001b[0;36m<module>\u001b[0;34m\u001b[0m\n\u001b[1;32m      7\u001b[0m \u001b[0;31m# df_final_kmeans['method_name'] = methods\u001b[0m\u001b[0;34m\u001b[0m\u001b[0;34m\u001b[0m\u001b[0m\n\u001b[1;32m      8\u001b[0m \u001b[0mlabels_kmeans\u001b[0m \u001b[0;34m=\u001b[0m \u001b[0mkmeans\u001b[0m\u001b[0;34m.\u001b[0m\u001b[0mlabels_\u001b[0m\u001b[0;34m\u001b[0m\u001b[0;34m\u001b[0m\u001b[0m\n\u001b[0;32m----> 9\u001b[0;31m \u001b[0mkmean_scores\u001b[0m\u001b[0;34m.\u001b[0m\u001b[0mappend\u001b[0m\u001b[0;34m(\u001b[0m\u001b[0msilhouette_score\u001b[0m\u001b[0;34m(\u001b[0m\u001b[0mscaled_features\u001b[0m\u001b[0;34m,\u001b[0m \u001b[0mlabels_kmeans\u001b[0m\u001b[0;34m,\u001b[0m \u001b[0mmetric\u001b[0m\u001b[0;34m=\u001b[0m\u001b[0;34m'euclidean'\u001b[0m\u001b[0;34m)\u001b[0m\u001b[0;34m)\u001b[0m\u001b[0;34m\u001b[0m\u001b[0;34m\u001b[0m\u001b[0m\n\u001b[0m\u001b[1;32m     10\u001b[0m \u001b[0;34m\u001b[0m\u001b[0m\n\u001b[1;32m     11\u001b[0m \u001b[0;34m\u001b[0m\u001b[0m\n",
      "\u001b[0;32m~/opt/anaconda3/lib/python3.9/site-packages/sklearn/metrics/cluster/_unsupervised.py\u001b[0m in \u001b[0;36msilhouette_score\u001b[0;34m(X, labels, metric, sample_size, random_state, **kwds)\u001b[0m\n\u001b[1;32m    115\u001b[0m         \u001b[0;32melse\u001b[0m\u001b[0;34m:\u001b[0m\u001b[0;34m\u001b[0m\u001b[0;34m\u001b[0m\u001b[0m\n\u001b[1;32m    116\u001b[0m             \u001b[0mX\u001b[0m\u001b[0;34m,\u001b[0m \u001b[0mlabels\u001b[0m \u001b[0;34m=\u001b[0m \u001b[0mX\u001b[0m\u001b[0;34m[\u001b[0m\u001b[0mindices\u001b[0m\u001b[0;34m]\u001b[0m\u001b[0;34m,\u001b[0m \u001b[0mlabels\u001b[0m\u001b[0;34m[\u001b[0m\u001b[0mindices\u001b[0m\u001b[0;34m]\u001b[0m\u001b[0;34m\u001b[0m\u001b[0;34m\u001b[0m\u001b[0m\n\u001b[0;32m--> 117\u001b[0;31m     \u001b[0;32mreturn\u001b[0m \u001b[0mnp\u001b[0m\u001b[0;34m.\u001b[0m\u001b[0mmean\u001b[0m\u001b[0;34m(\u001b[0m\u001b[0msilhouette_samples\u001b[0m\u001b[0;34m(\u001b[0m\u001b[0mX\u001b[0m\u001b[0;34m,\u001b[0m \u001b[0mlabels\u001b[0m\u001b[0;34m,\u001b[0m \u001b[0mmetric\u001b[0m\u001b[0;34m=\u001b[0m\u001b[0mmetric\u001b[0m\u001b[0;34m,\u001b[0m \u001b[0;34m**\u001b[0m\u001b[0mkwds\u001b[0m\u001b[0;34m)\u001b[0m\u001b[0;34m)\u001b[0m\u001b[0;34m\u001b[0m\u001b[0;34m\u001b[0m\u001b[0m\n\u001b[0m\u001b[1;32m    118\u001b[0m \u001b[0;34m\u001b[0m\u001b[0m\n\u001b[1;32m    119\u001b[0m \u001b[0;34m\u001b[0m\u001b[0m\n",
      "\u001b[0;32m~/opt/anaconda3/lib/python3.9/site-packages/sklearn/metrics/cluster/_unsupervised.py\u001b[0m in \u001b[0;36msilhouette_samples\u001b[0;34m(X, labels, metric, **kwds)\u001b[0m\n\u001b[1;32m    231\u001b[0m         \u001b[0m_silhouette_reduce\u001b[0m\u001b[0;34m,\u001b[0m \u001b[0mlabels\u001b[0m\u001b[0;34m=\u001b[0m\u001b[0mlabels\u001b[0m\u001b[0;34m,\u001b[0m \u001b[0mlabel_freqs\u001b[0m\u001b[0;34m=\u001b[0m\u001b[0mlabel_freqs\u001b[0m\u001b[0;34m\u001b[0m\u001b[0;34m\u001b[0m\u001b[0m\n\u001b[1;32m    232\u001b[0m     )\n\u001b[0;32m--> 233\u001b[0;31m     \u001b[0mresults\u001b[0m \u001b[0;34m=\u001b[0m \u001b[0mzip\u001b[0m\u001b[0;34m(\u001b[0m\u001b[0;34m*\u001b[0m\u001b[0mpairwise_distances_chunked\u001b[0m\u001b[0;34m(\u001b[0m\u001b[0mX\u001b[0m\u001b[0;34m,\u001b[0m \u001b[0mreduce_func\u001b[0m\u001b[0;34m=\u001b[0m\u001b[0mreduce_func\u001b[0m\u001b[0;34m,\u001b[0m \u001b[0;34m**\u001b[0m\u001b[0mkwds\u001b[0m\u001b[0;34m)\u001b[0m\u001b[0;34m)\u001b[0m\u001b[0;34m\u001b[0m\u001b[0;34m\u001b[0m\u001b[0m\n\u001b[0m\u001b[1;32m    234\u001b[0m     \u001b[0mintra_clust_dists\u001b[0m\u001b[0;34m,\u001b[0m \u001b[0minter_clust_dists\u001b[0m \u001b[0;34m=\u001b[0m \u001b[0mresults\u001b[0m\u001b[0;34m\u001b[0m\u001b[0;34m\u001b[0m\u001b[0m\n\u001b[1;32m    235\u001b[0m     \u001b[0mintra_clust_dists\u001b[0m \u001b[0;34m=\u001b[0m \u001b[0mnp\u001b[0m\u001b[0;34m.\u001b[0m\u001b[0mconcatenate\u001b[0m\u001b[0;34m(\u001b[0m\u001b[0mintra_clust_dists\u001b[0m\u001b[0;34m)\u001b[0m\u001b[0;34m\u001b[0m\u001b[0;34m\u001b[0m\u001b[0m\n",
      "\u001b[0;32m~/opt/anaconda3/lib/python3.9/site-packages/sklearn/metrics/pairwise.py\u001b[0m in \u001b[0;36mpairwise_distances_chunked\u001b[0;34m(X, Y, reduce_func, metric, n_jobs, working_memory, **kwds)\u001b[0m\n\u001b[1;32m   1715\u001b[0m         \u001b[0;32melse\u001b[0m\u001b[0;34m:\u001b[0m\u001b[0;34m\u001b[0m\u001b[0;34m\u001b[0m\u001b[0m\n\u001b[1;32m   1716\u001b[0m             \u001b[0mX_chunk\u001b[0m \u001b[0;34m=\u001b[0m \u001b[0mX\u001b[0m\u001b[0;34m[\u001b[0m\u001b[0msl\u001b[0m\u001b[0;34m]\u001b[0m\u001b[0;34m\u001b[0m\u001b[0;34m\u001b[0m\u001b[0m\n\u001b[0;32m-> 1717\u001b[0;31m         \u001b[0mD_chunk\u001b[0m \u001b[0;34m=\u001b[0m \u001b[0mpairwise_distances\u001b[0m\u001b[0;34m(\u001b[0m\u001b[0mX_chunk\u001b[0m\u001b[0;34m,\u001b[0m \u001b[0mY\u001b[0m\u001b[0;34m,\u001b[0m \u001b[0mmetric\u001b[0m\u001b[0;34m=\u001b[0m\u001b[0mmetric\u001b[0m\u001b[0;34m,\u001b[0m \u001b[0mn_jobs\u001b[0m\u001b[0;34m=\u001b[0m\u001b[0mn_jobs\u001b[0m\u001b[0;34m,\u001b[0m \u001b[0;34m**\u001b[0m\u001b[0mkwds\u001b[0m\u001b[0;34m)\u001b[0m\u001b[0;34m\u001b[0m\u001b[0;34m\u001b[0m\u001b[0m\n\u001b[0m\u001b[1;32m   1718\u001b[0m         if (X is Y or Y is None) and PAIRWISE_DISTANCE_FUNCTIONS.get(\n\u001b[1;32m   1719\u001b[0m             \u001b[0mmetric\u001b[0m\u001b[0;34m,\u001b[0m \u001b[0;32mNone\u001b[0m\u001b[0;34m\u001b[0m\u001b[0;34m\u001b[0m\u001b[0m\n",
      "\u001b[0;32m~/opt/anaconda3/lib/python3.9/site-packages/sklearn/metrics/pairwise.py\u001b[0m in \u001b[0;36mpairwise_distances\u001b[0;34m(X, Y, metric, n_jobs, force_all_finite, **kwds)\u001b[0m\n\u001b[1;32m   1887\u001b[0m         \u001b[0mfunc\u001b[0m \u001b[0;34m=\u001b[0m \u001b[0mpartial\u001b[0m\u001b[0;34m(\u001b[0m\u001b[0mdistance\u001b[0m\u001b[0;34m.\u001b[0m\u001b[0mcdist\u001b[0m\u001b[0;34m,\u001b[0m \u001b[0mmetric\u001b[0m\u001b[0;34m=\u001b[0m\u001b[0mmetric\u001b[0m\u001b[0;34m,\u001b[0m \u001b[0;34m**\u001b[0m\u001b[0mkwds\u001b[0m\u001b[0;34m)\u001b[0m\u001b[0;34m\u001b[0m\u001b[0;34m\u001b[0m\u001b[0m\n\u001b[1;32m   1888\u001b[0m \u001b[0;34m\u001b[0m\u001b[0m\n\u001b[0;32m-> 1889\u001b[0;31m     \u001b[0;32mreturn\u001b[0m \u001b[0m_parallel_pairwise\u001b[0m\u001b[0;34m(\u001b[0m\u001b[0mX\u001b[0m\u001b[0;34m,\u001b[0m \u001b[0mY\u001b[0m\u001b[0;34m,\u001b[0m \u001b[0mfunc\u001b[0m\u001b[0;34m,\u001b[0m \u001b[0mn_jobs\u001b[0m\u001b[0;34m,\u001b[0m \u001b[0;34m**\u001b[0m\u001b[0mkwds\u001b[0m\u001b[0;34m)\u001b[0m\u001b[0;34m\u001b[0m\u001b[0;34m\u001b[0m\u001b[0m\n\u001b[0m\u001b[1;32m   1890\u001b[0m \u001b[0;34m\u001b[0m\u001b[0m\n\u001b[1;32m   1891\u001b[0m \u001b[0;34m\u001b[0m\u001b[0m\n",
      "\u001b[0;32m~/opt/anaconda3/lib/python3.9/site-packages/sklearn/metrics/pairwise.py\u001b[0m in \u001b[0;36m_parallel_pairwise\u001b[0;34m(X, Y, func, n_jobs, **kwds)\u001b[0m\n\u001b[1;32m   1428\u001b[0m \u001b[0;34m\u001b[0m\u001b[0m\n\u001b[1;32m   1429\u001b[0m     \u001b[0;32mif\u001b[0m \u001b[0meffective_n_jobs\u001b[0m\u001b[0;34m(\u001b[0m\u001b[0mn_jobs\u001b[0m\u001b[0;34m)\u001b[0m \u001b[0;34m==\u001b[0m \u001b[0;36m1\u001b[0m\u001b[0;34m:\u001b[0m\u001b[0;34m\u001b[0m\u001b[0;34m\u001b[0m\u001b[0m\n\u001b[0;32m-> 1430\u001b[0;31m         \u001b[0;32mreturn\u001b[0m \u001b[0mfunc\u001b[0m\u001b[0;34m(\u001b[0m\u001b[0mX\u001b[0m\u001b[0;34m,\u001b[0m \u001b[0mY\u001b[0m\u001b[0;34m,\u001b[0m \u001b[0;34m**\u001b[0m\u001b[0mkwds\u001b[0m\u001b[0;34m)\u001b[0m\u001b[0;34m\u001b[0m\u001b[0;34m\u001b[0m\u001b[0m\n\u001b[0m\u001b[1;32m   1431\u001b[0m \u001b[0;34m\u001b[0m\u001b[0m\n\u001b[1;32m   1432\u001b[0m     \u001b[0;31m# enforce a threading backend to prevent data communication overhead\u001b[0m\u001b[0;34m\u001b[0m\u001b[0;34m\u001b[0m\u001b[0m\n",
      "\u001b[0;32m~/opt/anaconda3/lib/python3.9/site-packages/sklearn/metrics/pairwise.py\u001b[0m in \u001b[0;36meuclidean_distances\u001b[0;34m(X, Y, Y_norm_squared, squared, X_norm_squared)\u001b[0m\n\u001b[1;32m    328\u001b[0m             )\n\u001b[1;32m    329\u001b[0m \u001b[0;34m\u001b[0m\u001b[0m\n\u001b[0;32m--> 330\u001b[0;31m     \u001b[0;32mreturn\u001b[0m \u001b[0m_euclidean_distances\u001b[0m\u001b[0;34m(\u001b[0m\u001b[0mX\u001b[0m\u001b[0;34m,\u001b[0m \u001b[0mY\u001b[0m\u001b[0;34m,\u001b[0m \u001b[0mX_norm_squared\u001b[0m\u001b[0;34m,\u001b[0m \u001b[0mY_norm_squared\u001b[0m\u001b[0;34m,\u001b[0m \u001b[0msquared\u001b[0m\u001b[0;34m)\u001b[0m\u001b[0;34m\u001b[0m\u001b[0;34m\u001b[0m\u001b[0m\n\u001b[0m\u001b[1;32m    331\u001b[0m \u001b[0;34m\u001b[0m\u001b[0m\n\u001b[1;32m    332\u001b[0m \u001b[0;34m\u001b[0m\u001b[0m\n",
      "\u001b[0;32m~/opt/anaconda3/lib/python3.9/site-packages/sklearn/metrics/pairwise.py\u001b[0m in \u001b[0;36m_euclidean_distances\u001b[0;34m(X, Y, X_norm_squared, Y_norm_squared, squared)\u001b[0m\n\u001b[1;32m    369\u001b[0m     \u001b[0;32melse\u001b[0m\u001b[0;34m:\u001b[0m\u001b[0;34m\u001b[0m\u001b[0;34m\u001b[0m\u001b[0m\n\u001b[1;32m    370\u001b[0m         \u001b[0;31m# if dtype is already float64, no need to chunk and upcast\u001b[0m\u001b[0;34m\u001b[0m\u001b[0;34m\u001b[0m\u001b[0m\n\u001b[0;32m--> 371\u001b[0;31m         \u001b[0mdistances\u001b[0m \u001b[0;34m=\u001b[0m \u001b[0;34m-\u001b[0m\u001b[0;36m2\u001b[0m \u001b[0;34m*\u001b[0m \u001b[0msafe_sparse_dot\u001b[0m\u001b[0;34m(\u001b[0m\u001b[0mX\u001b[0m\u001b[0;34m,\u001b[0m \u001b[0mY\u001b[0m\u001b[0;34m.\u001b[0m\u001b[0mT\u001b[0m\u001b[0;34m,\u001b[0m \u001b[0mdense_output\u001b[0m\u001b[0;34m=\u001b[0m\u001b[0;32mTrue\u001b[0m\u001b[0;34m)\u001b[0m\u001b[0;34m\u001b[0m\u001b[0;34m\u001b[0m\u001b[0m\n\u001b[0m\u001b[1;32m    372\u001b[0m         \u001b[0mdistances\u001b[0m \u001b[0;34m+=\u001b[0m \u001b[0mXX\u001b[0m\u001b[0;34m\u001b[0m\u001b[0;34m\u001b[0m\u001b[0m\n\u001b[1;32m    373\u001b[0m         \u001b[0mdistances\u001b[0m \u001b[0;34m+=\u001b[0m \u001b[0mYY\u001b[0m\u001b[0;34m\u001b[0m\u001b[0;34m\u001b[0m\u001b[0m\n",
      "\u001b[0;32m~/opt/anaconda3/lib/python3.9/site-packages/sklearn/utils/extmath.py\u001b[0m in \u001b[0;36msafe_sparse_dot\u001b[0;34m(a, b, dense_output)\u001b[0m\n\u001b[1;32m    151\u001b[0m             \u001b[0mret\u001b[0m \u001b[0;34m=\u001b[0m \u001b[0mnp\u001b[0m\u001b[0;34m.\u001b[0m\u001b[0mdot\u001b[0m\u001b[0;34m(\u001b[0m\u001b[0ma\u001b[0m\u001b[0;34m,\u001b[0m \u001b[0mb\u001b[0m\u001b[0;34m)\u001b[0m\u001b[0;34m\u001b[0m\u001b[0;34m\u001b[0m\u001b[0m\n\u001b[1;32m    152\u001b[0m     \u001b[0;32melse\u001b[0m\u001b[0;34m:\u001b[0m\u001b[0;34m\u001b[0m\u001b[0;34m\u001b[0m\u001b[0m\n\u001b[0;32m--> 153\u001b[0;31m         \u001b[0mret\u001b[0m \u001b[0;34m=\u001b[0m \u001b[0ma\u001b[0m \u001b[0;34m@\u001b[0m \u001b[0mb\u001b[0m\u001b[0;34m\u001b[0m\u001b[0;34m\u001b[0m\u001b[0m\n\u001b[0m\u001b[1;32m    154\u001b[0m \u001b[0;34m\u001b[0m\u001b[0m\n\u001b[1;32m    155\u001b[0m     if (\n",
      "\u001b[0;31mKeyboardInterrupt\u001b[0m: "
     ]
    }
   ],
   "source": [
    "# k_list.append(j)\n",
    "# Implementation for Kmeans\n",
    "kmeans = KMeans(n_clusters=n_clusters, random_state=0)\n",
    "kmeans.fit_predict(scaled_features)\n",
    "# df_final_kmeans = pd.DataFrame()\n",
    "# df_final_kmeans['cluster_id'] = kmeans.labels_\n",
    "# df_final_kmeans['method_name'] = methods\n",
    "labels_kmeans = kmeans.labels_\n",
    "kmean_scores.append(silhouette_score(scaled_features, labels_kmeans, metric='euclidean'))\n",
    "\n",
    "\n",
    "# # Implementation for Agglo\n",
    "# cluster = AgglomerativeClustering(n_clusters=n_clusters)\n",
    "# cluster.fit_predict(scaled_features)\n",
    "# # df_final_agglo = pd.DataFrame()\n",
    "# # df_final_agglo['cluster_id'] = cluster.labels_\n",
    "# # df_final_agglo['method_name'] = methods\n",
    "# labels_agglo = cluster.labels_\n",
    "# agglo_scores.append(silhouette_score(scaled_features, labels_agglo, metric='euclidean'))"
   ]
  },
  {
   "cell_type": "code",
   "execution_count": null,
   "id": "6f7c24a0-9119-43b5-8057-44581d90dea2",
   "metadata": {},
   "outputs": [],
   "source": [
    "kmean_scores"
   ]
  },
  {
   "cell_type": "code",
   "execution_count": null,
   "id": "f5251efb-ab86-40ac-8669-dca052716e0c",
   "metadata": {},
   "outputs": [],
   "source": []
  },
  {
   "cell_type": "code",
   "execution_count": null,
   "id": "ee2560b5-48e9-4800-bb7b-201cb442b9fa",
   "metadata": {},
   "outputs": [],
   "source": [
    "for j in range(2, 20):\n",
    "    n_clusters = j\n",
    "    k_list.append(j)\n",
    "    # Implementation for Kmeans\n",
    "    kmeans = KMeans(n_clusters=n_clusters, random_state=0)\n",
    "    kmeans.fit_predict(scaled_features)\n",
    "    # df_final_kmeans = pd.DataFrame()\n",
    "    # df_final_kmeans['cluster_id'] = kmeans.labels_\n",
    "    # df_final_kmeans['method_name'] = methods\n",
    "    labels_kmeans = kmeans.labels_\n",
    "    kmean_scores.append(silhouette_score(scaled_features, labels_kmeans, metric='euclidean'))\n",
    "\n",
    "\n",
    "    # Implementation for Agglo\n",
    "    cluster = AgglomerativeClustering(n_clusters=n_clusters)\n",
    "    cluster.fit_predict(scaled_features)\n",
    "    # df_final_agglo = pd.DataFrame()\n",
    "    # df_final_agglo['cluster_id'] = cluster.labels_\n",
    "    # df_final_agglo['method_name'] = methods\n",
    "    labels_agglo = cluster.labels_\n",
    "    agglo_scores.append(silhouette_score(scaled_features, labels_agglo, metric='euclidean'))\n",
    "    \n"
   ]
  },
  {
   "cell_type": "code",
   "execution_count": null,
   "id": "8ff89e13-824a-4ef1-b237-6a2b0849b7c0",
   "metadata": {},
   "outputs": [],
   "source": []
  },
  {
   "cell_type": "code",
   "execution_count": null,
   "id": "2cec6e6d-53dc-49fc-9bf6-1c7115e9a8de",
   "metadata": {},
   "outputs": [],
   "source": []
  },
  {
   "cell_type": "code",
   "execution_count": null,
   "id": "37c7db7c-24e3-4487-9ea7-aa7c046e816b",
   "metadata": {},
   "outputs": [],
   "source": []
  },
  {
   "cell_type": "code",
   "execution_count": null,
   "id": "ebf09a68-1f30-48b5-8a03-921f85f680e6",
   "metadata": {},
   "outputs": [],
   "source": [
    "final_df = pd.DataFrame()\n",
    "final_df['K'] = k_list\n",
    "final_df['K_mean'] = kmean_scores\n",
    "final_df['Agglo'] = agglo_scores"
   ]
  },
  {
   "cell_type": "code",
   "execution_count": null,
   "id": "0a3b3c5d-6284-4b6b-a70f-1c65598510e3",
   "metadata": {},
   "outputs": [],
   "source": []
  },
  {
   "cell_type": "markdown",
   "id": "26ab95e9-34eb-4c07-934e-ea30d7ed7156",
   "metadata": {},
   "source": [
    "Also we would like to plot Silhoue scores for Kmeans and Agglomerative clustering algorithms. "
   ]
  },
  {
   "cell_type": "code",
   "execution_count": null,
   "id": "b714de0d-e1e5-439d-88a7-69fdf550bf8c",
   "metadata": {},
   "outputs": [],
   "source": [
    "plt.style.use(\"fivethirtyeight\")\n",
    "plt.plot(range(2, 20), kmean_scores, label = 'Kmeans')\n",
    "plt.plot(range(2, 20), agglo_scores, label = \"Agglomerative\")\n",
    "plt.xticks(range(2, 20))\n",
    "plt.xlabel(\"Number of Clusters\")\n",
    "plt.ylabel(\"Silhouette Coefficient\")\n",
    "plt.show()"
   ]
  },
  {
   "cell_type": "code",
   "execution_count": null,
   "id": "6678e0bc-df2a-4240-a2cb-59c911f4d46f",
   "metadata": {},
   "outputs": [],
   "source": []
  },
  {
   "cell_type": "code",
   "execution_count": null,
   "id": "a61d308b-d0ad-4349-874e-9e341fffe33b",
   "metadata": {},
   "outputs": [],
   "source": []
  },
  {
   "cell_type": "code",
   "execution_count": null,
   "id": "2875d8d6-b543-4bca-a46a-1ef658ab8016",
   "metadata": {},
   "outputs": [],
   "source": []
  },
  {
   "cell_type": "code",
   "execution_count": null,
   "id": "c1f22ea2-9056-467d-8926-5b08f3277d32",
   "metadata": {},
   "outputs": [],
   "source": []
  },
  {
   "cell_type": "code",
   "execution_count": null,
   "id": "48cfd0b8-6167-454b-91ba-2c4b8929edc1",
   "metadata": {},
   "outputs": [],
   "source": []
  }
 ],
 "metadata": {
  "kernelspec": {
   "display_name": "Python 3 (ipykernel)",
   "language": "python",
   "name": "python3"
  },
  "language_info": {
   "codemirror_mode": {
    "name": "ipython",
    "version": 3
   },
   "file_extension": ".py",
   "mimetype": "text/x-python",
   "name": "python",
   "nbconvert_exporter": "python",
   "pygments_lexer": "ipython3",
   "version": "3.9.13"
  }
 },
 "nbformat": 4,
 "nbformat_minor": 5
}
